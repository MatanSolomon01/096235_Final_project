{
 "cells": [
  {
   "cell_type": "markdown",
   "metadata": {
    "collapsed": true,
    "pycharm": {
     "name": "#%% md\n"
    }
   },
   "source": [
    "# GNN demo"
   ]
  },
  {
   "cell_type": "markdown",
   "source": [
    "## Imports"
   ],
   "metadata": {
    "collapsed": false,
    "pycharm": {
     "name": "#%% md\n"
    }
   }
  },
  {
   "cell_type": "code",
   "execution_count": 1,
   "outputs": [],
   "source": [
    "from typing import Union, List, Tuple\n",
    "\n",
    "import pandas as pd\n",
    "import pickle as pkl\n",
    "import numpy as np\n",
    "from torch_geometric.data import InMemoryDataset, Data\n",
    "import torch\n",
    "\n",
    "path2root = '.'"
   ],
   "metadata": {
    "collapsed": false,
    "pycharm": {
     "name": "#%%\n"
    }
   }
  },
  {
   "cell_type": "markdown",
   "source": [
    "## Load data"
   ],
   "metadata": {
    "collapsed": false,
    "pycharm": {
     "name": "#%% md\n"
    }
   }
  },
  {
   "cell_type": "code",
   "execution_count": 2,
   "outputs": [
    {
     "data": {
      "text/plain": "dict_keys(['edge_index', 'num_nodes', 'embeddings', 'recipes_similarities', 'comb_recipe_similarities', 'serial_to_index', 'index_to_serial'])"
     },
     "execution_count": 2,
     "metadata": {},
     "output_type": "execute_result"
    }
   ],
   "source": [
    "G_data = pkl.load(open(f'{path2root}/data/G_data.pkl', 'rb'))\n",
    "G_data.keys()"
   ],
   "metadata": {
    "collapsed": false,
    "pycharm": {
     "name": "#%%\n"
    }
   }
  },
  {
   "cell_type": "code",
   "execution_count": 3,
   "outputs": [],
   "source": [
    "edge_index, num_nodes, embeddings, y = G_data['edge_index'], G_data['num_nodes'], G_data['embeddings'], G_data[\n",
    "    'recipes_similarities'].sort_index().sort_index(axis=1).values\n",
    "edge_index = torch.from_numpy(edge_index)"
   ],
   "metadata": {
    "collapsed": false,
    "pycharm": {
     "name": "#%%\n"
    }
   }
  },
  {
   "cell_type": "code",
   "execution_count": 4,
   "outputs": [],
   "source": [
    "# custom dataset\n",
    "class MyDataset(InMemoryDataset):\n",
    "    def __init__(self, edge_index, num_nodes, embeddings, y, G_data, transform=None):\n",
    "        super(MyDataset, self).__init__('.', transform, None, None)\n",
    "        data = Data(edge_index=edge_index)\n",
    "        data.num_nodes = num_nodes\n",
    "        # embedding\n",
    "        data.x = torch.from_numpy(embeddings).type(torch.float32)\n",
    "        data.G_data = G_data\n",
    "        # y - similarities\n",
    "        data.y = y\n",
    "        data.recipes_indexes = [v for k, v in data.G_data['serial_to_index'].items() if type(k) == str]\n",
    "        self.data, self.slices = self.collate([data])"
   ],
   "metadata": {
    "collapsed": false,
    "pycharm": {
     "name": "#%%\n"
    }
   }
  },
  {
   "cell_type": "code",
   "execution_count": 5,
   "outputs": [],
   "source": [
    "dataset = MyDataset(edge_index=edge_index, num_nodes=num_nodes, embeddings=embeddings, y=y, G_data=G_data)\n",
    "data = dataset[0]"
   ],
   "metadata": {
    "collapsed": false,
    "pycharm": {
     "name": "#%%\n"
    }
   }
  },
  {
   "cell_type": "code",
   "execution_count": 6,
   "outputs": [
    {
     "data": {
      "text/plain": "tensor([[0.2857, 0.2857, 0.0000,  ..., 0.5600, 0.1071, 0.9116],\n        [0.0000, 0.1429, 0.0000,  ..., 0.7273, 0.0357, 0.6193],\n        [0.7500, 0.0000, 0.0000,  ..., 0.8235, 0.1518, 0.6136],\n        ...,\n        [0.2500, 0.2500, 0.2500,  ..., 1.0000, 1.0000, 0.8000],\n        [0.2500, 0.2500, 0.2500,  ..., 1.0000, 1.0000, 0.9000],\n        [0.2500, 0.2500, 0.2500,  ..., 1.0000, 1.0000, 1.0000]])"
     },
     "execution_count": 6,
     "metadata": {},
     "output_type": "execute_result"
    }
   ],
   "source": [
    "data.x"
   ],
   "metadata": {
    "collapsed": false,
    "pycharm": {
     "name": "#%%\n"
    }
   }
  },
  {
   "cell_type": "markdown",
   "source": [
    "## Model"
   ],
   "metadata": {
    "collapsed": false,
    "pycharm": {
     "name": "#%% md\n"
    }
   }
  },
  {
   "cell_type": "code",
   "execution_count": 7,
   "outputs": [],
   "source": [
    "import torch.nn as nn\n",
    "import torch.nn.functional as F\n",
    "from torch_geometric.nn import GCNConv"
   ],
   "metadata": {
    "collapsed": false,
    "pycharm": {
     "name": "#%%\n"
    }
   }
  },
  {
   "cell_type": "code",
   "execution_count": 8,
   "outputs": [],
   "source": [
    "class Net(torch.nn.Module):\n",
    "    def __init__(self, out_features):\n",
    "        super(Net, self).__init__()\n",
    "        self.conv1 = GCNConv(data.num_features, 16)\n",
    "        self.conv2 = GCNConv(16, out_features)\n",
    "\n",
    "    def forward(self, data):\n",
    "        x, edge_index = data.x, data.edge_index\n",
    "        x = self.conv1(x, edge_index)\n",
    "        x = self.conv2(x, edge_index)\n",
    "        return x"
   ],
   "metadata": {
    "collapsed": false,
    "pycharm": {
     "name": "#%%\n"
    }
   }
  },
  {
   "cell_type": "code",
   "execution_count": 9,
   "outputs": [],
   "source": [
    "device = torch.device('cuda' if torch.cuda.is_available() else 'cpu')\n",
    "data = data.to(device)\n",
    "model = Net(out_features=10).to(device)\n",
    "x = model(data)"
   ],
   "metadata": {
    "collapsed": false,
    "pycharm": {
     "name": "#%%\n"
    }
   }
  },
  {
   "cell_type": "markdown",
   "source": [
    "## Training"
   ],
   "metadata": {
    "collapsed": false,
    "pycharm": {
     "name": "#%% md\n"
    }
   }
  },
  {
   "cell_type": "code",
   "execution_count": 12,
   "outputs": [],
   "source": [
    "from tqdm import tqdm\n",
    "import random\n",
    "import matplotlib.pyplot as plt\n",
    "from random import choices"
   ],
   "metadata": {
    "collapsed": false,
    "pycharm": {
     "name": "#%%\n"
    }
   }
  },
  {
   "cell_type": "code",
   "execution_count": 39,
   "outputs": [
    {
     "name": "stderr",
     "output_type": "stream",
     "text": [
      "100%|██████████| 499/499 [00:26<00:00, 18.58it/s]\n"
     ]
    },
    {
     "data": {
      "text/plain": "<Figure size 640x480 with 1 Axes>",
      "image/png": "[encoded data removed]"
     },
     "metadata": {},
     "output_type": "display_data"
    }
   ],
   "source": [
    "torch.manual_seed(42)\n",
    "\n",
    "optimizer_name = \"Adam\"\n",
    "lr = 1e-1\n",
    "optimizer = getattr(torch.optim, optimizer_name)(model.parameters(), lr=lr)\n",
    "epochs = 500\n",
    "\n",
    "\n",
    "def similarity_loss(outputs, data, batch_size=500):\n",
    "    pairs = list(zip(choices(data.recipes_indexes, k=batch_size), choices(data.recipes_indexes, k=batch_size)))\n",
    "    pairs = np.array(pairs)\n",
    "    pairs = pairs[pairs[:, 0] != pairs[:, 1]]\n",
    "    edges_similarities = torch.from_numpy(data.y[pairs[:, 0], pairs[:, 1]]).to(dtype=torch.float32)\n",
    "    cosines = nn.CosineSimilarity()(outputs[pairs[:, 0]], outputs[pairs[:, 1]])\n",
    "    MSE = nn.MSELoss()(cosines, edges_similarities)\n",
    "    return MSE\n",
    "\n",
    "\n",
    "def train(data):\n",
    "    model.train()\n",
    "    optimizer.zero_grad()\n",
    "    outputs = model(data)\n",
    "    loss = similarity_loss(outputs, data)\n",
    "    loss.backward()\n",
    "    optimizer.step()\n",
    "    return loss\n",
    "\n",
    "\n",
    "losses = []\n",
    "for epoch in tqdm(range(1, epochs)):\n",
    "    loss = train(data)\n",
    "    losses.append(loss.item())\n",
    "\n",
    "plt.plot(list(range(len(losses))), losses)\n",
    "plt.show()"
   ],
   "metadata": {
    "collapsed": false,
    "pycharm": {
     "name": "#%%\n"
    }
   }
  },
  {
   "cell_type": "code",
   "source": [
    "outputs = model(data).detach().numpy()"
   ],
   "metadata": {
    "collapsed": false,
    "pycharm": {
     "name": "#%%\n"
    }
   },
   "execution_count": 43,
   "outputs": []
  },
  {
   "cell_type": "code",
   "execution_count": 47,
   "outputs": [
    {
     "data": {
      "text/plain": "                                  0          1           2           3  \\\n7abae8bd52               -30.647837  10.047721  -35.176067   36.963055   \n8a705a7781              -105.340103 -27.229498    2.532598  -72.657341   \nbcde847269               359.504181   7.902899  371.984344 -167.597870   \ne848172f78                45.870625  13.946721    4.518616  -14.460531   \n868482568e               -21.483486 -27.551577    5.946500  -50.398266   \n...                             ...        ...         ...         ...   \n(1, 1, 1, 1, 2, 10, 6)   -85.054802  -4.949015  -98.582504 -130.412506   \n(1, 1, 1, 1, 2, 10, 7)   -90.484184  -4.748360  -91.970695 -123.949005   \n(1, 1, 1, 1, 2, 10, 8)   -95.913582  -4.547703  -85.358871 -117.485497   \n(1, 1, 1, 1, 2, 10, 9)  -101.342995  -4.347037  -78.747063 -111.022003   \n(1, 1, 1, 1, 2, 10, 10) -106.772392  -4.146381  -72.135262 -104.558487   \n\n                                  4            5           6          7  \\\n7abae8bd52               -85.572395    11.003420  -36.375359  80.876350   \n8a705a7781                36.420887    23.104284   -7.765224  70.509941   \nbcde847269                91.694199 -1112.838867 -820.837524  47.520573   \ne848172f78               -19.475647   133.431778 -101.606880  15.329460   \n868482568e                 9.543095    -2.249704  -34.241539  47.425995   \n...                             ...          ...         ...        ...   \n(1, 1, 1, 1, 2, 10, 6)   219.387329   -93.882736  135.144653  81.329758   \n(1, 1, 1, 1, 2, 10, 7)   202.100723   -87.349648  122.709694  84.491562   \n(1, 1, 1, 1, 2, 10, 8)   184.814117   -80.816544  110.274757  87.653351   \n(1, 1, 1, 1, 2, 10, 9)   167.527542   -74.283455   97.839821  90.815163   \n(1, 1, 1, 1, 2, 10, 10)  150.240936   -67.750366   85.404877  93.976952   \n\n                                   8           9  \n7abae8bd52                119.171715  121.124580  \n8a705a7781                 75.093300   90.214745  \nbcde847269               1232.045776   11.618207  \ne848172f78                 31.267460  -68.327339  \n868482568e                 63.871365    8.591961  \n...                              ...         ...  \n(1, 1, 1, 1, 2, 10, 6)     72.617157   61.884583  \n(1, 1, 1, 1, 2, 10, 7)     82.081612   73.629044  \n(1, 1, 1, 1, 2, 10, 8)     91.546074   85.373543  \n(1, 1, 1, 1, 2, 10, 9)    101.010536   97.118019  \n(1, 1, 1, 1, 2, 10, 10)   110.474998  108.862511  \n\n[15445 rows x 10 columns]",
      "text/html": "<div>\n<style scoped>\n    .dataframe tbody tr th:only-of-type {\n        vertical-align: middle;\n    }\n\n    .dataframe tbody tr th {\n        vertical-align: top;\n    }\n\n    .dataframe thead th {\n        text-align: right;\n    }\n</style>\n<table border=\"1\" class=\"dataframe\">\n  <thead>\n    <tr style=\"text-align: right;\">\n      <th></th>\n      <th>0</th>\n      <th>1</th>\n      <th>2</th>\n      <th>3</th>\n      <th>4</th>\n      <th>5</th>\n      <th>6</th>\n      <th>7</th>\n      <th>8</th>\n      <th>9</th>\n    </tr>\n  </thead>\n  <tbody>\n    <tr>\n      <th>7abae8bd52</th>\n      <td>-30.647837</td>\n      <td>10.047721</td>\n      <td>-35.176067</td>\n      <td>36.963055</td>\n      <td>-85.572395</td>\n      <td>11.003420</td>\n      <td>-36.375359</td>\n      <td>80.876350</td>\n      <td>119.171715</td>\n      <td>121.124580</td>\n    </tr>\n    <tr>\n      <th>8a705a7781</th>\n      <td>-105.340103</td>\n      <td>-27.229498</td>\n      <td>2.532598</td>\n      <td>-72.657341</td>\n      <td>36.420887</td>\n      <td>23.104284</td>\n      <td>-7.765224</td>\n      <td>70.509941</td>\n      <td>75.093300</td>\n      <td>90.214745</td>\n    </tr>\n    <tr>\n      <th>bcde847269</th>\n      <td>359.504181</td>\n      <td>7.902899</td>\n      <td>371.984344</td>\n      <td>-167.597870</td>\n      <td>91.694199</td>\n      <td>-1112.838867</td>\n      <td>-820.837524</td>\n      <td>47.520573</td>\n      <td>1232.045776</td>\n      <td>11.618207</td>\n    </tr>\n    <tr>\n      <th>e848172f78</th>\n      <td>45.870625</td>\n      <td>13.946721</td>\n      <td>4.518616</td>\n      <td>-14.460531</td>\n      <td>-19.475647</td>\n      <td>133.431778</td>\n      <td>-101.606880</td>\n      <td>15.329460</td>\n      <td>31.267460</td>\n      <td>-68.327339</td>\n    </tr>\n    <tr>\n      <th>868482568e</th>\n      <td>-21.483486</td>\n      <td>-27.551577</td>\n      <td>5.946500</td>\n      <td>-50.398266</td>\n      <td>9.543095</td>\n      <td>-2.249704</td>\n      <td>-34.241539</td>\n      <td>47.425995</td>\n      <td>63.871365</td>\n      <td>8.591961</td>\n    </tr>\n    <tr>\n      <th>...</th>\n      <td>...</td>\n      <td>...</td>\n      <td>...</td>\n      <td>...</td>\n      <td>...</td>\n      <td>...</td>\n      <td>...</td>\n      <td>...</td>\n      <td>...</td>\n      <td>...</td>\n    </tr>\n    <tr>\n      <th>(1, 1, 1, 1, 2, 10, 6)</th>\n      <td>-85.054802</td>\n      <td>-4.949015</td>\n      <td>-98.582504</td>\n      <td>-130.412506</td>\n      <td>219.387329</td>\n      <td>-93.882736</td>\n      <td>135.144653</td>\n      <td>81.329758</td>\n      <td>72.617157</td>\n      <td>61.884583</td>\n    </tr>\n    <tr>\n      <th>(1, 1, 1, 1, 2, 10, 7)</th>\n      <td>-90.484184</td>\n      <td>-4.748360</td>\n      <td>-91.970695</td>\n      <td>-123.949005</td>\n      <td>202.100723</td>\n      <td>-87.349648</td>\n      <td>122.709694</td>\n      <td>84.491562</td>\n      <td>82.081612</td>\n      <td>73.629044</td>\n    </tr>\n    <tr>\n      <th>(1, 1, 1, 1, 2, 10, 8)</th>\n      <td>-95.913582</td>\n      <td>-4.547703</td>\n      <td>-85.358871</td>\n      <td>-117.485497</td>\n      <td>184.814117</td>\n      <td>-80.816544</td>\n      <td>110.274757</td>\n      <td>87.653351</td>\n      <td>91.546074</td>\n      <td>85.373543</td>\n    </tr>\n    <tr>\n      <th>(1, 1, 1, 1, 2, 10, 9)</th>\n      <td>-101.342995</td>\n      <td>-4.347037</td>\n      <td>-78.747063</td>\n      <td>-111.022003</td>\n      <td>167.527542</td>\n      <td>-74.283455</td>\n      <td>97.839821</td>\n      <td>90.815163</td>\n      <td>101.010536</td>\n      <td>97.118019</td>\n    </tr>\n    <tr>\n      <th>(1, 1, 1, 1, 2, 10, 10)</th>\n      <td>-106.772392</td>\n      <td>-4.146381</td>\n      <td>-72.135262</td>\n      <td>-104.558487</td>\n      <td>150.240936</td>\n      <td>-67.750366</td>\n      <td>85.404877</td>\n      <td>93.976952</td>\n      <td>110.474998</td>\n      <td>108.862511</td>\n    </tr>\n  </tbody>\n</table>\n<p>15445 rows × 10 columns</p>\n</div>"
     },
     "execution_count": 47,
     "metadata": {},
     "output_type": "execute_result"
    }
   ],
   "source": [
    "final_features = pd.DataFrame(outputs)\n",
    "final_features.index = final_features.index.map(G_data['index_to_serial'].get)\n",
    "final_features"
   ],
   "metadata": {
    "collapsed": false,
    "pycharm": {
     "name": "#%%\n"
    }
   }
  },
  {
   "cell_type": "code",
   "execution_count": 48,
   "outputs": [],
   "source": [
    "pkl.dump(final_features, open(f'{path2root}/data/final_features.pkl', 'wb'))"
   ],
   "metadata": {
    "collapsed": false,
    "pycharm": {
     "name": "#%%\n"
    }
   }
  }
 ],
 "metadata": {
  "kernelspec": {
   "display_name": "Python 3",
   "language": "python",
   "name": "python3"
  },
  "language_info": {
   "codemirror_mode": {
    "name": "ipython",
    "version": 2
   },
   "file_extension": ".py",
   "mimetype": "text/x-python",
   "name": "python",
   "nbconvert_exporter": "python",
   "pygments_lexer": "ipython2",
   "version": "2.7.6"
  }
 },
 "nbformat": 4,
 "nbformat_minor": 0
}