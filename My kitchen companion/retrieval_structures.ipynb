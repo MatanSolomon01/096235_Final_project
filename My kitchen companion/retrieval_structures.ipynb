{
 "cells": [
  {
   "cell_type": "markdown",
   "metadata": {
    "collapsed": true,
    "pycharm": {
     "name": "#%% md\n"
    }
   },
   "source": [
    "# Retrieval structures"
   ]
  },
  {
   "cell_type": "markdown",
   "source": [
    "## Imports"
   ],
   "metadata": {
    "collapsed": false,
    "pycharm": {
     "name": "#%% md\n"
    }
   }
  },
  {
   "cell_type": "code",
   "execution_count": 15,
   "outputs": [],
   "source": [
    "import numpy as np\n",
    "import pandas as pd\n",
    "import pickle as pkl\n",
    "from sklearn.metrics.pairwise import cosine_similarity\n",
    "\n",
    "path2root = '.'"
   ],
   "metadata": {
    "collapsed": false,
    "pycharm": {
     "name": "#%%\n"
    }
   }
  },
  {
   "cell_type": "markdown",
   "source": [
    "## Load data"
   ],
   "metadata": {
    "collapsed": false,
    "pycharm": {
     "name": "#%% md\n"
    }
   }
  },
  {
   "cell_type": "code",
   "execution_count": 5,
   "outputs": [],
   "source": [
    "final_features = pkl.load(open(f'{path2root}/data/final_features.pkl','rb'))"
   ],
   "metadata": {
    "collapsed": false,
    "pycharm": {
     "name": "#%%\n"
    }
   }
  },
  {
   "cell_type": "markdown",
   "source": [
    "## Manipulate"
   ],
   "metadata": {
    "collapsed": false,
    "pycharm": {
     "name": "#%% md\n"
    }
   }
  },
  {
   "cell_type": "code",
   "execution_count": 13,
   "outputs": [],
   "source": [
    "recipes = final_features[final_features.index.map(type) == str]\n",
    "combs = final_features[final_features.index.map(type) != str]"
   ],
   "metadata": {
    "collapsed": false,
    "pycharm": {
     "name": "#%%\n"
    }
   }
  },
  {
   "cell_type": "code",
   "execution_count": 21,
   "outputs": [],
   "source": [
    "final_similarities = pd.DataFrame(cosine_similarity(combs, recipes), index=combs.index, columns=recipes.index)"
   ],
   "metadata": {
    "collapsed": false,
    "pycharm": {
     "name": "#%%\n"
    }
   }
  },
  {
   "cell_type": "code",
   "execution_count": 29,
   "outputs": [],
   "source": [
    "closest_recipes = final_similarities.apply(lambda s: s.sort_values(ascending=False).index.to_list(),axis=1)"
   ],
   "metadata": {
    "collapsed": false,
    "pycharm": {
     "name": "#%%\n"
    }
   }
  },
  {
   "cell_type": "code",
   "execution_count": 30,
   "outputs": [
    {
     "data": {
      "text/plain": "(0, 0, 0, 1, 0, 0, 0)      [5a352d70e4, d785588cf4, 637ef5f899, 2fbbd2dde...\n(0, 0, 0, 1, 0, 0, 1)      [5a352d70e4, 1a1e386eca, 2fbbd2dded, d785588cf...\n(0, 0, 0, 1, 0, 0, 2)      [1a1e386eca, 2fbbd2dded, 5a352d70e4, a197c3030...\n(0, 0, 0, 1, 0, 0, 3)      [1a1e386eca, 2fbbd2dded, 5a352d70e4, c90450653...\n(0, 0, 0, 1, 0, 0, 4)      [1a1e386eca, 2fbbd2dded, 5468a6d8e6, ace9ee1e2...\n                                                 ...                        \n(1, 1, 1, 1, 2, 10, 6)     [1709fc3123, 48602c84b1, c3ea4af719, 97b9a67de...\n(1, 1, 1, 1, 2, 10, 7)     [c3ea4af719, 1709fc3123, 48602c84b1, 43c7c79ac...\n(1, 1, 1, 1, 2, 10, 8)     [c3ea4af719, 5c23e34818, 1709fc3123, 739d49623...\n(1, 1, 1, 1, 2, 10, 9)     [5c23e34818, c3ea4af719, 739d496237, da24cef6d...\n(1, 1, 1, 1, 2, 10, 10)    [5c23e34818, c3ea4af719, 6b772e2bf2, da24cef6d...\nLength: 5445, dtype: object"
     },
     "execution_count": 30,
     "metadata": {},
     "output_type": "execute_result"
    }
   ],
   "source": [
    "closest_recipes"
   ],
   "metadata": {
    "collapsed": false,
    "pycharm": {
     "name": "#%%\n"
    }
   }
  },
  {
   "cell_type": "code",
   "execution_count": 37,
   "outputs": [],
   "source": [
    "data_filtered = pkl.load(open(f'{path2root}/data/data_df_filtered.pkl','rb'))"
   ],
   "metadata": {
    "collapsed": false,
    "pycharm": {
     "name": "#%%\n"
    }
   }
  },
  {
   "cell_type": "code",
   "execution_count": 39,
   "outputs": [
    {
     "data": {
      "text/plain": "title_1                                  Red White & Blue Refresher\ningredients_1     [pineapple, raw, all varieties, strawberries, ...\ningredients_2     [pineapple sherbet, strawberries, blueberries,...\ningredients_3     [1 quart pineapple sherbet (may substitute lem...\ninstructions_1    [Divide the sherbert between four dessert cups...\ninstructions_3    [Divide the sherbert between four dessert cups...\nenergy                                                    59.840909\nfat                                                        0.227727\nprotein                                                    0.701364\nsalt                                                       0.003295\nsaturates                                                  0.035432\nsugars                                                    12.039773\nName: a0c10a8a8e, dtype: object"
     },
     "execution_count": 39,
     "metadata": {},
     "output_type": "execute_result"
    }
   ],
   "source": [
    "data_filtered.loc['a0c10a8a8e']"
   ],
   "metadata": {
    "collapsed": false,
    "pycharm": {
     "name": "#%%\n"
    }
   }
  },
  {
   "cell_type": "markdown",
   "source": [
    "## Save"
   ],
   "metadata": {
    "collapsed": false,
    "pycharm": {
     "name": "#%% md\n"
    }
   }
  },
  {
   "cell_type": "code",
   "source": [
    "pkl.dump(closest_recipes, open(f'{path2root}/data/closest_recipes.pkl', 'wb'))"
   ],
   "metadata": {
    "collapsed": false,
    "pycharm": {
     "name": "#%%\n"
    }
   },
   "execution_count": 32,
   "outputs": []
  }
 ],
 "metadata": {
  "kernelspec": {
   "display_name": "Python 3",
   "language": "python",
   "name": "python3"
  },
  "language_info": {
   "codemirror_mode": {
    "name": "ipython",
    "version": 2
   },
   "file_extension": ".py",
   "mimetype": "text/x-python",
   "name": "python",
   "nbconvert_exporter": "python",
   "pygments_lexer": "ipython2",
   "version": "2.7.6"
  }
 },
 "nbformat": 4,
 "nbformat_minor": 0
}