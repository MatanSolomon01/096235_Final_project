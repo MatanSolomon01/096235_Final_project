{
 "cells": [
  {
   "cell_type": "markdown",
   "metadata": {
    "collapsed": true,
    "pycharm": {
     "name": "#%% md\n"
    }
   },
   "source": [
    "# Graph Generation"
   ],
   "execution_count": 1
  },
  {
   "cell_type": "code",
   "execution_count": 1,
   "outputs": [],
   "source": [
    "import utils as utl\n",
    "import pickle as pkl\n",
    "import pandas as pd\n",
    "import numpy as np\n",
    "\n",
    "path2root = '.'"
   ],
   "metadata": {
    "collapsed": false,
    "pycharm": {
     "name": "#%%\n"
    }
   }
  },
  {
   "cell_type": "markdown",
   "source": [
    "## Load data"
   ],
   "metadata": {
    "collapsed": false,
    "pycharm": {
     "name": "#%% md\n"
    }
   }
  },
  {
   "cell_type": "code",
   "source": [
    "recipes_similarities = pkl.load(open(f'{path2root}/data/tf_idf_similarities.pkl', 'rb'))\n",
    "comb_recipe_similarities = pkl.load(open(f'{path2root}/data/comb_recipe_similarities.pkl', 'rb'))\n",
    "embeddings_dict = pkl.load(open(f'{path2root}/data/initial_features/initial_features_dict.pkl', 'rb'))\n",
    "recipes_embeddings, combinations_embeddings = embeddings_dict['recipes'], embeddings_dict['combinations']"
   ],
   "metadata": {
    "collapsed": false,
    "pycharm": {
     "name": "#%%\n"
    }
   },
   "execution_count": 2,
   "outputs": []
  },
  {
   "cell_type": "markdown",
   "source": [
    "## Generate index"
   ],
   "metadata": {
    "collapsed": false,
    "pycharm": {
     "name": "#%% md\n"
    }
   }
  },
  {
   "cell_type": "code",
   "execution_count": 17,
   "outputs": [],
   "source": [
    "embeddings = pd.concat([recipes_embeddings, combinations_embeddings])"
   ],
   "metadata": {
    "collapsed": false,
    "pycharm": {
     "name": "#%%\n"
    }
   }
  },
  {
   "cell_type": "code",
   "execution_count": 18,
   "outputs": [],
   "source": [
    "index = embeddings.reset_index()['index']\n",
    "index_to_serial = dict(index)\n",
    "serial_to_index = dict(pd.DataFrame(index).reset_index().set_index('index')['level_0'])"
   ],
   "metadata": {
    "collapsed": false,
    "pycharm": {
     "name": "#%%\n"
    }
   }
  },
  {
   "cell_type": "markdown",
   "source": [
    "## Comb-Recipe edges"
   ],
   "metadata": {
    "collapsed": false,
    "pycharm": {
     "name": "#%% md\n"
    }
   }
  },
  {
   "cell_type": "code",
   "execution_count": 5,
   "outputs": [
    {
     "data": {
      "text/plain": "           0         1         2         3         4         5         6     \\\n10000  0.134140  0.169741  0.063430  0.000000  0.064222  0.000000  0.000000   \n10001  0.184628  0.206017  0.096273  0.027116  0.095184  0.027088  0.006531   \n10002  0.233712  0.240924  0.128320  0.053831  0.125373  0.053775  0.012965   \n10003  0.280740  0.274014  0.159139  0.079775  0.154385  0.079692  0.019214   \n10004  0.325179  0.304939  0.188374  0.104629  0.181885  0.104520  0.025200   \n...         ...       ...       ...       ...       ...       ...       ...   \n15440  0.663900  0.645747  0.722567  0.178792  0.609933  0.460318  0.504392   \n15441  0.691488  0.661675  0.733483  0.197723  0.621944  0.472465  0.497875   \n15442  0.715687  0.674880  0.741716  0.215137  0.631543  0.482631  0.490229   \n15443  0.736713  0.685609  0.747565  0.231052  0.638973  0.490986  0.481710   \n15444  0.754822  0.694127  0.751337  0.245521  0.644489  0.497721  0.472553   \n\n           7         8         9     ...      9990      9991      9992  \\\n10000  0.000000  0.000000  0.000000  ...  0.072595  0.000000  0.199347   \n10001  0.013802  0.018500  0.018393  ...  0.109061  0.006277  0.220693   \n10002  0.027401  0.036728  0.036515  ...  0.144631  0.012461  0.240746   \n10003  0.040606  0.054429  0.054114  ...  0.178829  0.018466  0.259269   \n10004  0.053257  0.071386  0.070973  ...  0.211258  0.024220  0.276104   \n...         ...       ...       ...  ...       ...       ...       ...   \n15440  0.080338  0.392391  0.633871  ...  0.312108  0.367003  0.511279   \n15441  0.090230  0.398815  0.634405  ...  0.336001  0.363567  0.517711   \n15442  0.099368  0.403756  0.633061  ...  0.357727  0.359241  0.522312   \n15443  0.107755  0.407374  0.630132  ...  0.377349  0.354206  0.525299   \n15444  0.115412  0.409836  0.625901  ...  0.394972  0.348633  0.526891   \n\n           9993      9994      9995      9996      9997      9998      9999  \n10000  0.382372  0.000000  0.000000  0.353445  0.296873  0.000000  0.000000  \n10001  0.404388  0.022032  0.026603  0.372927  0.318095  0.040554  0.016720  \n10002  0.424201  0.043738  0.052813  0.390387  0.337547  0.080509  0.033194  \n10003  0.441621  0.064818  0.078266  0.405658  0.355021  0.119310  0.049192  \n10004  0.456562  0.085011  0.102650  0.418673  0.370406  0.156481  0.064517  \n...         ...       ...       ...       ...       ...       ...       ...  \n15440  0.148329  0.608488  0.208562  0.386226  0.411571  0.286629  0.099426  \n15441  0.164440  0.612748  0.226340  0.394393  0.420499  0.314481  0.111360  \n15442  0.179270  0.615008  0.242573  0.401003  0.427756  0.340031  0.122375  \n15443  0.192834  0.615536  0.257300  0.406208  0.433503  0.363318  0.132479  \n15444  0.205175  0.614599  0.270587  0.410169  0.437911  0.384431  0.141697  \n\n[5445 rows x 10000 columns]",
      "text/html": "<div>\n<style scoped>\n    .dataframe tbody tr th:only-of-type {\n        vertical-align: middle;\n    }\n\n    .dataframe tbody tr th {\n        vertical-align: top;\n    }\n\n    .dataframe thead th {\n        text-align: right;\n    }\n</style>\n<table border=\"1\" class=\"dataframe\">\n  <thead>\n    <tr style=\"text-align: right;\">\n      <th></th>\n      <th>0</th>\n      <th>1</th>\n      <th>2</th>\n      <th>3</th>\n      <th>4</th>\n      <th>5</th>\n      <th>6</th>\n      <th>7</th>\n      <th>8</th>\n      <th>9</th>\n      <th>...</th>\n      <th>9990</th>\n      <th>9991</th>\n      <th>9992</th>\n      <th>9993</th>\n      <th>9994</th>\n      <th>9995</th>\n      <th>9996</th>\n      <th>9997</th>\n      <th>9998</th>\n      <th>9999</th>\n    </tr>\n  </thead>\n  <tbody>\n    <tr>\n      <th>10000</th>\n      <td>0.134140</td>\n      <td>0.169741</td>\n      <td>0.063430</td>\n      <td>0.000000</td>\n      <td>0.064222</td>\n      <td>0.000000</td>\n      <td>0.000000</td>\n      <td>0.000000</td>\n      <td>0.000000</td>\n      <td>0.000000</td>\n      <td>...</td>\n      <td>0.072595</td>\n      <td>0.000000</td>\n      <td>0.199347</td>\n      <td>0.382372</td>\n      <td>0.000000</td>\n      <td>0.000000</td>\n      <td>0.353445</td>\n      <td>0.296873</td>\n      <td>0.000000</td>\n      <td>0.000000</td>\n    </tr>\n    <tr>\n      <th>10001</th>\n      <td>0.184628</td>\n      <td>0.206017</td>\n      <td>0.096273</td>\n      <td>0.027116</td>\n      <td>0.095184</td>\n      <td>0.027088</td>\n      <td>0.006531</td>\n      <td>0.013802</td>\n      <td>0.018500</td>\n      <td>0.018393</td>\n      <td>...</td>\n      <td>0.109061</td>\n      <td>0.006277</td>\n      <td>0.220693</td>\n      <td>0.404388</td>\n      <td>0.022032</td>\n      <td>0.026603</td>\n      <td>0.372927</td>\n      <td>0.318095</td>\n      <td>0.040554</td>\n      <td>0.016720</td>\n    </tr>\n    <tr>\n      <th>10002</th>\n      <td>0.233712</td>\n      <td>0.240924</td>\n      <td>0.128320</td>\n      <td>0.053831</td>\n      <td>0.125373</td>\n      <td>0.053775</td>\n      <td>0.012965</td>\n      <td>0.027401</td>\n      <td>0.036728</td>\n      <td>0.036515</td>\n      <td>...</td>\n      <td>0.144631</td>\n      <td>0.012461</td>\n      <td>0.240746</td>\n      <td>0.424201</td>\n      <td>0.043738</td>\n      <td>0.052813</td>\n      <td>0.390387</td>\n      <td>0.337547</td>\n      <td>0.080509</td>\n      <td>0.033194</td>\n    </tr>\n    <tr>\n      <th>10003</th>\n      <td>0.280740</td>\n      <td>0.274014</td>\n      <td>0.159139</td>\n      <td>0.079775</td>\n      <td>0.154385</td>\n      <td>0.079692</td>\n      <td>0.019214</td>\n      <td>0.040606</td>\n      <td>0.054429</td>\n      <td>0.054114</td>\n      <td>...</td>\n      <td>0.178829</td>\n      <td>0.018466</td>\n      <td>0.259269</td>\n      <td>0.441621</td>\n      <td>0.064818</td>\n      <td>0.078266</td>\n      <td>0.405658</td>\n      <td>0.355021</td>\n      <td>0.119310</td>\n      <td>0.049192</td>\n    </tr>\n    <tr>\n      <th>10004</th>\n      <td>0.325179</td>\n      <td>0.304939</td>\n      <td>0.188374</td>\n      <td>0.104629</td>\n      <td>0.181885</td>\n      <td>0.104520</td>\n      <td>0.025200</td>\n      <td>0.053257</td>\n      <td>0.071386</td>\n      <td>0.070973</td>\n      <td>...</td>\n      <td>0.211258</td>\n      <td>0.024220</td>\n      <td>0.276104</td>\n      <td>0.456562</td>\n      <td>0.085011</td>\n      <td>0.102650</td>\n      <td>0.418673</td>\n      <td>0.370406</td>\n      <td>0.156481</td>\n      <td>0.064517</td>\n    </tr>\n    <tr>\n      <th>...</th>\n      <td>...</td>\n      <td>...</td>\n      <td>...</td>\n      <td>...</td>\n      <td>...</td>\n      <td>...</td>\n      <td>...</td>\n      <td>...</td>\n      <td>...</td>\n      <td>...</td>\n      <td>...</td>\n      <td>...</td>\n      <td>...</td>\n      <td>...</td>\n      <td>...</td>\n      <td>...</td>\n      <td>...</td>\n      <td>...</td>\n      <td>...</td>\n      <td>...</td>\n      <td>...</td>\n    </tr>\n    <tr>\n      <th>15440</th>\n      <td>0.663900</td>\n      <td>0.645747</td>\n      <td>0.722567</td>\n      <td>0.178792</td>\n      <td>0.609933</td>\n      <td>0.460318</td>\n      <td>0.504392</td>\n      <td>0.080338</td>\n      <td>0.392391</td>\n      <td>0.633871</td>\n      <td>...</td>\n      <td>0.312108</td>\n      <td>0.367003</td>\n      <td>0.511279</td>\n      <td>0.148329</td>\n      <td>0.608488</td>\n      <td>0.208562</td>\n      <td>0.386226</td>\n      <td>0.411571</td>\n      <td>0.286629</td>\n      <td>0.099426</td>\n    </tr>\n    <tr>\n      <th>15441</th>\n      <td>0.691488</td>\n      <td>0.661675</td>\n      <td>0.733483</td>\n      <td>0.197723</td>\n      <td>0.621944</td>\n      <td>0.472465</td>\n      <td>0.497875</td>\n      <td>0.090230</td>\n      <td>0.398815</td>\n      <td>0.634405</td>\n      <td>...</td>\n      <td>0.336001</td>\n      <td>0.363567</td>\n      <td>0.517711</td>\n      <td>0.164440</td>\n      <td>0.612748</td>\n      <td>0.226340</td>\n      <td>0.394393</td>\n      <td>0.420499</td>\n      <td>0.314481</td>\n      <td>0.111360</td>\n    </tr>\n    <tr>\n      <th>15442</th>\n      <td>0.715687</td>\n      <td>0.674880</td>\n      <td>0.741716</td>\n      <td>0.215137</td>\n      <td>0.631543</td>\n      <td>0.482631</td>\n      <td>0.490229</td>\n      <td>0.099368</td>\n      <td>0.403756</td>\n      <td>0.633061</td>\n      <td>...</td>\n      <td>0.357727</td>\n      <td>0.359241</td>\n      <td>0.522312</td>\n      <td>0.179270</td>\n      <td>0.615008</td>\n      <td>0.242573</td>\n      <td>0.401003</td>\n      <td>0.427756</td>\n      <td>0.340031</td>\n      <td>0.122375</td>\n    </tr>\n    <tr>\n      <th>15443</th>\n      <td>0.736713</td>\n      <td>0.685609</td>\n      <td>0.747565</td>\n      <td>0.231052</td>\n      <td>0.638973</td>\n      <td>0.490986</td>\n      <td>0.481710</td>\n      <td>0.107755</td>\n      <td>0.407374</td>\n      <td>0.630132</td>\n      <td>...</td>\n      <td>0.377349</td>\n      <td>0.354206</td>\n      <td>0.525299</td>\n      <td>0.192834</td>\n      <td>0.615536</td>\n      <td>0.257300</td>\n      <td>0.406208</td>\n      <td>0.433503</td>\n      <td>0.363318</td>\n      <td>0.132479</td>\n    </tr>\n    <tr>\n      <th>15444</th>\n      <td>0.754822</td>\n      <td>0.694127</td>\n      <td>0.751337</td>\n      <td>0.245521</td>\n      <td>0.644489</td>\n      <td>0.497721</td>\n      <td>0.472553</td>\n      <td>0.115412</td>\n      <td>0.409836</td>\n      <td>0.625901</td>\n      <td>...</td>\n      <td>0.394972</td>\n      <td>0.348633</td>\n      <td>0.526891</td>\n      <td>0.205175</td>\n      <td>0.614599</td>\n      <td>0.270587</td>\n      <td>0.410169</td>\n      <td>0.437911</td>\n      <td>0.384431</td>\n      <td>0.141697</td>\n    </tr>\n  </tbody>\n</table>\n<p>5445 rows × 10000 columns</p>\n</div>"
     },
     "execution_count": 5,
     "metadata": {},
     "output_type": "execute_result"
    }
   ],
   "source": [
    "comb_recipe_similarities.index = comb_recipe_similarities.index.map(serial_to_index.get)\n",
    "comb_recipe_similarities.columns = comb_recipe_similarities.columns.map(serial_to_index.get)\n",
    "comb_recipe_similarities"
   ],
   "metadata": {
    "collapsed": false,
    "pycharm": {
     "name": "#%%\n"
    }
   }
  },
  {
   "cell_type": "code",
   "execution_count": 6,
   "outputs": [
    {
     "name": "stdout",
     "output_type": "stream",
     "text": [
      "threshold\n",
      "(2, 17568)\n"
     ]
    }
   ],
   "source": [
    "print(utl.edge_amount)\n",
    "if utl.edge_amount == 'threshold':\n",
    "    threshold = utl.threshold\n",
    "    melted = pd.melt(comb_recipe_similarities, var_name='recipe', ignore_index=False).reset_index(names='combination')\n",
    "    melted = melted[melted['value'] >= threshold]\n",
    "    edge_indexA = melted[['combination', 'recipe']].values.T\n",
    "elif utl.edge_amount == 'number':\n",
    "    degree = utl.comb_degree\n",
    "    edge_indexA = comb_recipe_similarities.apply(lambda s: s.sort_values(ascending=False).index[:5].to_list(),\n",
    "                                                 axis=1).explode().reset_index().values.T\n",
    "else:\n",
    "    print(\"Error\")\n",
    "print(edge_indexA.shape)"
   ],
   "metadata": {
    "collapsed": false,
    "pycharm": {
     "name": "#%%\n"
    }
   }
  },
  {
   "cell_type": "markdown",
   "source": [
    "## Recipe-Recipe edges"
   ],
   "metadata": {
    "collapsed": false,
    "pycharm": {
     "name": "#%% md\n"
    }
   }
  },
  {
   "cell_type": "code",
   "execution_count": 7,
   "outputs": [
    {
     "data": {
      "text/plain": "          3031      1821      6062      3880      8433      2356      9125  \\\n3031  1.000000  0.035413  0.026217  0.014202  0.051022  0.011517  0.005737   \n1821  0.035413  1.000000  0.007001  0.031480  0.076984  0.023355  0.039113   \n6062  0.026217  0.007001  1.000000  0.081927  0.017332  0.207157  0.008605   \n3880  0.014202  0.031480  0.081927  1.000000  0.059339  0.184654  0.068163   \n8433  0.051022  0.076984  0.017332  0.059339  1.000000  0.098044  0.033297   \n...        ...       ...       ...       ...       ...       ...       ...   \n2155  0.035567  0.061224  0.070115  0.319063  0.064855  0.271727  0.050959   \n252   0.005617  0.023737  0.039574  0.073876  0.261114  0.100486  0.178428   \n7267  0.012290  0.021546  0.027027  0.032556  0.090482  0.060427  0.062096   \n5513  0.005863  0.014598  0.036325  0.051875  0.064953  0.142748  0.157363   \n2483  0.021575  0.029312  0.074607  0.092907  0.057464  0.075584  0.025793   \n\n          902       7686      8322  ...      2898      7485      1083  \\\n3031  0.014152  0.031075  0.061042  ...  0.007868  0.019565  0.029663   \n1821  0.038409  0.028761  0.017359  ...  0.030560  0.034583  0.025012   \n6062  0.043884  0.037566  0.096308  ...  0.032897  0.057700  0.032771   \n3880  0.102089  0.113964  0.027635  ...  0.038491  0.061879  0.065827   \n8433  0.056125  0.075210  0.036086  ...  0.024760  0.104892  0.055313   \n...        ...       ...       ...  ...       ...       ...       ...   \n2155  0.061205  0.095004  0.068147  ...  0.074420  0.068578  0.024816   \n252   0.010146  0.232419  0.066510  ...  0.018859  0.169763  0.020962   \n7267  0.018168  0.015272  0.060530  ...  0.018287  0.032521  0.022854   \n5513  0.026358  0.078139  0.030425  ...  0.036260  0.044222  0.017714   \n2483  0.021612  0.011133  0.054884  ...  0.056900  0.086641  0.049360   \n\n          6010      6955      2155      252       7267      5513      2483  \n3031  0.019063  0.057461  0.035567  0.005617  0.012290  0.005863  0.021575  \n1821  0.018956  0.018739  0.061224  0.023737  0.021546  0.014598  0.029312  \n6062  0.031193  0.045485  0.070115  0.039574  0.027027  0.036325  0.074607  \n3880  0.033855  0.049380  0.319063  0.073876  0.032556  0.051875  0.092907  \n8433  0.056337  0.057982  0.064855  0.261114  0.090482  0.064953  0.057464  \n...        ...       ...       ...       ...       ...       ...       ...  \n2155  0.074241  0.053551  1.000000  0.064713  0.049665  0.107490  0.122026  \n252   0.095908  0.097255  0.064713  1.000000  0.061114  0.150152  0.017413  \n7267  0.106004  0.077359  0.049665  0.061114  1.000000  0.088757  0.016862  \n5513  0.079828  0.058991  0.107490  0.150152  0.088757  1.000000  0.012730  \n2483  0.156308  0.028510  0.122026  0.017413  0.016862  0.012730  1.000000  \n\n[10000 rows x 10000 columns]",
      "text/html": "<div>\n<style scoped>\n    .dataframe tbody tr th:only-of-type {\n        vertical-align: middle;\n    }\n\n    .dataframe tbody tr th {\n        vertical-align: top;\n    }\n\n    .dataframe thead th {\n        text-align: right;\n    }\n</style>\n<table border=\"1\" class=\"dataframe\">\n  <thead>\n    <tr style=\"text-align: right;\">\n      <th></th>\n      <th>3031</th>\n      <th>1821</th>\n      <th>6062</th>\n      <th>3880</th>\n      <th>8433</th>\n      <th>2356</th>\n      <th>9125</th>\n      <th>902</th>\n      <th>7686</th>\n      <th>8322</th>\n      <th>...</th>\n      <th>2898</th>\n      <th>7485</th>\n      <th>1083</th>\n      <th>6010</th>\n      <th>6955</th>\n      <th>2155</th>\n      <th>252</th>\n      <th>7267</th>\n      <th>5513</th>\n      <th>2483</th>\n    </tr>\n  </thead>\n  <tbody>\n    <tr>\n      <th>3031</th>\n      <td>1.000000</td>\n      <td>0.035413</td>\n      <td>0.026217</td>\n      <td>0.014202</td>\n      <td>0.051022</td>\n      <td>0.011517</td>\n      <td>0.005737</td>\n      <td>0.014152</td>\n      <td>0.031075</td>\n      <td>0.061042</td>\n      <td>...</td>\n      <td>0.007868</td>\n      <td>0.019565</td>\n      <td>0.029663</td>\n      <td>0.019063</td>\n      <td>0.057461</td>\n      <td>0.035567</td>\n      <td>0.005617</td>\n      <td>0.012290</td>\n      <td>0.005863</td>\n      <td>0.021575</td>\n    </tr>\n    <tr>\n      <th>1821</th>\n      <td>0.035413</td>\n      <td>1.000000</td>\n      <td>0.007001</td>\n      <td>0.031480</td>\n      <td>0.076984</td>\n      <td>0.023355</td>\n      <td>0.039113</td>\n      <td>0.038409</td>\n      <td>0.028761</td>\n      <td>0.017359</td>\n      <td>...</td>\n      <td>0.030560</td>\n      <td>0.034583</td>\n      <td>0.025012</td>\n      <td>0.018956</td>\n      <td>0.018739</td>\n      <td>0.061224</td>\n      <td>0.023737</td>\n      <td>0.021546</td>\n      <td>0.014598</td>\n      <td>0.029312</td>\n    </tr>\n    <tr>\n      <th>6062</th>\n      <td>0.026217</td>\n      <td>0.007001</td>\n      <td>1.000000</td>\n      <td>0.081927</td>\n      <td>0.017332</td>\n      <td>0.207157</td>\n      <td>0.008605</td>\n      <td>0.043884</td>\n      <td>0.037566</td>\n      <td>0.096308</td>\n      <td>...</td>\n      <td>0.032897</td>\n      <td>0.057700</td>\n      <td>0.032771</td>\n      <td>0.031193</td>\n      <td>0.045485</td>\n      <td>0.070115</td>\n      <td>0.039574</td>\n      <td>0.027027</td>\n      <td>0.036325</td>\n      <td>0.074607</td>\n    </tr>\n    <tr>\n      <th>3880</th>\n      <td>0.014202</td>\n      <td>0.031480</td>\n      <td>0.081927</td>\n      <td>1.000000</td>\n      <td>0.059339</td>\n      <td>0.184654</td>\n      <td>0.068163</td>\n      <td>0.102089</td>\n      <td>0.113964</td>\n      <td>0.027635</td>\n      <td>...</td>\n      <td>0.038491</td>\n      <td>0.061879</td>\n      <td>0.065827</td>\n      <td>0.033855</td>\n      <td>0.049380</td>\n      <td>0.319063</td>\n      <td>0.073876</td>\n      <td>0.032556</td>\n      <td>0.051875</td>\n      <td>0.092907</td>\n    </tr>\n    <tr>\n      <th>8433</th>\n      <td>0.051022</td>\n      <td>0.076984</td>\n      <td>0.017332</td>\n      <td>0.059339</td>\n      <td>1.000000</td>\n      <td>0.098044</td>\n      <td>0.033297</td>\n      <td>0.056125</td>\n      <td>0.075210</td>\n      <td>0.036086</td>\n      <td>...</td>\n      <td>0.024760</td>\n      <td>0.104892</td>\n      <td>0.055313</td>\n      <td>0.056337</td>\n      <td>0.057982</td>\n      <td>0.064855</td>\n      <td>0.261114</td>\n      <td>0.090482</td>\n      <td>0.064953</td>\n      <td>0.057464</td>\n    </tr>\n    <tr>\n      <th>...</th>\n      <td>...</td>\n      <td>...</td>\n      <td>...</td>\n      <td>...</td>\n      <td>...</td>\n      <td>...</td>\n      <td>...</td>\n      <td>...</td>\n      <td>...</td>\n      <td>...</td>\n      <td>...</td>\n      <td>...</td>\n      <td>...</td>\n      <td>...</td>\n      <td>...</td>\n      <td>...</td>\n      <td>...</td>\n      <td>...</td>\n      <td>...</td>\n      <td>...</td>\n      <td>...</td>\n    </tr>\n    <tr>\n      <th>2155</th>\n      <td>0.035567</td>\n      <td>0.061224</td>\n      <td>0.070115</td>\n      <td>0.319063</td>\n      <td>0.064855</td>\n      <td>0.271727</td>\n      <td>0.050959</td>\n      <td>0.061205</td>\n      <td>0.095004</td>\n      <td>0.068147</td>\n      <td>...</td>\n      <td>0.074420</td>\n      <td>0.068578</td>\n      <td>0.024816</td>\n      <td>0.074241</td>\n      <td>0.053551</td>\n      <td>1.000000</td>\n      <td>0.064713</td>\n      <td>0.049665</td>\n      <td>0.107490</td>\n      <td>0.122026</td>\n    </tr>\n    <tr>\n      <th>252</th>\n      <td>0.005617</td>\n      <td>0.023737</td>\n      <td>0.039574</td>\n      <td>0.073876</td>\n      <td>0.261114</td>\n      <td>0.100486</td>\n      <td>0.178428</td>\n      <td>0.010146</td>\n      <td>0.232419</td>\n      <td>0.066510</td>\n      <td>...</td>\n      <td>0.018859</td>\n      <td>0.169763</td>\n      <td>0.020962</td>\n      <td>0.095908</td>\n      <td>0.097255</td>\n      <td>0.064713</td>\n      <td>1.000000</td>\n      <td>0.061114</td>\n      <td>0.150152</td>\n      <td>0.017413</td>\n    </tr>\n    <tr>\n      <th>7267</th>\n      <td>0.012290</td>\n      <td>0.021546</td>\n      <td>0.027027</td>\n      <td>0.032556</td>\n      <td>0.090482</td>\n      <td>0.060427</td>\n      <td>0.062096</td>\n      <td>0.018168</td>\n      <td>0.015272</td>\n      <td>0.060530</td>\n      <td>...</td>\n      <td>0.018287</td>\n      <td>0.032521</td>\n      <td>0.022854</td>\n      <td>0.106004</td>\n      <td>0.077359</td>\n      <td>0.049665</td>\n      <td>0.061114</td>\n      <td>1.000000</td>\n      <td>0.088757</td>\n      <td>0.016862</td>\n    </tr>\n    <tr>\n      <th>5513</th>\n      <td>0.005863</td>\n      <td>0.014598</td>\n      <td>0.036325</td>\n      <td>0.051875</td>\n      <td>0.064953</td>\n      <td>0.142748</td>\n      <td>0.157363</td>\n      <td>0.026358</td>\n      <td>0.078139</td>\n      <td>0.030425</td>\n      <td>...</td>\n      <td>0.036260</td>\n      <td>0.044222</td>\n      <td>0.017714</td>\n      <td>0.079828</td>\n      <td>0.058991</td>\n      <td>0.107490</td>\n      <td>0.150152</td>\n      <td>0.088757</td>\n      <td>1.000000</td>\n      <td>0.012730</td>\n    </tr>\n    <tr>\n      <th>2483</th>\n      <td>0.021575</td>\n      <td>0.029312</td>\n      <td>0.074607</td>\n      <td>0.092907</td>\n      <td>0.057464</td>\n      <td>0.075584</td>\n      <td>0.025793</td>\n      <td>0.021612</td>\n      <td>0.011133</td>\n      <td>0.054884</td>\n      <td>...</td>\n      <td>0.056900</td>\n      <td>0.086641</td>\n      <td>0.049360</td>\n      <td>0.156308</td>\n      <td>0.028510</td>\n      <td>0.122026</td>\n      <td>0.017413</td>\n      <td>0.016862</td>\n      <td>0.012730</td>\n      <td>1.000000</td>\n    </tr>\n  </tbody>\n</table>\n<p>10000 rows × 10000 columns</p>\n</div>"
     },
     "execution_count": 7,
     "metadata": {},
     "output_type": "execute_result"
    }
   ],
   "source": [
    "recipes_similarities.index = recipes_similarities.index.map(serial_to_index.get)\n",
    "recipes_similarities.columns = recipes_similarities.columns.map(serial_to_index.get)\n",
    "recipes_similarities"
   ],
   "metadata": {
    "collapsed": false,
    "pycharm": {
     "name": "#%%\n"
    }
   }
  },
  {
   "cell_type": "code",
   "execution_count": 8,
   "outputs": [
    {
     "name": "stdout",
     "output_type": "stream",
     "text": [
      "threshold\n",
      "(2, 10078)\n"
     ]
    }
   ],
   "source": [
    "print(utl.edge_amount)\n",
    "if utl.edge_amount == 'threshold':\n",
    "    threshold = utl.threshold\n",
    "    melted = pd.melt(recipes_similarities, var_name='recipe', ignore_index=False).reset_index(names='combination')\n",
    "    melted = melted[melted['value'] >= threshold]\n",
    "    edge_indexB = melted[['combination', 'recipe']].values.T\n",
    "elif utl.edge_amount == 'number':\n",
    "    num_edges = utl.num_edges\n",
    "    keep = np.triu(np.ones(recipes_similarities.shape), k=1).astype('bool').reshape(recipes_similarities.size)\n",
    "    melted = recipes_similarities.stack()[keep]\n",
    "    edge_indexB = melted.nlargest(n=num_edges, keep='first').reset_index()[['level_0', 'level_1']].values.T\n",
    "else:\n",
    "    print(\"Error\")\n",
    "print(edge_indexB.shape)"
   ],
   "metadata": {
    "collapsed": false,
    "pycharm": {
     "name": "#%%\n"
    }
   }
  },
  {
   "cell_type": "markdown",
   "source": [
    "## Merge"
   ],
   "metadata": {
    "collapsed": false,
    "pycharm": {
     "name": "#%% md\n"
    }
   }
  },
  {
   "cell_type": "code",
   "execution_count": 14,
   "outputs": [],
   "source": [
    "edge_index = np.concatenate([edge_indexA, edge_indexB], axis=1)"
   ],
   "metadata": {
    "collapsed": false,
    "pycharm": {
     "name": "#%%\n"
    }
   }
  },
  {
   "cell_type": "code",
   "execution_count": 20,
   "outputs": [],
   "source": [
    "embeddings.index = embeddings.index.map(serial_to_index.get)\n",
    "embeddings = embeddings.values\n",
    "embeddings"
   ],
   "metadata": {
    "collapsed": false,
    "pycharm": {
     "name": "#%%\n"
    }
   }
  },
  {
   "cell_type": "code",
   "execution_count": 22,
   "outputs": [
    {
     "data": {
      "text/plain": "15445"
     },
     "execution_count": 22,
     "metadata": {},
     "output_type": "execute_result"
    }
   ],
   "source": [
    "num_nodes = embeddings.shape[0]\n",
    "num_nodes"
   ],
   "metadata": {
    "collapsed": false,
    "pycharm": {
     "name": "#%%\n"
    }
   }
  },
  {
   "cell_type": "code",
   "execution_count": 30,
   "outputs": [],
   "source": [
    "G = {'edge_index': edge_index,\n",
    "     'num_nodes': num_nodes,\n",
    "     'embeddings': embeddings,\n",
    "     'recipes_similarities': recipes_similarities,\n",
    "     'comb_recipe_similarities': comb_recipe_similarities,\n",
    "     'serial_to_index': serial_to_index,\n",
    "     'index_to_serial': index_to_serial}"
   ],
   "metadata": {
    "collapsed": false,
    "pycharm": {
     "name": "#%%\n"
    }
   }
  },
  {
   "cell_type": "code",
   "execution_count": 31,
   "outputs": [],
   "source": [
    "pkl.dump(G, open(f'{path2root}/data/G_data.pkl', 'wb'))"
   ],
   "metadata": {
    "collapsed": false,
    "pycharm": {
     "name": "#%%\n"
    }
   }
  }
 ],
 "metadata": {
  "kernelspec": {
   "display_name": "Python 3",
   "language": "python",
   "name": "python3"
  },
  "language_info": {
   "codemirror_mode": {
    "name": "ipython",
    "version": 2
   },
   "file_extension": ".py",
   "mimetype": "text/x-python",
   "name": "python",
   "nbconvert_exporter": "python",
   "pygments_lexer": "ipython2",
   "version": "2.7.6"
  }
 },
 "nbformat": 4,
 "nbformat_minor": 0
}