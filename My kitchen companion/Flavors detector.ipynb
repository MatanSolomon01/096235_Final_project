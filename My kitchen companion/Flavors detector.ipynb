{
 "cells": [
  {
   "cell_type": "markdown",
   "source": [
    "# Data Exploration"
   ],
   "metadata": {
    "collapsed": false
   }
  },
  {
   "cell_type": "markdown",
   "source": [
    "## Imports"
   ],
   "metadata": {
    "collapsed": false
   }
  },
  {
   "cell_type": "code",
   "execution_count": 3,
   "outputs": [],
   "source": [
    "import string\n",
    "\n",
    "import pandas as pd\n",
    "import matplotlib.pyplot as plt\n",
    "import numpy as np\n",
    "import pickle as pkl\n",
    "from collections import Counter\n",
    "import re\n",
    "from collections import defaultdict\n"
   ],
   "metadata": {
    "collapsed": false,
    "pycharm": {
     "name": "#%%\n"
    }
   }
  },
  {
   "cell_type": "markdown",
   "source": [
    "## Load the data"
   ],
   "metadata": {
    "collapsed": false
   }
  },
  {
   "cell_type": "code",
   "execution_count": 4,
   "outputs": [],
   "source": [
    "with open('data/data_df.pkl', 'rb') as f:\n",
    "    data = pkl.load(f)\n",
    "    first_ingredients = pkl.load(open('data/ingredients/first_ingredients', 'rb'))\n",
    "first_ingredients = [ing.replace(' ', '') for ing in first_ingredients]"
   ],
   "metadata": {
    "collapsed": false,
    "pycharm": {
     "name": "#%%\n"
    }
   }
  },
  {
   "cell_type": "code",
   "execution_count": 5,
   "outputs": [
    {
     "data": {
      "text/plain": "['salt',\n 'sugar',\n 'butter',\n 'water',\n 'brownsugar',\n 'milk',\n 'flour',\n 'honey',\n 'all-purposeflour',\n 'vanillaextract',\n 'bakingpowder',\n 'oliveoil',\n 'lemonjuice',\n 'garlicpowder',\n 'bakingsoda',\n 'unsaltedbutter',\n 'cinnamon',\n 'vegetableoil',\n 'groundcinnamon',\n 'onions',\n 'pepper',\n 'blackpepper',\n 'mayonnaise',\n 'whitesugar',\n 'granulatedsugar',\n 'cornstarch',\n 'paprika',\n 'koshersalt',\n 'wholewheatflour',\n 'heavycream',\n 'soysauce',\n 'breadflour',\n 'garlic',\n 'raisins',\n 'walnuts',\n 'onionpowder',\n 'orangejuice',\n 'cayennepepper',\n 'pecans',\n 'sourcream',\n 'margarine',\n 'Worcestershiresauce',\n 'buttermilk',\n 'creamcheese',\n 'powderedsugar',\n 'parmesancheese',\n 'warmwater',\n 'freshlemonjuice',\n 'rolledoats',\n 'peanutbutter',\n 'chilipowder',\n 'carrots',\n 'Dijonmustard',\n \"confectioners'sugar\",\n 'oil',\n 'yeast',\n 'maplesyrup',\n 'nutmeg',\n 'seasalt',\n 'groundginger',\n 'canolaoil',\n 'lightcornsyrup',\n 'lightbrownsugar',\n 'vinegar',\n 'activedryyeast',\n 'ketchup',\n 'strawberries',\n 'groundblackpepper',\n 'almonds',\n 'freshgroundblackpepper',\n 'drymustard',\n 'groundcumin',\n 'celery',\n 'cocoapowder',\n 'extravirginoliveoil',\n 'molasses',\n 'balsamicvinegar',\n 'groundnutmeg',\n 'cidervinegar',\n 'greenonions',\n 'apples',\n 'sesameseeds',\n 'wholemilk',\n 'limejuice',\n 'semi-sweetchocolatechips',\n 'boilingwater',\n 'chocolatechips',\n 'purevanillaextract',\n 'driedcranberries',\n 'whitepepper',\n 'unsweetenedcocoapowder',\n 'coldwater',\n 'whitevinegar',\n 'whippingcream',\n 'driedoregano',\n 'chickenbroth',\n 'parsley',\n 'redwinevinegar',\n 'blueberries',\n 'ginger',\n 'driedthyme',\n 'cheddarcheese',\n 'freshparsley',\n 'darkbrownsugar',\n 'applecidervinegar',\n 'garlicsalt',\n 'groundcloves',\n 'cornmeal',\n 'hotwater',\n 'skimmilk',\n 'vegetableshortening',\n 'dryyeast',\n 'oregano',\n 'sunflowerseeds',\n 'nuts',\n 'potatoes',\n 'sesameoil',\n 'cornsyrup',\n 'pineapplejuice',\n 'redonions',\n 'plainyogurt',\n 'oldfashionedoats',\n 'low-fatmilk',\n 'oats',\n 'freshginger',\n 'vanillaicecream',\n 'currypowder',\n 'freshlimejuice',\n 'orangezest',\n 'heavywhippingcream',\n 'cumin',\n 'semisweetchocolate',\n 'driedbasil',\n 'slicedalmonds',\n 'vodka',\n 'creamypeanutbutter',\n 'oatmeal',\n 'applesauce',\n 'coconutoil',\n 'cakeflour',\n 'powderedmilk',\n 'applejuice',\n 'evaporatedmilk',\n 'wheatgerm',\n 'celeryseeds',\n 'bacon',\n 'ricevinegar',\n 'sliveredalmonds',\n 'cayenne',\n 'bittersweetchocolate',\n 'pecanhalves',\n 'ice',\n 'peanuts',\n 'seasoningsalt',\n 'puremaplesyrup',\n 'quick-cookingoats',\n 'freshstrawberries',\n 'groundbeef',\n 'whitechocolate',\n 'crushedredpepperflakes',\n 'driedapricots',\n 'barbecuesauce',\n 'coconut',\n 'sweetpotatoes',\n 'dates',\n 'sharpcheddarcheese',\n 'cream',\n 'unbleachedall-purposeflour',\n 'thyme',\n 'darkchocolate',\n 'agavenectar',\n 'icewater',\n 'shallots',\n 'instantyeast',\n 'pumpkinseeds',\n 'basil',\n 'plainflour',\n 'bluecheese',\n 'flaxseeds',\n 'Tabascosauce',\n 'whitewinevinegar',\n 'redpepperflakes',\n 'shreddedcheddarcheese',\n 'raspberries',\n 'coconutmilk',\n 'creamoftartar',\n 'miniaturemarshmallows',\n 'shreddedcoconut',\n 'soymilk',\n 'sweetenedcondensedmilk',\n 'mustard',\n 'freshbasil',\n 'castersugar',\n 'peaches',\n 'tomatoes',\n 'nonfatdrymilkpowder',\n 'poppedpopcorn',\n 'driedparsley',\n 'self-risingflour',\n 'freshblueberries',\n 'Splendasugarsubstitute',\n 'bananas',\n 'poppyseeds',\n 'Greekyogurt',\n 'whiteflour',\n 'nonfatmilk',\n 'cranberries',\n 'icingsugar',\n 'freshgroundpepper',\n 'bonelessskinlesschickenbreasts',\n 'yogurt',\n 'beer',\n 'coarsesalt',\n 'freshcilantro',\n 'cabbage',\n 'eggsubstitute',\n 'mangoes',\n 'goldensyrup',\n 'greenpeppers',\n 'hotpeppersauce',\n 'chives',\n 'preparedmustard',\n 'preparedhorseradish',\n 'groundcardamom',\n 'hazelnuts',\n 'cucumbers',\n 'RiceKrispies',\n 'greenbeans',\n 'chicken',\n 'unsweetenedapplesauce',\n 'goldenraisins',\n 'carawayseeds',\n 'cranberryjuice',\n 'groundflaxseeds',\n 'darkrum',\n 'icecubes',\n 'pinenuts',\n 'zucchini',\n 'flakedcoconut',\n 'chickenstock',\n 'pumpkinpiespice',\n 'driedonionflakes',\n 'horseradish',\n 'rum',\n 'eggwhites',\n 'popcorn',\n 'freshchives',\n 'cilantro',\n 'freshorangejuice',\n 'cloves',\n 'cashews',\n 'driedrosemary',\n 'groundcoriander',\n 'dillweed',\n 'groundredpepper',\n 'scallions',\n 'asparagus',\n 'freshdill',\n 'vanilla',\n 'broccoliflorets',\n 'chickenwings',\n 'rosemary',\n 'applecider',\n 'orangerind',\n 'freshrosemary',\n 'cereal',\n 'lard',\n 'ryeflour',\n 'milkchocolate',\n 'orangemarmalade',\n 'wholewheatpastryflour',\n 'blackberries',\n 'milkchocolatechips',\n 'driedcherries',\n 'peanutoil',\n 'saltedbutter',\n 'chocolate',\n 'pumpkinpuree',\n 'cookedchicken',\n 'freshcranberries',\n 'tomatosauce',\n 'freshraspberries',\n 'quickoats',\n 'whitechocolatechips',\n 'tomatopaste',\n 'chickenbreasts',\n 'breadmachineyeast',\n 'cheese',\n 'salsa',\n 'redbellpeppers',\n 'minimarshmallows',\n 'mustardpowder',\n 'yellowcornmeal',\n 'mushrooms',\n 'fetacheese',\n 'tablesalt',\n 'watermelon',\n 'frozenstrawberries',\n 'babycarrots',\n 'crispyricecereal',\n 'redpeppers',\n 'Brusselssprouts',\n 'gingerale',\n 'mozzarellacheese',\n 'redpotatoes',\n 'unbleachedflour',\n 'ricewinevinegar',\n 'pineapple',\n 'pistachios',\n 'catsup',\n 'freshthyme',\n 'frozenblueberries',\n 'riceflour',\n 'cuminseeds',\n 'fennelseeds',\n 'brownrice',\n 'broccoli',\n 'orangepeel',\n 'porktenderloin',\n 'drymilk',\n 'unsweetenedcocoa',\n 'almondmilk',\n 'grenadine',\n 'freshcoarsegroundblackpepper',\n 'cherrytomatoes',\n 'apricotpreserves',\n 'lowsodiumsoysauce',\n 'superfinesugar',\n 'saltedpeanuts',\n 'lightcream',\n 'sweetenedflakedcoconut',\n 'rice',\n 'wholealmonds',\n 'distilledwhitevinegar',\n 'low-fatsourcream',\n 'quinoa',\n 'condensedmilk',\n 'chiaseeds',\n 'parsleyflakes',\n 'berries',\n 'marshmallows',\n 'spinach',\n 'crushedpineapple',\n 'cottagecheese',\n 'saladoil',\n 'limezest',\n 'shrimp',\n 'darkchocolatechips',\n 'chocolatesyrup',\n 'mustardseeds',\n 'groundpepper',\n 'oatbran',\n 'desiccatedcoconut',\n 'russetpotatoes',\n 'wheatflour',\n 'lemonpepper',\n 'freshgreenbeans',\n 'salmonfillets',\n 'unsweetenedchocolate',\n 'vanillayogurt',\n 'onionsalt',\n 'pitteddates',\n 'flaxseedmeal',\n 'fineseasalt',\n 'crackedblackpepper',\n 'freshmushrooms',\n 'yukongoldpotatoes',\n 'yellowmustard',\n 'crunchypeanutbutter',\n 'mashedpotatoes',\n 'whitebreadflour',\n 'groundmustard',\n 'bicarbonateofsoda',\n 'dryroastedpeanuts',\n 'whiterice',\n 'pretzels',\n 'macadamianuts',\n 'cookingoil',\n 'frozenraspberries',\n 'couscous',\n 'hoisinsauce',\n 'granulatedgarlic',\n 'longgrainrice',\n 'tahini',\n 'natural-stylepeanutbutter',\n 'crispricecereal',\n 'drieddillweed',\n 'cookedrice',\n 'speltflour',\n 'toastedsesameseeds',\n 'almondbutter',\n 'groundcayennepepper',\n 'groundturmeric',\n 'pancakemix',\n 'blanchedalmonds',\n 'stevia',\n 'artificialsweetener',\n 'corn',\n 'vanillaessence',\n 'swisscheese',\n 'vitalwheatgluten',\n 'GrannySmithapples',\n 'dill',\n 'saltandpepper',\n 'almondflour',\n 'unsweetenedcoconut',\n 'corianderseeds',\n 'mixednuts',\n 'drieddill',\n 'Italiandressing',\n 'darkcornsyrup',\n 'rawsugar',\n 'cannedpumpkin',\n 'capers',\n 'sugarsubstitute',\n 'freshpeaches',\n 'steelcutoats',\n 'cocoa',\n 'pears',\n 'rosewater',\n 'tomatojuice',\n 'yellowonions',\n 'minichocolatechips',\n 'cornoil',\n 'plainlow-fatyogurt',\n 'lightmayonnaise',\n 'freshgarlic',\n 'chunkypeanutbutter',\n 'low-fatmayonnaise',\n 'unbleachedwhiteflour',\n 'teriyakisauce',\n 'freshspinach',\n 'apricots',\n 'cajunseasoning',\n 'lowsodiumchickenbroth',\n 'eggs',\n 'quick-cookingrolledoats',\n 'clubsoda',\n 'tequila',\n 'blackpeppercorns',\n 'crystallizedginger',\n 'freshbasilleaves',\n 'granolacereal',\n 'grapeseedoil',\n 'selfrisingflour',\n 'frozenpeas',\n 'marshmallowcream',\n 'BabySpinach',\n 'pomegranatejuice',\n 'grapefruitjuice',\n 'currants',\n 'dicedonions',\n 'beets',\n 'shortening',\n 'cantaloupe',\n 'oatflour',\n 'frozenorangejuiceconcentrate',\n 'low-fatvanillayogurt',\n 'butternutsquash',\n 'sweetpaprika',\n 'goatcheese',\n 'simplesyrup',\n 'beef',\n 'freshblackberries',\n 'driedparsleyflakes',\n 'walnuthalves',\n 'leangroundbeef',\n 'sun-driedtomatoes',\n 'driedtarragon',\n 'freshasparagus',\n 'raspberryjam',\n 'coriander',\n 'vegetablebroth',\n 'plums',\n 'low-fatbuttermilk',\n 'toastedsesameoil',\n 'goldenbrownsugar',\n 'icecream',\n 'plainfat-freeyogurt',\n 'unsweeteneddriedshreddedcoconut',\n 'jalapenopeppers',\n 'essentialoils',\n 'dicedtomatoes',\n 'lightsoysauce',\n 'whippedcream',\n 'turbinadosugar',\n 'apricotjam',\n 'lemonade',\n 'sweetonions',\n 'freshtarragon',\n 'redseedlessgrapes',\n 'darksesameoil',\n 'smoothpeanutbutter',\n 'half-and-halfcream',\n 'syrup',\n 'drybreadcrumbs',\n 'beefbroth',\n 'dijon-stylemustard',\n 'lowfatcottagecheese',\n 'driedblueberries',\n 'whiskey',\n 'mashedbananas',\n 'cauliflowerflorets',\n 'cherries',\n 'ranchdressing',\n 'pretzelsticks',\n 'marshmallowcreme',\n 'saffloweroil',\n 'tartapples',\n 'gin',\n 'basilleaves',\n 'bakingcocoa',\n 'EggBeaterseggsubstitute',\n 'siftedflour',\n 'nonfatplainyogurt',\n 'selfraisingflour',\n 'driedyeast',\n 'eggnoodles',\n 'breadcrumbs',\n 'ricottacheese',\n 'fastrisingyeast',\n 'walnutpieces',\n 'liquidhoney',\n 'fat-freemayonnaise',\n 'slicedmushrooms',\n 'long-grainrice',\n 'tofu',\n 'cauliflower',\n 'Dutch-processedcocoapowder',\n 'powdereddrinkmix',\n 'vanillaproteinpowder',\n 'chickenpieces',\n 'skimmilkpowder',\n 'driedmarjoram',\n 'fishsauce',\n 'radishes',\n 'parsnips',\n 'blackbeans',\n 'fastriseyeast',\n 'leeks',\n 'pineapplechunks',\n 'self-raisingflour',\n 'driedchives',\n 'firmtofu',\n 'slicedapples',\n 'silkentofu',\n 'drybuttermilk',\n 'whitecornsyrup',\n 'plainnonfatyogurt',\n 'coconutrum',\n 'veganmargarine',\n 'non-fatpowderedmilk',\n 'lightrum',\n 'freshthymeleaves',\n 'coarseseasalt',\n 'orangejuiceconcentrate',\n 'tarragon',\n 'finesalt',\n 'instantmincedonion',\n 'bakingpotatoes',\n 'driedthymeleaves',\n 'onionflakes',\n 'sunfloweroil',\n 'unsweetenedpineapplejuice',\n 'RiceChex',\n 'potatochips',\n 'roastedredpeppers',\n 'driedsweetenedcranberries',\n 'groundalmonds',\n 'pumpkin',\n 'coconutextract',\n '2%low-fatmilk',\n 'creamofcoconut',\n 'baconbits',\n 'orangeliqueur',\n 'ricemilk',\n 'walnutoil',\n 'pecanpieces',\n 'flanksteaks',\n 'greencabbage',\n 'honeymustard',\n 'chocolateicecream',\n 'chickenbouillongranules',\n 'nutritionalyeast',\n 'ricewine',\n 'driedapples',\n 'freshoregano',\n 'nonfatyogurt',\n 'jalapenos',\n 'caramels',\n 'winevinegar',\n 'pistachionuts',\n 'sultanas',\n 'olives',\n 'rawcashews',\n 'blackolives',\n 'unbleachedcanesugar',\n 'grapejuice',\n 'porkspareribs',\n 'miso',\n 'vegetables',\n 'whiteonions',\n 'pestosauce',\n 'all-brancereal',\n 'dryactiveyeast',\n 'lightsourcream',\n 'avocados',\n 'dillpickles',\n 'wildrice',\n 'driedonion',\n 'kale',\n 'whitewholewheatflour',\n 'kalamataolives',\n 'long-grainwhiterice',\n 'oystersauce',\n 'peanutbutterchips',\n 'Cheeriostoastedoatcereal',\n 'seedlessgrapes',\n 'pepitas',\n 'newpotatoes',\n 'lightcreamcheese',\n 'orangeextract',\n 'sweetredpeppers',\n 'chickpeas',\n 'poppedcorn',\n 'toastedalmonds',\n 'fettuccine',\n 'groundturkey',\n 'rawpeanuts',\n 'papayas',\n 'darkmolasses',\n 'preparedyellowmustard',\n 'candiedginger',\n 'cornkernels',\n 'instantpotatoflakes',\n 'semolinaflour',\n 'sauerkraut',\n 'tacoseasoning',\n 'freshpineapple',\n 'redcabbage',\n 'reducedsodiumsoysauce',\n 'sweetpicklerelish',\n 'strawberryjam',\n 'romainelettuce',\n 'mincedginger',\n 'fatfreecreamcheese',\n 'eggnog',\n 'jam',\n 'rumextract',\n 'soyflour',\n 'salmon',\n 'doublecream',\n 'proteinpowder',\n 'smallpretzels',\n 'freshrosemaryleaves',\n 'bread',\n 'greenseedlessgrapes',\n 'marjoram',\n 'artichokehearts',\n 'semisweetchocolatemorsels',\n 'unsaltedpeanuts',\n 'Splendagranular',\n 'spicybrownmustard',\n 'aniseseed',\n \"Lawry'sSeasonedSalt\",\n 'driedfigs',\n 'peas',\n 'sparklingwater',\n 'chowmeinnoodles',\n 'extra-sharpcheddarcheese',\n 'agavesyrup',\n 'noodles',\n 'frozencorn',\n 'turkey',\n 'sugarsnappeas',\n 'CornChex',\n 'instantmaltedmilkpowder',\n 'brownricesyrup',\n 'grapes',\n 'jasminerice',\n 'dryroastedsaltedpeanuts',\n 'crabmeat',\n 'Italiansaladdressing',\n 'blacksesameseeds',\n 'bonelesschickenbreasts',\n 'roastedpeanuts',\n 'sweetenedcoconut',\n 'chickenbouillon',\n 'realmaplesyrup',\n 'powderedginger',\n 'seedlesswatermelon',\n 'asparagusspears',\n 'potatoflakes',\n 'whiterum',\n 'applebutter',\n 'fishfillets',\n 'romanocheese',\n 'rawhoney',\n 'whitebalsamicvinegar',\n 'frozenmixedberries',\n 'uncookedrice',\n 'rootbeer',\n 'semolina',\n 'raspberryvinegar',\n 'pearlbarley',\n 'oranges',\n 'almondmeal',\n 'barley',\n 'largeshrimp',\n 'shreddedwheatcereal',\n 'driedfruit',\n 'greengrapes',\n 'reduced-fatsourcream',\n 'vegetablestock',\n 'pastryflour',\n 'coconutcream',\n 'unsweetenedapplejuice',\n 'vanillavodka',\n 'porkloin',\n 'candycorn',\n 'choppedtomatoes',\n 'cacao',\n 'grapetomatoes',\n 'Orangesherbet',\n 'caramelicecreamtopping',\n 'unsalteddryroastedpeanuts',\n 'driedoreganoleaves',\n 'creamofmushroomsoup',\n 'low-fatplainyogurt',\n 'Chexcereal',\n 'Chinesefivespicepowder',\n 'pankobreadcrumbs',\n 'KraftGratedParmesanCheese',\n 'toastedwheatgerm',\n 'porkbabybackribs',\n 'freshbroccoli',\n 'quick-cookingoatmeal',\n 'frozenspinach',\n 'garlicgranules',\n 'cayennepowder',\n 'darkraisins',\n 'cookedbrownrice',\n 'beefbouillongranules',\n '1%low-fatmilk',\n 'cookedchickenbreasts',\n 'mascarponecheese',\n 'instantmincedgarlic',\n 'vanillasugar',\n 'fruit',\n 'unsweetenedalmondmilk',\n 'mixedberries',\n 'smokedsalmon',\n 'non-fatvanillayogurt',\n 'driedpineapple',\n 'picklingsalt',\n 'arugula',\n 'instantnonfatdrymilkpowder',\n 'brownriceflour',\n 'saffronthreads',\n 'softbrownsugar',\n 'creamofchickensoup',\n 'lightmolasses',\n 'vanillabeanpaste',\n 'gingerpowder',\n 'cannedpumpkinpuree',\n 'gluten-freeflour',\n 'srirachasauce',\n 'roastedcashews',\n \"Hellmann'smayonnaise\",\n 'fatfreesourcream',\n \"M&M's\",\n 'granulatedonion',\n 'candies',\n 'low-fatyogurt',\n 'PLANTERSSlicedAlmonds',\n 'cornflour',\n 'peppercorns',\n 'vinaigrettedressing',\n 'wheat',\n 'groundoregano',\n 'lettuce',\n 'shelledpistachios',\n 'frozenchoppedspinach',\n 'mediumshrimp',\n 'seedlessraspberryjam',\n 'honeydewmelon',\n 'edamame',\n 'mangochutney',\n 'unsweetenedflakedcoconut',\n 'driedtartcherries',\n 'frozenunsweetenedstrawberries',\n 'vanillawafers',\n 'GreyPouponDijonMustard',\n 'coconutflour',\n 'unpoppedpopcorn',\n 'cookingapples',\n 'cranberrysauce',\n 'garliccloves',\n 'garbanzobeans',\n 'old-fashionedoatmeal',\n 'longgrainwhiterice',\n 'CremedeCacao',\n 'sweetbutter',\n 'Americancheese',\n 'low-fatcreamcheese',\n 'waterchestnuts',\n 'whitegrapejuice',\n 'freshbroccoliflorets',\n 'pork',\n 'semisweetveganchocolatechips',\n 'unsaltedsunflowerseeds',\n 'unsweetenedcoconutmilk',\n \"M&M'splainchocolatecandy\",\n 'beefstock',\n 'cardamomseeds',\n 'groundpork',\n 'yellowsquash',\n 'greenolives',\n 'cranberryjuicecocktail',\n 'puffedricecereal',\n 'freshItalianparsley',\n 'carobpowder',\n 'sherrywinevinegar',\n 'bulgur',\n 'orangeblossomwater',\n 'kielbasa',\n 'saltedcashews',\n 'babyspinachleaves',\n 'freshyeast',\n 'buckwheatflour',\n 'pintobeans',\n 'barleyflour',\n 'yoghurt',\n 'soup',\n 'porksausage',\n 'applepiespice',\n 'seasonedricevinegar',\n 'driedcurrants',\n 'sun-driedtomatoespackedinoil',\n 'fat-freebuttermilk',\n 'maraschinocherries',\n 'roastedalmonds',\n 'freshgingerroot',\n 'driedcilantro',\n 'beefroast',\n 'chickentenders',\n 'whitesesameseeds',\n 'Spanishpeanuts',\n 'low-fatcheddarcheese',\n 'reduced-sodiumfat-freechickenbroth',\n 'dillseeds',\n 'peppersauce',\n 'chunkysalsa',\n 'unbleachedbreadflour',\n 'coleslawmix',\n 'liquideggsubstitute',\n 'flaxseedoil',\n 'driedbasilleaves',\n 'beeftenderloin',\n 'beans',\n 'apricotnectar',\n 'freshtomatoes',\n 'frozencranberries',\n 'applejuiceconcentrate',\n 'miniaturesemisweetchocolatechips',\n 'tomatopuree',\n 'maplesugar',\n 'lightcoconutmilk',\n 'whitepearlonions',\n 'pizzadough',\n 'wasabipaste',\n 'half-and-half',\n 'porkribs',\n 'instantrice',\n 'oreganoleaves',\n 'lightKarosyrup',\n 'all-purposewhiteflour',\n 'peppermintcandies',\n 'Crispixcereal',\n 'Karosyrup',\n 'grahamflour',\n 'nonfatvanillayogurt',\n 'pomegranateseeds',\n 'vidaliaonions',\n 'tapwater',\n 'maltvinegar',\n 'coarsegrainmustard',\n 'lemonademix',\n 'drybasil',\n 'Splendabrownsugarblend',\n 'freshbreadcrumbs',\n 'seascallops',\n 'frozenpeaches',\n 'cookedturkey',\n 'reduced-fatcreamcheese',\n 'bacondrippings',\n 'turnips',\n 'coconutsugarcrystals',\n 'nectarines',\n 'hotsauce',\n 'saffron',\n 'groundthyme',\n 'nutritionalyeastflakes',\n 'yellowmustardseeds',\n 'crushedpineappleinjuice',\n 'pancakesyrup',\n 'hempseeds',\n 'pineappletidbits',\n 'darksoysauce',\n 'bacongrease',\n 'Hungarianpaprika',\n 'porkshoulder',\n 'juice',\n 'lightmargarine',\n 'reduced-fatpeanutbutter',\n 'sweetcherries',\n 'realbutter',\n 'hotredpepperflakes',\n 'goldendeliciousapples',\n 'frozenlemonadeconcentrate',\n 'raspberrysherbet',\n 'redgrapes',\n 'creoleseasoning',\n 'plumtomatoes',\n 'turmeric',\n 'okara',\n 'vanillafrozenyogurt',\n 'strawberrypreserves',\n 'porkroast',\n 'bananaliqueur',\n 'reduced-sodiumchickenbroth',\n 'cashewnuts',\n 'chestnuts',\n 'raspberrypreserves',\n 'briecheese',\n 'softmargarine',\n 'frozenapplejuiceconcentrate',\n 'spinachleaves',\n 'applejelly',\n 'gingerroot',\n 'mineralwater',\n 'wholecloves',\n 'basilpesto',\n 'freshcornkernels',\n 'Italianseasonedbreadcrumbs',\n 'chilipeppers',\n 'tangerinejuice',\n 'dryoregano',\n 'tortillachips',\n 'onionsoupmix',\n 'fatfreeeggsubstitute',\n 'ranchdressingmix',\n 'puffedwheatcereal',\n 'plainsoymilk',\n 'driedmustard',\n 'soyyogurt',\n 'phyllodough',\n 'cola',\n 'coarseblackpepper',\n 'vanillaflavoring',\n 'lentils',\n 'plainbreadcrumbs',\n 'thymeleaves',\n 'freshmango',\n 'wholeberrycranberrysauce',\n 'lightoliveoil',\n 'mixedvegetables',\n 'carrotjuice',\n 'peachpreserves',\n 'blackstrapmolasses',\n 'tacoseasoningmix',\n 'fettuccinepasta',\n 'biscuits',\n 'lightbutter',\n 'orangesections',\n 'softbreadcrumbs',\n 'frozenmixedvegetables',\n 'tinynewpotatoes',\n 'vanilla-flavoredsoymilk',\n 'roastedsoybeans',\n 'unsaltedcashews',\n 'champagnevinegar',\n 'gruyerecheese',\n 'beefbrisket',\n 'coconutwater',\n 'dryonionsoupmix',\n 'chickenthighs',\n 'vanillawafercrumbs',\n 'steviapowder',\n 'greentomatoes',\n 'bonelessporkloinroast',\n 'Frenchharicotsvert',\n 'mincedgarliccloves',\n 'softtofu',\n 'nonfatsourcream',\n 'chilioil',\n 'okra',\n 'peachslices',\n 'wasabipowder',\n 'buttonmushrooms',\n ...]"
     },
     "execution_count": 5,
     "metadata": {},
     "output_type": "execute_result"
    }
   ],
   "source": [
    "first_ingredients"
   ],
   "metadata": {
    "collapsed": false,
    "pycharm": {
     "name": "#%%\n"
    }
   }
  },
  {
   "cell_type": "markdown",
   "source": [
    "## Query generator"
   ],
   "metadata": {
    "collapsed": false,
    "pycharm": {
     "name": "#%% md\n"
    }
   }
  },
  {
   "cell_type": "code",
   "execution_count": 14,
   "outputs": [
    {
     "name": "stdout",
     "output_type": "stream",
     "text": [
      "89\n",
      "Classify each of the following ingredients into 'Sweet' / 'Salty' / 'Sour' / 'Spicy'/ 'Other' :\n",
      "'yukongoldpotatoes', 'yellowmustard', 'crunchypeanutbutter', 'mashedpotatoes', 'whitebreadflour', 'groundmustard', 'bicarbonateofsoda', 'dryroastedpeanuts', 'whiterice', 'pretzels', 'macadamianuts', 'cookingoil', 'frozenraspberries', 'couscous', 'hoisinsauce', 'granulatedgarlic', 'longgrainrice', 'tahini', 'natural-stylepeanutbutter', 'crispricecereal', 'drieddillweed', 'cookedrice', 'speltflour', 'toastedsesameseeds', 'almondbutter', 'groundcayennepepper', 'groundturmeric', 'pancakemix', 'blanchedalmonds', 'stevia', 'artificialsweetener', 'corn', 'vanillaessence', 'swisscheese', 'vitalwheatgluten', 'GrannySmithapples', 'dill', 'saltandpepper', 'almondflour', 'unsweetenedcoconut', 'corianderseeds', 'mixednuts', 'drieddill', 'Italiandressing', 'darkcornsyrup', 'rawsugar', 'cannedpumpkin', 'capers', 'sugarsubstitute', 'freshpeaches', 'steelcutoats', 'cocoa', 'pears', 'rosewater', 'tomatojuice', 'yellowonions', 'minichocolatechips', 'cornoil', 'plainlow-fatyogurt', 'lightmayonnaise', 'freshgarlic', 'chunkypeanutbutter', 'low-fatmayonnaise', 'unbleachedwhiteflour', 'teriyakisauce', 'freshspinach', 'apricots', 'cajunseasoning', 'lowsodiumchickenbroth', 'eggs', 'quick-cookingrolledoats', 'clubsoda', 'tequila', 'blackpeppercorns', 'crystallizedginger', 'freshbasilleaves', 'granolacereal', 'grapeseedoil', 'selfrisingflour', 'frozenpeas', 'marshmallowcream', 'BabySpinach', 'pomegranatejuice', 'grapefruitjuice', 'currants', 'dicedonions', 'beets', 'shortening', 'cantaloupe', 'oatflour'.\n",
      "\n"
     ]
    }
   ],
   "source": [
    "ingredients = list(set(data['ingredients_2'].explode()))[1:]\n",
    "length = 1500\n",
    "start = 366\n",
    "ingredients_str = \"\"\"\"\"\"\n",
    "for i, w in enumerate(first_ingredients[start:]):\n",
    "    ingredients_str += f\"\"\"'{w}', \"\"\"\n",
    "    if len(ingredients_str) > length:\n",
    "        print(i)\n",
    "        break\n",
    "query = f\"\"\"Classify each of the following ingredients into 'Sweet' / 'Salty' / 'Sour' / 'Spicy'/ 'Other' :\n",
    "{ingredients_str[:-2]}.\n",
    "\"\"\"\n",
    "print(query)"
   ],
   "metadata": {
    "collapsed": false,
    "pycharm": {
     "name": "#%%\n"
    }
   }
  },
  {
   "cell_type": "markdown",
   "source": [
    "## Extract flavor"
   ],
   "metadata": {
    "collapsed": false,
    "pycharm": {
     "name": "#%% md\n"
    }
   }
  },
  {
   "cell_type": "code",
   "execution_count": 37,
   "outputs": [],
   "source": [
    "flavors = {}"
   ],
   "metadata": {
    "collapsed": false,
    "pycharm": {
     "name": "#%%\n"
    }
   }
  },
  {
   "cell_type": "code",
   "execution_count": 12,
   "outputs": [],
   "source": [
    "epoch = 5"
   ],
   "metadata": {
    "collapsed": false,
    "pycharm": {
     "name": "#%%\n"
    }
   }
  },
  {
   "cell_type": "markdown",
   "source": [
    "Dont forget!!!!! ^^^"
   ],
   "metadata": {
    "collapsed": false
   }
  },
  {
   "cell_type": "markdown",
   "source": [
    "### Format A"
   ],
   "metadata": {
    "collapsed": false
   }
  },
  {
   "cell_type": "code",
   "execution_count": 39,
   "outputs": [],
   "source": [
    "temp_dict = {}"
   ],
   "metadata": {
    "collapsed": false,
    "pycharm": {
     "name": "#%%\n"
    }
   }
  },
  {
   "cell_type": "code",
   "execution_count": 40,
   "outputs": [],
   "source": [
    "text = \"\"\"Sweet: Sugar, Brown Sugar, Honey, Vanilla Extract, White Sugar, Granulated Sugar, Raisins, Powdered Sugar.\n",
    "Salty: Salt, Soy Sauce, Kosher Salt.\n",
    "Sour: Lemon Juice, Orange Juice, Fresh Lemon Juice.\n",
    "Spicy: Pepper, Black Pepper, Cinnamon, Ground Cinnamon, Paprika, Cayenne Pepper.\n",
    "Other: Butter, Water, Milk, Flour, All-Purpose Flour , Baking Powder , Olive Oil , Garlic Powder , Baking Soda , Unsalted Butter , Vegetable Oil , Onions , Mayonnaise , Cornstarch , Garlic , Walnuts , Onion Powder , Pecans , Sour Cream , Margarine , Worcestershire Sauce  Buttermilk  Cream Cheese  Heavy Cream  Bread Flour  Rolled Oats  Parmesan Cheese Warm Water.\"\"\"\n",
    "text = text.lower().replace(' ', '').split('\\n')"
   ],
   "metadata": {
    "collapsed": false,
    "pycharm": {
     "name": "#%%\n"
    }
   }
  },
  {
   "cell_type": "code",
   "execution_count": 41,
   "outputs": [],
   "source": [
    "keys = ['sweet', 'salty', 'sour', 'spicy', 'other']\n",
    "text_dict = {keys[i]:text[i] for i in range(len(text))}"
   ],
   "metadata": {
    "collapsed": false,
    "pycharm": {
     "name": "#%%\n"
    }
   }
  },
  {
   "cell_type": "code",
   "execution_count": 42,
   "outputs": [],
   "source": [
    "for ingredient in first_ingredients:\n",
    "    for f, t in text_dict.items():\n",
    "        if ingredient in t:\n",
    "            temp_dict[ingredient] = f"
   ],
   "metadata": {
    "collapsed": false,
    "pycharm": {
     "name": "#%%\n"
    }
   }
  },
  {
   "cell_type": "code",
   "execution_count": 43,
   "outputs": [
    {
     "data": {
      "text/plain": "{'salt': 'other',\n 'sugar': 'sweet',\n 'butter': 'other',\n 'water': 'other',\n 'brownsugar': 'sweet',\n 'milk': 'other',\n 'flour': 'other',\n 'honey': 'sweet',\n 'all-purposeflour': 'other',\n 'vanillaextract': 'sweet',\n 'bakingpowder': 'other',\n 'oliveoil': 'other',\n 'lemonjuice': 'sour',\n 'garlicpowder': 'other',\n 'bakingsoda': 'other',\n 'unsaltedbutter': 'other',\n 'cinnamon': 'spicy',\n 'vegetableoil': 'other',\n 'groundcinnamon': 'spicy',\n 'onions': 'other',\n 'pepper': 'spicy',\n 'blackpepper': 'spicy',\n 'mayonnaise': 'other',\n 'whitesugar': 'sweet',\n 'granulatedsugar': 'sweet',\n 'cornstarch': 'other',\n 'paprika': 'spicy',\n 'koshersalt': 'salty',\n 'heavycream': 'other',\n 'soysauce': 'salty',\n 'breadflour': 'other',\n 'garlic': 'other',\n 'raisins': 'sweet',\n 'walnuts': 'other',\n 'onionpowder': 'other',\n 'orangejuice': 'sour',\n 'cayennepepper': 'spicy',\n 'pecans': 'other',\n 'sourcream': 'other',\n 'margarine': 'other',\n 'buttermilk': 'other',\n 'creamcheese': 'other',\n 'powderedsugar': 'sweet',\n 'parmesancheese': 'other',\n 'warmwater': 'other',\n 'freshlemonjuice': 'sour',\n 'rolledoats': 'other',\n 'oil': 'other',\n 'nuts': 'other',\n 'oats': 'other',\n 'cayenne': 'spicy',\n 'ice': 'sour',\n 'cream': 'other',\n 'vanilla': 'sweet',\n 'saltedbutter': 'other',\n 'cheese': 'other',\n 'corn': 'other',\n 'bread': 'other',\n 'juice': 'sour'}"
     },
     "execution_count": 43,
     "metadata": {},
     "output_type": "execute_result"
    }
   ],
   "source": [
    "temp_dict"
   ],
   "metadata": {
    "collapsed": false,
    "pycharm": {
     "name": "#%%\n"
    }
   }
  },
  {
   "cell_type": "code",
   "execution_count": 44,
   "outputs": [],
   "source": [
    "pkl.dump(temp_dict, open(f'data/ingredients/temp_dict_{epoch}', 'wb'))\n",
    "epoch += 1"
   ],
   "metadata": {
    "collapsed": false,
    "pycharm": {
     "name": "#%%\n"
    }
   }
  },
  {
   "cell_type": "markdown",
   "source": [
    "### Format B"
   ],
   "metadata": {
    "collapsed": false,
    "pycharm": {
     "name": "#%% md\n"
    }
   }
  },
  {
   "cell_type": "code",
   "execution_count": 16,
   "outputs": [],
   "source": [
    "temp_dict = {}"
   ],
   "metadata": {
    "collapsed": false,
    "pycharm": {
     "name": "#%%\n"
    }
   }
  },
  {
   "cell_type": "code",
   "execution_count": 17,
   "outputs": [
    {
     "name": "stdout",
     "output_type": "stream",
     "text": [
      "[['yukongoldpotatoes', 'other'], ['yellowmustard', 'spicy'], ['crunchypeanutbutter', 'other'], ['mashedpotatoes', 'other'], ['whitebreadflour', 'other'], ['groundmustard', 'spicy'], ['bicarbonateofsoda', 'other'], ['dryroastedpeanuts', 'other'], ['whiterice', 'other'], ['pretzels', 'salty'], ['macadamianuts', 'other'], ['cookingoil', 'other'], ['frozenraspberries', 'other'], ['couscous', 'other'], ['hoisinsauce', 'sweet'], ['granulatedgarlic', 'other'], ['longgrainrice', 'other'], ['tahini', 'other'], ['naturalstylepeanutbutter', 'other'], ['crispyricecereal', 'other'], ['drieddillweed', 'other'], ['cookedrice', 'other'], ['speltflour', 'other'], ['toastedsesameseeds', 'other'], ['almondbutter', 'other'], ['groundcayennepepper', 'spicy'], ['groundturmeric', 'other'], ['pancakemix', 'other'], ['blanchedalmonds', 'other'], ['stevia', 'sweet'], ['artificialsweetener', 'sweet'], ['corn', 'other'], ['vanillaessence', 'other'], ['swisscheese', 'other'], ['vitalwheatgluten', 'other'], ['grannysmithapples', 'other'], ['dill', 'other'], ['saltandpepper', 'salty'], ['almondflour', 'other'], ['unsweetenedcoconut', 'other'], ['corianderseeds', 'other'], ['mixednuts', 'other'], ['drieddill', 'other'], ['italiandressing', 'other'], ['darkcornsyrup', 'sweet'], ['rawsugar', 'sweet'], ['cannedpumpkin', 'other'], ['capers', 'sour'], ['sugarsubstitute', 'sweet'], ['freshpeaches', 'other'], ['steelcutoats', 'other'], ['cocoa', 'other'], ['pears', 'other'], ['rosewater', 'other'], ['tomatojuice', 'sour'], ['yellowonions', 'other'], ['minichocolatechips', 'sweet'], ['cornoil', 'other'], ['plainlowfatyogurt', 'other'], ['lightmayonnaise', 'other'], ['freshgarlic', 'other'], ['chunkypeanutbutter', 'other'], ['lowfatmayonnaise', 'other'], ['unbleachedwhiteflour', 'other'], ['teriyakisauce', 'other'], ['freshspinach', 'other'], ['apricots', 'other'], ['cajunseasoning', 'spicy'], ['lowsodiumchickenbroth', 'other'], ['eggs', 'other'], ['quickcookingrolledoats', 'other'], ['clubsoda', 'other'], ['tequila', 'other'], ['blackpeppercorns', 'other'], ['crystallizedginger', 'other'], ['freshbasilleaves', 'other'], ['granolacereal', 'other'], ['grapeseedoil', 'other'], ['selfrisingflour', 'other'], ['frozenpeas', 'other'], ['marshmallowcream', 'sweet'], ['babyspinach', 'other'], ['pomegranatejuice', 'sour'], ['grapefruitjuice', 'sour'], ['currants', 'other'], ['dicedonions', 'other'], ['beets', 'other'], ['shortening', 'other'], ['cantaloupe', 'other'], ['oatflour', 'other']]\n"
     ]
    }
   ],
   "source": [
    "text = \"\"\"Yukon gold potatoes: Other\n",
    "Yellow mustard: Spicy\n",
    "Crunchy peanut butter: Other\n",
    "Mashed potatoes: Other\n",
    "White bread flour: Other\n",
    "Ground mustard: Spicy\n",
    "Bicarbonate of soda: Other\n",
    "Dry roasted peanuts: Other\n",
    "White rice: Other\n",
    "Pretzels: Salty\n",
    "Macadamia nuts: Other\n",
    "Cooking oil: Other\n",
    "Frozen raspberries: Other\n",
    "Couscous: Other\n",
    "Hoisin sauce: Sweet\n",
    "Granulated garlic: Other\n",
    "Long grain rice: Other\n",
    "Tahini: Other\n",
    "Natural style peanut butter: Other\n",
    "Crispy rice cereal: Other\n",
    "Dried dill weed: Other\n",
    "Cooked rice: Other\n",
    "Spelt flour: Other\n",
    "Toasted sesame seeds: Other\n",
    "Almond butter: Other\n",
    "Ground cayenne pepper: Spicy\n",
    "Ground turmeric: Other\n",
    "Pancake mix: Other\n",
    "Blanched almonds: Other\n",
    "Stevia: Sweet\n",
    "Artificial sweetener: Sweet\n",
    "Corn: Other\n",
    "Vanilla essence: Other\n",
    "Swiss cheese: Other\n",
    "Vital wheat gluten: Other\n",
    "Granny Smith apples: Other\n",
    "Dill: Other\n",
    "Salt and pepper: Salty\n",
    "Almond flour: Other\n",
    "Unsweetened coconut: Other\n",
    "Coriander seeds: Other\n",
    "Mixed nuts: Other\n",
    "Dried dill: Other\n",
    "Italian dressing: Other\n",
    "Dark corn syrup: Sweet\n",
    "Raw sugar: Sweet\n",
    "Canned pumpkin: Other\n",
    "Capers: Sour\n",
    "Sugar substitute: Sweet\n",
    "Fresh peaches: Other\n",
    "Steel cut oats: Other\n",
    "Cocoa: Other\n",
    "Pears: Other\n",
    "Rosewater: Other\n",
    "Tomato juice: Sour\n",
    "Yellow onions: Other\n",
    "Mini chocolate chips: Sweet\n",
    "Corn oil: Other\n",
    "Plain low fat yogurt: Other\n",
    "Light mayonnaise: Other\n",
    "Fresh garlic: Other\n",
    "Chunky peanut butter: Other\n",
    "Low fat mayonnaise: Other\n",
    "Unbleached white flour: Other\n",
    "Teriyaki sauce: Other\n",
    "Fresh spinach: Other\n",
    "Apricots: Other\n",
    "Cajun seasoning: Spicy\n",
    "Low sodium chicken broth: Other\n",
    "Eggs: Other\n",
    "Quick cooking rolled oats: Other\n",
    "Club soda: Other\n",
    "Tequila: Other\n",
    "Black peppercorns: Other\n",
    "Crystallized ginger: Other\n",
    "Fresh basil leaves: Other\n",
    "Granola cereal: Other\n",
    "Grapeseed oil: Other\n",
    "Self rising flour: Other\n",
    "Frozen peas: Other\n",
    "Marshmallow cream: Sweet\n",
    "Baby Spinach: Other\n",
    "Pomegranate juice: Sour\n",
    "Grapefruit juice: Sour\n",
    "Currants: Other\n",
    "Diced onions: Other\n",
    "Beets: Other\n",
    "Shortening: Other\n",
    "Cantaloupe: Other\n",
    "Oat flour: Other\"\"\"\n",
    "text = text.lower()\n",
    "text = text.replace(' ', '').split('\\n')\n",
    "text = [re.split(r':|;|:|-|-', pair) for pair in text]\n",
    "print(text)"
   ],
   "metadata": {
    "collapsed": false,
    "pycharm": {
     "name": "#%%\n"
    }
   }
  },
  {
   "cell_type": "code",
   "execution_count": 18,
   "outputs": [],
   "source": [
    "for ingredient in first_ingredients:\n",
    "    for l in text:\n",
    "        if len(l) > 2:\n",
    "            print(l)\n",
    "        t, f = l\n",
    "        if ingredient in t:\n",
    "            temp_dict[ingredient] = f"
   ],
   "metadata": {
    "collapsed": false,
    "pycharm": {
     "name": "#%%\n"
    }
   }
  },
  {
   "cell_type": "code",
   "execution_count": 19,
   "outputs": [
    {
     "data": {
      "text/plain": "{'salt': 'salty',\n 'sugar': 'sweet',\n 'butter': 'other',\n 'water': 'other',\n 'flour': 'other',\n 'onions': 'other',\n 'pepper': 'other',\n 'blackpepper': 'other',\n 'mayonnaise': 'other',\n 'breadflour': 'other',\n 'garlic': 'other',\n 'cayennepepper': 'spicy',\n 'rolledoats': 'other',\n 'peanutbutter': 'other',\n 'oil': 'other',\n 'almonds': 'other',\n 'apples': 'other',\n 'sesameseeds': 'other',\n 'chocolatechips': 'sweet',\n 'chickenbroth': 'other',\n 'ginger': 'other',\n 'nuts': 'other',\n 'potatoes': 'other',\n 'cornsyrup': 'sweet',\n 'oats': 'other',\n 'cayenne': 'spicy',\n 'ice': 'other',\n 'peanuts': 'other',\n 'coconut': 'other',\n 'cream': 'sweet',\n 'basil': 'other',\n 'raspberries': 'other',\n 'mustard': 'spicy',\n 'freshbasil': 'other',\n 'peaches': 'other',\n 'whiteflour': 'other',\n 'yogurt': 'other',\n 'chicken': 'other',\n 'dillweed': 'other',\n 'vanilla': 'other',\n 'cereal': 'other',\n 'chocolate': 'sweet',\n 'cheese': 'other',\n 'crispyricecereal': 'other',\n 'rice': 'other',\n 'berries': 'other',\n 'spinach': 'other',\n 'yukongoldpotatoes': 'other',\n 'yellowmustard': 'spicy',\n 'crunchypeanutbutter': 'other',\n 'mashedpotatoes': 'other',\n 'whitebreadflour': 'other',\n 'groundmustard': 'spicy',\n 'bicarbonateofsoda': 'other',\n 'dryroastedpeanuts': 'other',\n 'whiterice': 'other',\n 'pretzels': 'salty',\n 'macadamianuts': 'other',\n 'cookingoil': 'other',\n 'frozenraspberries': 'other',\n 'couscous': 'other',\n 'hoisinsauce': 'sweet',\n 'granulatedgarlic': 'other',\n 'longgrainrice': 'other',\n 'tahini': 'other',\n 'drieddillweed': 'other',\n 'cookedrice': 'other',\n 'speltflour': 'other',\n 'toastedsesameseeds': 'other',\n 'almondbutter': 'other',\n 'groundcayennepepper': 'spicy',\n 'groundturmeric': 'other',\n 'pancakemix': 'other',\n 'blanchedalmonds': 'other',\n 'stevia': 'sweet',\n 'artificialsweetener': 'sweet',\n 'corn': 'other',\n 'vanillaessence': 'other',\n 'swisscheese': 'other',\n 'vitalwheatgluten': 'other',\n 'dill': 'other',\n 'saltandpepper': 'salty',\n 'almondflour': 'other',\n 'unsweetenedcoconut': 'other',\n 'corianderseeds': 'other',\n 'mixednuts': 'other',\n 'drieddill': 'other',\n 'darkcornsyrup': 'sweet',\n 'rawsugar': 'sweet',\n 'cannedpumpkin': 'other',\n 'capers': 'sour',\n 'sugarsubstitute': 'sweet',\n 'freshpeaches': 'other',\n 'steelcutoats': 'other',\n 'cocoa': 'other',\n 'pears': 'other',\n 'rosewater': 'other',\n 'tomatojuice': 'sour',\n 'yellowonions': 'other',\n 'minichocolatechips': 'sweet',\n 'cornoil': 'other',\n 'lightmayonnaise': 'other',\n 'freshgarlic': 'other',\n 'chunkypeanutbutter': 'other',\n 'unbleachedwhiteflour': 'other',\n 'teriyakisauce': 'other',\n 'freshspinach': 'other',\n 'apricots': 'other',\n 'cajunseasoning': 'spicy',\n 'lowsodiumchickenbroth': 'other',\n 'eggs': 'other',\n 'clubsoda': 'other',\n 'tequila': 'other',\n 'blackpeppercorns': 'other',\n 'crystallizedginger': 'other',\n 'freshbasilleaves': 'other',\n 'granolacereal': 'other',\n 'grapeseedoil': 'other',\n 'selfrisingflour': 'other',\n 'frozenpeas': 'other',\n 'marshmallowcream': 'sweet',\n 'pomegranatejuice': 'sour',\n 'grapefruitjuice': 'sour',\n 'currants': 'other',\n 'dicedonions': 'other',\n 'beets': 'other',\n 'shortening': 'other',\n 'cantaloupe': 'other',\n 'oatflour': 'other',\n 'coriander': 'other',\n 'syrup': 'sweet',\n 'gin': 'other',\n 'basilleaves': 'other',\n 'pumpkin': 'other',\n 'bread': 'other',\n 'peas': 'other',\n 'grapes': 'other',\n 'roastedpeanuts': 'other',\n 'sweetenedcoconut': 'other',\n 'fruit': 'sour',\n 'peppercorns': 'other',\n 'wheat': 'other',\n 'juice': 'sour',\n 'turmeric': 'other',\n 'cola': 'sweet',\n 'wheatgluten': 'other',\n 'fat': 'other',\n 'sesame': 'other'}"
     },
     "execution_count": 19,
     "metadata": {},
     "output_type": "execute_result"
    }
   ],
   "source": [
    "temp_dict"
   ],
   "metadata": {
    "collapsed": false,
    "pycharm": {
     "name": "#%%\n"
    }
   }
  },
  {
   "cell_type": "code",
   "execution_count": 20,
   "outputs": [],
   "source": [
    "pkl.dump(temp_dict, open(f'data/ingredients/temp_dict_{epoch}', 'wb'))\n",
    "epoch += 1"
   ],
   "metadata": {
    "collapsed": false,
    "pycharm": {
     "name": "#%%\n"
    }
   }
  },
  {
   "cell_type": "code",
   "execution_count": null,
   "outputs": [],
   "source": [],
   "metadata": {
    "collapsed": false,
    "pycharm": {
     "name": "#%%\n"
    }
   }
  }
 ],
 "metadata": {
  "kernelspec": {
   "display_name": "Python 3",
   "language": "python",
   "name": "python3"
  },
  "language_info": {
   "codemirror_mode": {
    "name": "ipython",
    "version": 2
   },
   "file_extension": ".py",
   "mimetype": "text/x-python",
   "name": "python",
   "nbconvert_exporter": "python",
   "pygments_lexer": "ipython2",
   "version": "2.7.6"
  }
 },
 "nbformat": 4,
 "nbformat_minor": 0
}