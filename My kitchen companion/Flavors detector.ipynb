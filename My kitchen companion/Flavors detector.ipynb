{
 "cells": [
  {
   "cell_type": "markdown",
   "source": [
    "# Data Exploration"
   ],
   "metadata": {
    "collapsed": false
   }
  },
  {
   "cell_type": "markdown",
   "source": [
    "## Imports"
   ],
   "metadata": {
    "collapsed": false
   }
  },
  {
   "cell_type": "code",
   "execution_count": 1,
   "outputs": [],
   "source": [
    "import string\n",
    "\n",
    "import pandas as pd\n",
    "import matplotlib.pyplot as plt\n",
    "import numpy as np\n",
    "import pickle as pkl\n",
    "from collections import Counter\n",
    "import re\n",
    "from collections import defaultdict\n"
   ],
   "metadata": {
    "collapsed": false,
    "pycharm": {
     "name": "#%%\n"
    }
   }
  },
  {
   "cell_type": "markdown",
   "source": [
    "## Load the data"
   ],
   "metadata": {
    "collapsed": false
   }
  },
  {
   "cell_type": "code",
   "execution_count": 147,
   "outputs": [],
   "source": [
    "with open('data/data_df.pkl', 'rb') as f:\n",
    "    data = pkl.load(f)\n",
    "    first_ingredients = pkl.load(open('data/ingredients/first_ingredients', 'rb'))\n",
    "# first_ingredients = [ing.replace(' ', '').lower() for ing in first_ingredients]"
   ],
   "metadata": {
    "collapsed": false,
    "pycharm": {
     "name": "#%%\n"
    }
   }
  },
  {
   "cell_type": "code",
   "execution_count": 148,
   "outputs": [
    {
     "data": {
      "text/plain": "['salt',\n 'sugar',\n 'butter',\n 'water',\n 'brown sugar',\n 'milk',\n 'flour',\n 'honey',\n 'all - purpose flour',\n 'vanilla extract',\n 'baking powder',\n 'olive oil',\n 'lemon juice',\n 'garlic powder',\n 'baking soda',\n 'unsalted butter',\n 'cinnamon',\n 'vegetable oil',\n 'ground cinnamon',\n 'onions',\n 'pepper',\n 'black pepper',\n 'mayonnaise',\n 'white sugar',\n 'granulated sugar',\n 'cornstarch',\n 'paprika',\n 'kosher salt',\n 'whole wheat flour',\n 'heavy cream',\n 'soy sauce',\n 'bread flour',\n 'garlic',\n 'raisins',\n 'walnuts',\n 'onion powder',\n 'orange juice',\n 'cayenne pepper',\n 'pecans',\n 'sour cream',\n 'margarine',\n 'Worcestershire sauce',\n 'buttermilk',\n 'cream cheese',\n 'powdered sugar',\n 'parmesan cheese',\n 'warm water',\n 'fresh lemon juice',\n 'rolled oats',\n 'peanut butter',\n 'chili powder',\n 'carrots',\n 'Dijon mustard',\n \"confectioners' sugar\",\n 'oil',\n 'yeast',\n 'maple syrup',\n 'nutmeg',\n 'sea salt',\n 'ground ginger',\n 'canola oil',\n 'light corn syrup',\n 'light brown sugar',\n 'vinegar',\n 'active dry yeast',\n 'ketchup',\n 'strawberries',\n 'ground black pepper',\n 'almonds',\n 'fresh ground black pepper',\n 'dry mustard',\n 'ground cumin',\n 'celery',\n 'cocoa powder',\n 'extra virgin olive oil',\n 'molasses',\n 'balsamic vinegar',\n 'ground nutmeg',\n 'cider vinegar',\n 'green onions',\n 'apples',\n 'sesame seeds',\n 'whole milk',\n 'lime juice',\n 'semi - sweet chocolate chips',\n 'boiling water',\n 'chocolate chips',\n 'pure vanilla extract',\n 'dried cranberries',\n 'white pepper',\n 'unsweetened cocoa powder',\n 'cold water',\n 'white vinegar',\n 'whipping cream',\n 'dried oregano',\n 'chicken broth',\n 'parsley',\n 'red wine vinegar',\n 'blueberries',\n 'ginger',\n 'dried thyme',\n 'cheddar cheese',\n 'fresh parsley',\n 'dark brown sugar',\n 'apple cider vinegar',\n 'garlic salt',\n 'ground cloves',\n 'cornmeal',\n 'hot water',\n 'skim milk',\n 'vegetable shortening',\n 'dry yeast',\n 'oregano',\n 'sunflower seeds',\n 'nuts',\n 'potatoes',\n 'sesame oil',\n 'corn syrup',\n 'pineapple juice',\n 'red onions',\n 'plain yogurt',\n 'old fashioned oats',\n 'low - fat milk',\n 'oats',\n 'fresh ginger',\n 'vanilla ice cream',\n 'curry powder',\n 'fresh lime juice',\n 'orange zest',\n 'heavy whipping cream',\n 'cumin',\n 'semisweet chocolate',\n 'dried basil',\n 'sliced almonds',\n 'vodka',\n 'creamy peanut butter',\n 'oatmeal',\n 'applesauce',\n 'coconut oil',\n 'cake flour',\n 'powdered milk',\n 'apple juice',\n 'evaporated milk',\n 'wheat germ',\n 'celery seeds',\n 'bacon',\n 'rice vinegar',\n 'slivered almonds',\n 'cayenne',\n 'bittersweet chocolate',\n 'pecan halves',\n 'ice',\n 'peanuts',\n 'seasoning salt',\n 'pure maple syrup',\n 'quick - cooking oats',\n 'fresh strawberries',\n 'ground beef',\n 'white chocolate',\n 'crushed red pepper flakes',\n 'dried apricots',\n 'barbecue sauce',\n 'coconut',\n 'sweet potatoes',\n 'dates',\n 'sharp cheddar cheese',\n 'cream',\n 'unbleached all - purpose flour',\n 'thyme',\n 'dark chocolate',\n 'agave nectar',\n 'ice water',\n 'shallots',\n 'instant yeast',\n 'pumpkin seeds',\n 'basil',\n 'plain flour',\n 'blue cheese',\n 'flax seeds',\n 'Tabasco sauce',\n 'white wine vinegar',\n 'red pepper flakes',\n 'shredded cheddar cheese',\n 'raspberries',\n 'coconut milk',\n 'cream of tartar',\n 'miniature marshmallows',\n 'shredded coconut',\n 'soymilk',\n 'sweetened condensed milk',\n 'mustard',\n 'fresh basil',\n 'caster sugar',\n 'peaches',\n 'tomatoes',\n 'nonfat dry milk powder',\n 'popped popcorn',\n 'dried parsley',\n 'self - rising flour',\n 'fresh blueberries',\n 'Splenda sugar substitute',\n 'bananas',\n 'poppy seeds',\n 'Greek yogurt',\n 'white flour',\n 'nonfat milk',\n 'cranberries',\n 'icing sugar',\n 'fresh ground pepper',\n 'boneless skinless chicken breasts',\n 'yogurt',\n 'beer',\n 'coarse salt',\n 'fresh cilantro',\n 'cabbage',\n 'egg substitute',\n 'mangoes',\n 'golden syrup',\n 'green peppers',\n 'hot pepper sauce',\n 'chives',\n 'prepared mustard',\n 'prepared horseradish',\n 'ground cardamom',\n 'hazelnuts',\n 'cucumbers',\n 'Rice Krispies',\n 'green beans',\n 'chicken',\n 'unsweetened applesauce',\n 'golden raisins',\n 'caraway seeds',\n 'cranberry juice',\n 'ground flax seeds',\n 'dark rum',\n 'ice cubes',\n 'pine nuts',\n 'zucchini',\n 'flaked coconut',\n 'chicken stock',\n 'pumpkin pie spice',\n 'dried onion flakes',\n 'horseradish',\n 'rum',\n 'egg whites',\n 'popcorn',\n 'fresh chives',\n 'cilantro',\n 'fresh orange juice',\n 'cloves',\n 'cashews',\n 'dried rosemary',\n 'ground coriander',\n 'dill weed',\n 'ground red pepper',\n 'scallions',\n 'asparagus',\n 'fresh dill',\n 'vanilla',\n 'broccoli florets',\n 'chicken wings',\n 'rosemary',\n 'apple cider',\n 'orange rind',\n 'fresh rosemary',\n 'cereal',\n 'lard',\n 'rye flour',\n 'milk chocolate',\n 'orange marmalade',\n 'whole wheat pastry flour',\n 'blackberries',\n 'milk chocolate chips',\n 'dried cherries',\n 'peanut oil',\n 'salted butter',\n 'chocolate',\n 'pumpkin puree',\n 'cooked chicken',\n 'fresh cranberries',\n 'tomato sauce',\n 'fresh raspberries',\n 'quick oats',\n 'white chocolate chips',\n 'tomato paste',\n 'chicken breasts',\n 'bread machine yeast',\n 'cheese',\n 'salsa',\n 'red bell peppers',\n 'mini marshmallows',\n 'mustard powder',\n 'yellow cornmeal',\n 'mushrooms',\n 'feta cheese',\n 'table salt',\n 'watermelon',\n 'frozen strawberries',\n 'baby carrots',\n 'crispy rice cereal',\n 'red peppers',\n 'Brussels sprouts',\n 'ginger ale',\n 'mozzarella cheese',\n 'red potatoes',\n 'unbleached flour',\n 'rice wine vinegar',\n 'pineapple',\n 'pistachios',\n 'catsup',\n 'fresh thyme',\n 'frozen blueberries',\n 'rice flour',\n 'cumin seeds',\n 'fennel seeds',\n 'brown rice',\n 'broccoli',\n 'orange peel',\n 'pork tenderloin',\n 'dry milk',\n 'unsweetened cocoa',\n 'almond milk',\n 'grenadine',\n 'fresh coarse ground black pepper',\n 'cherry tomatoes',\n 'apricot preserves',\n 'low sodium soy sauce',\n 'superfine sugar',\n 'salted peanuts',\n 'light cream',\n 'sweetened flaked coconut',\n 'rice',\n 'whole almonds',\n 'distilled white vinegar',\n 'low - fat sour cream',\n 'quinoa',\n 'condensed milk',\n 'chia seeds',\n 'parsley flakes',\n 'berries',\n 'marshmallows',\n 'spinach',\n 'crushed pineapple',\n 'cottage cheese',\n 'salad oil',\n 'lime zest',\n 'shrimp',\n 'dark chocolate chips',\n 'chocolate syrup',\n 'mustard seeds',\n 'ground pepper',\n 'oat bran',\n 'desiccated coconut',\n 'russet potatoes',\n 'wheat flour',\n 'lemon pepper',\n 'fresh green beans',\n 'salmon fillets',\n 'unsweetened chocolate',\n 'vanilla yogurt',\n 'onion salt',\n 'pitted dates',\n 'flax seed meal',\n 'fine sea salt',\n 'cracked black pepper',\n 'fresh mushrooms',\n 'yukon gold potatoes',\n 'yellow mustard',\n 'crunchy peanut butter',\n 'mashed potatoes',\n 'white bread flour',\n 'ground mustard',\n 'bicarbonate of soda',\n 'dry roasted peanuts',\n 'white rice',\n 'pretzels',\n 'macadamia nuts',\n 'cooking oil',\n 'frozen raspberries',\n 'couscous',\n 'hoisin sauce',\n 'granulated garlic',\n 'long grain rice',\n 'tahini',\n 'natural - style peanut butter',\n 'crisp rice cereal',\n 'dried dill weed',\n 'cooked rice',\n 'spelt flour',\n 'toasted sesame seeds',\n 'almond butter',\n 'ground cayenne pepper',\n 'ground turmeric',\n 'pancake mix',\n 'blanched almonds',\n 'stevia',\n 'artificial sweetener',\n 'corn',\n 'vanilla essence',\n 'swiss cheese',\n 'vital wheat gluten',\n 'Granny Smith apples',\n 'dill',\n 'salt and pepper',\n 'almond flour',\n 'unsweetened coconut',\n 'coriander seeds',\n 'mixed nuts',\n 'dried dill',\n 'Italian dressing',\n 'dark corn syrup',\n 'raw sugar',\n 'canned pumpkin',\n 'capers',\n 'sugar substitute',\n 'fresh peaches',\n 'steel cut oats',\n 'cocoa',\n 'pears',\n 'rose water',\n 'tomato juice',\n 'yellow onions',\n 'mini chocolate chips',\n 'corn oil',\n 'plain low - fat yogurt',\n 'light mayonnaise',\n 'fresh garlic',\n 'chunky peanut butter',\n 'low - fat mayonnaise',\n 'unbleached white flour',\n 'teriyaki sauce',\n 'fresh spinach',\n 'apricots',\n 'cajun seasoning',\n 'low sodium chicken broth',\n 'eggs',\n 'quick - cooking rolled oats',\n 'club soda',\n 'tequila',\n 'black peppercorns',\n 'crystallized ginger',\n 'fresh basil leaves',\n 'granola cereal',\n 'grapeseed oil',\n 'self rising flour',\n 'frozen peas',\n 'marshmallow cream',\n 'Baby Spinach',\n 'pomegranate juice',\n 'grapefruit juice',\n 'currants',\n 'diced onions',\n 'beets',\n 'shortening',\n 'cantaloupe',\n 'oat flour',\n 'frozen orange juice concentrate',\n 'low - fat vanilla yogurt',\n 'butternut squash',\n 'sweet paprika',\n 'goat cheese',\n 'simple syrup',\n 'beef',\n 'fresh blackberries',\n 'dried parsley flakes',\n 'walnut halves',\n 'lean ground beef',\n 'sun - dried tomatoes',\n 'dried tarragon',\n 'fresh asparagus',\n 'raspberry jam',\n 'coriander',\n 'vegetable broth',\n 'plums',\n 'low - fat buttermilk',\n 'toasted sesame oil',\n 'golden brown sugar',\n 'ice cream',\n 'plain fat - free yogurt',\n 'unsweetened dried shredded coconut',\n 'jalapeno peppers',\n 'essential oils',\n 'diced tomatoes',\n 'light soy sauce',\n 'whipped cream',\n 'turbinado sugar',\n 'apricot jam',\n 'lemonade',\n 'sweet onions',\n 'fresh tarragon',\n 'red seedless grapes',\n 'dark sesame oil',\n 'smooth peanut butter',\n 'half - and - half cream',\n 'syrup',\n 'dry breadcrumbs',\n 'beef broth',\n 'dijon - style mustard',\n 'low fat cottage cheese',\n 'dried blueberries',\n 'whiskey',\n 'mashed bananas',\n 'cauliflower florets',\n 'cherries',\n 'ranch dressing',\n 'pretzel sticks',\n 'marshmallow creme',\n 'safflower oil',\n 'tart apples',\n 'gin',\n 'basil leaves',\n 'baking cocoa',\n 'Egg Beaters egg substitute',\n 'sifted flour',\n 'nonfat plain yogurt',\n 'self raising flour',\n 'dried yeast',\n 'egg noodles',\n 'breadcrumbs',\n 'ricotta cheese',\n 'fast rising yeast',\n 'walnut pieces',\n 'liquid honey',\n 'fat - free mayonnaise',\n 'sliced mushrooms',\n 'long - grain rice',\n 'tofu',\n 'cauliflower',\n 'Dutch - processed cocoa powder',\n 'powdered drink mix',\n 'vanilla protein powder',\n 'chicken pieces',\n 'skim milk powder',\n 'dried marjoram',\n 'fish sauce',\n 'radishes',\n 'parsnips',\n 'black beans',\n 'fast rise yeast',\n 'leeks',\n 'pineapple chunks',\n 'self - raising flour',\n 'dried chives',\n 'firm tofu',\n 'sliced apples',\n 'silken tofu',\n 'dry buttermilk',\n 'white corn syrup',\n 'plain nonfat yogurt',\n 'coconut rum',\n 'vegan margarine',\n 'non - fat powdered milk',\n 'light rum',\n 'fresh thyme leaves',\n 'coarse sea salt',\n 'orange juice concentrate',\n 'tarragon',\n 'fine salt',\n 'instant minced onion',\n 'baking potatoes',\n 'dried thyme leaves',\n 'onion flakes',\n 'sunflower oil',\n 'unsweetened pineapple juice',\n 'Rice Chex',\n 'potato chips',\n 'roasted red peppers',\n 'dried sweetened cranberries',\n 'ground almonds',\n 'pumpkin',\n 'coconut extract',\n '2% low - fat milk',\n 'cream of coconut',\n 'bacon bits',\n 'orange liqueur',\n 'rice milk',\n 'walnut oil',\n 'pecan pieces',\n 'flank steaks',\n 'green cabbage',\n 'honey mustard',\n 'chocolate ice cream',\n 'chicken bouillon granules',\n 'nutritional yeast',\n 'rice wine',\n 'dried apples',\n 'fresh oregano',\n 'nonfat yogurt',\n 'jalapenos',\n 'caramels',\n 'wine vinegar',\n 'pistachio nuts',\n 'sultanas',\n 'olives',\n 'raw cashews',\n 'black olives',\n 'unbleached cane sugar',\n 'grape juice',\n 'pork spareribs',\n 'miso',\n 'vegetables',\n 'white onions',\n 'pesto sauce',\n 'all - bran cereal',\n 'dry active yeast',\n 'light sour cream',\n 'avocados',\n 'dill pickles',\n 'wild rice',\n 'dried onion',\n 'kale',\n 'white whole wheat flour',\n 'kalamata olives',\n 'long - grain white rice',\n 'oyster sauce',\n 'peanut butter chips',\n 'Cheerios toasted oat cereal',\n 'seedless grapes',\n 'pepitas',\n 'new potatoes',\n 'light cream cheese',\n 'orange extract',\n 'sweet red peppers',\n 'chickpeas',\n 'popped corn',\n 'toasted almonds',\n 'fettuccine',\n 'ground turkey',\n 'raw peanuts',\n 'papayas',\n 'dark molasses',\n 'prepared yellow mustard',\n 'candied ginger',\n 'corn kernels',\n 'instant potato flakes',\n 'semolina flour',\n 'sauerkraut',\n 'taco seasoning',\n 'fresh pineapple',\n 'red cabbage',\n 'reduced sodium soy sauce',\n 'sweet pickle relish',\n 'strawberry jam',\n 'romaine lettuce',\n 'minced ginger',\n 'fat free cream cheese',\n 'eggnog',\n 'jam',\n 'rum extract',\n 'soy flour',\n 'salmon',\n 'double cream',\n 'protein powder',\n 'small pretzels',\n 'fresh rosemary leaves',\n 'bread',\n 'green seedless grapes',\n 'marjoram',\n 'artichoke hearts',\n 'semisweet chocolate morsels',\n 'unsalted peanuts',\n 'Splenda granular',\n 'spicy brown mustard',\n 'anise seed',\n \"Lawry's Seasoned Salt\",\n 'dried figs',\n 'peas',\n 'sparkling water',\n 'chow mein noodles',\n 'extra - sharp cheddar cheese',\n 'agave syrup',\n 'noodles',\n 'frozen corn',\n 'turkey',\n 'sugar snap peas',\n 'Corn Chex',\n 'instant malted milk powder',\n 'brown rice syrup',\n 'grapes',\n 'jasmine rice',\n 'dry roasted salted peanuts',\n 'crabmeat',\n 'Italian salad dressing',\n 'black sesame seeds',\n 'boneless chicken breasts',\n 'roasted peanuts',\n 'sweetened coconut',\n 'chicken bouillon',\n 'real maple syrup',\n 'powdered ginger',\n 'seedless watermelon',\n 'asparagus spears',\n 'potato flakes',\n 'white rum',\n 'apple butter',\n 'fish fillets',\n 'romano cheese',\n 'raw honey',\n 'white balsamic vinegar',\n 'frozen mixed berries',\n 'uncooked rice',\n 'root beer',\n 'semolina',\n 'raspberry vinegar',\n 'pearl barley',\n 'oranges',\n 'almond meal',\n 'barley',\n 'large shrimp',\n 'shredded wheat cereal',\n 'dried fruit',\n 'green grapes',\n 'reduced - fat sour cream',\n 'vegetable stock',\n 'pastry flour',\n 'coconut cream',\n 'unsweetened apple juice',\n 'vanilla vodka',\n 'pork loin',\n 'candy corn',\n 'chopped tomatoes',\n 'cacao',\n 'grape tomatoes',\n 'Orange sherbet',\n 'caramel ice cream topping',\n 'unsalted dry roasted peanuts',\n 'dried oregano leaves',\n 'cream of mushroom soup',\n 'low - fat plain yogurt',\n 'Chex cereal',\n 'Chinese five spice powder',\n 'panko breadcrumbs',\n 'Kraft Grated Parmesan Cheese',\n 'toasted wheat germ',\n 'pork baby back ribs',\n 'fresh broccoli',\n 'quick - cooking oatmeal',\n 'frozen spinach',\n 'garlic granules',\n 'cayenne powder',\n 'dark raisins',\n 'cooked brown rice',\n 'beef bouillon granules',\n '1% low - fat milk',\n 'cooked chicken breasts',\n 'mascarpone cheese',\n 'instant minced garlic',\n 'vanilla sugar',\n 'fruit',\n 'unsweetened almond milk',\n 'mixed berries',\n 'smoked salmon',\n 'non - fat vanilla yogurt',\n 'dried pineapple',\n 'pickling salt',\n 'arugula',\n 'instant nonfat dry milk powder',\n 'brown rice flour',\n 'saffron threads',\n 'soft brown sugar',\n 'cream of chicken soup',\n 'light molasses',\n 'vanilla bean paste',\n 'ginger powder',\n 'canned pumpkin puree',\n 'gluten - free flour',\n 'sriracha sauce',\n 'roasted cashews',\n \"Hellmann's mayonnaise\",\n 'fat free sour cream',\n \"M & M's\",\n 'granulated onion',\n 'candies',\n 'low - fat yogurt',\n 'PLANTERS Sliced Almonds',\n 'cornflour',\n 'peppercorns',\n 'vinaigrette dressing',\n 'wheat',\n 'ground oregano',\n 'lettuce',\n 'shelled pistachios',\n 'frozen chopped spinach',\n 'medium shrimp',\n 'seedless raspberry jam',\n 'honeydew melon',\n 'edamame',\n 'mango chutney',\n 'unsweetened flaked coconut',\n 'dried tart cherries',\n 'frozen unsweetened strawberries',\n 'vanilla wafers',\n 'Grey Poupon Dijon Mustard',\n 'coconut flour',\n 'unpopped popcorn',\n 'cooking apples',\n 'cranberry sauce',\n 'garlic cloves',\n 'garbanzo beans',\n 'old - fashioned oatmeal',\n 'long grain white rice',\n 'Creme de Cacao',\n 'sweet butter',\n 'American cheese',\n 'low - fat cream cheese',\n 'water chestnuts',\n 'white grape juice',\n 'fresh broccoli florets',\n 'pork',\n 'semisweet vegan chocolate chips',\n 'unsalted sunflower seeds',\n 'unsweetened coconut milk',\n \"M & M's plain chocolate candy\",\n 'beef stock',\n 'cardamom seeds',\n 'ground pork',\n 'yellow squash',\n 'green olives',\n 'cranberry juice cocktail',\n 'puffed rice cereal',\n 'fresh Italian parsley',\n 'carob powder',\n 'sherry wine vinegar',\n 'bulgur',\n 'orange blossom water',\n 'kielbasa',\n 'salted cashews',\n 'baby spinach leaves',\n 'fresh yeast',\n 'buckwheat flour',\n 'pinto beans',\n 'barley flour',\n 'yoghurt',\n 'soup',\n 'pork sausage',\n 'apple pie spice',\n 'seasoned rice vinegar',\n 'dried currants',\n 'sun - dried tomatoes packed in oil',\n 'fat - free buttermilk',\n 'maraschino cherries',\n 'roasted almonds',\n 'fresh gingerroot',\n 'dried cilantro',\n 'beef roast',\n 'chicken tenders',\n 'white sesame seeds',\n 'Spanish peanuts',\n 'low - fat cheddar cheese',\n 'reduced - sodium fat - free chicken broth',\n 'dill seeds',\n 'pepper sauce',\n 'chunky salsa',\n 'unbleached bread flour',\n 'coleslaw mix',\n 'liquid egg substitute',\n 'flax seed oil',\n 'dried basil leaves',\n 'beef tenderloin',\n 'beans',\n 'apricot nectar',\n 'fresh tomatoes',\n 'frozen cranberries',\n 'apple juice concentrate',\n 'miniature semisweet chocolate chips',\n 'tomato puree',\n 'maple sugar',\n 'light coconut milk',\n 'white pearl onions',\n 'pizza dough',\n 'wasabi paste',\n 'half - and - half',\n 'pork ribs',\n 'instant rice',\n 'oregano leaves',\n 'light Karo syrup',\n 'all - purpose white flour',\n 'peppermint candies',\n 'Crispix cereal',\n 'Karo syrup',\n 'graham flour',\n 'nonfat vanilla yogurt',\n 'pomegranate seeds',\n 'vidalia onions',\n 'tap water',\n 'malt vinegar',\n 'coarse grain mustard',\n 'lemonade mix',\n 'dry basil',\n 'Splenda brown sugar blend',\n 'fresh breadcrumbs',\n 'sea scallops',\n 'frozen peaches',\n 'cooked turkey',\n 'reduced - fat cream cheese',\n 'bacon drippings',\n 'turnips',\n 'coconut sugar crystals',\n 'nectarines',\n 'hot sauce',\n 'saffron',\n 'ground thyme',\n 'nutritional yeast flakes',\n 'yellow mustard seeds',\n 'crushed pineapple in juice',\n 'pancake syrup',\n 'hemp seeds',\n 'pineapple tidbits',\n 'dark soy sauce',\n 'bacon grease',\n 'Hungarian paprika',\n 'pork shoulder',\n 'juice',\n 'light margarine',\n 'reduced - fat peanut butter',\n 'sweet cherries',\n 'real butter',\n 'hot red pepper flakes',\n 'golden delicious apples',\n 'frozen lemonade concentrate',\n 'raspberry sherbet',\n 'red grapes',\n 'creole seasoning',\n 'plum tomatoes',\n 'turmeric',\n 'okara',\n 'vanilla frozen yogurt',\n 'strawberry preserves',\n 'pork roast',\n 'banana liqueur',\n 'reduced - sodium chicken broth',\n 'cashew nuts',\n 'chestnuts',\n 'raspberry preserves',\n 'brie cheese',\n 'soft margarine',\n 'frozen apple juice concentrate',\n 'spinach leaves',\n 'apple jelly',\n 'gingerroot',\n 'mineral water',\n 'whole cloves',\n 'basil pesto',\n 'fresh corn kernels',\n 'Italian seasoned breadcrumbs',\n 'chili peppers',\n 'tangerine juice',\n 'dry oregano',\n 'tortilla chips',\n 'onion soup mix',\n 'fat free egg substitute',\n 'ranch dressing mix',\n 'puffed wheat cereal',\n 'plain soymilk',\n 'dried mustard',\n 'soy yogurt',\n 'phyllo dough',\n 'cola',\n 'coarse black pepper',\n 'vanilla flavoring',\n 'lentils',\n 'plain breadcrumbs',\n 'thyme leaves',\n 'fresh mango',\n 'whole berry cranberry sauce',\n 'light olive oil',\n 'mixed vegetables',\n 'carrot juice',\n 'peach preserves',\n 'blackstrap molasses',\n 'taco seasoning mix',\n 'fettuccine pasta',\n 'biscuits',\n 'light butter',\n 'orange sections',\n 'soft breadcrumbs',\n 'frozen mixed vegetables',\n 'tiny new potatoes',\n 'vanilla - flavored soymilk',\n 'roasted soybeans',\n 'unsalted cashews',\n 'champagne vinegar',\n 'gruyere cheese',\n 'beef brisket',\n 'coconut water',\n 'dry onion soup mix',\n 'chicken thighs',\n 'vanilla wafer crumbs',\n 'stevia powder',\n 'green tomatoes',\n 'boneless pork loin roast',\n 'French haricots vert',\n 'minced garlic cloves',\n 'soft tofu',\n 'nonfat sour cream',\n 'chili oil',\n 'okra',\n 'peach slices',\n 'wasabi powder',\n 'button mushrooms',\n ...]"
     },
     "execution_count": 148,
     "metadata": {},
     "output_type": "execute_result"
    }
   ],
   "source": [
    "first_ingredients"
   ],
   "metadata": {
    "collapsed": false,
    "pycharm": {
     "name": "#%%\n"
    }
   }
  },
  {
   "cell_type": "markdown",
   "source": [
    "## Query generator"
   ],
   "metadata": {
    "collapsed": false,
    "pycharm": {
     "name": "#%% md\n"
    }
   }
  },
  {
   "cell_type": "code",
   "execution_count": 130,
   "outputs": [
    {
     "name": "stdout",
     "output_type": "stream",
     "text": [
      "1275 Classify each of the following ingredients into 'Sweet' / 'Salty' / 'Sour' / 'Spicy'/ 'Other' :\n",
      "'sesamedressing', 'frozenlimeadeconcentrate', 'brownmustardseeds', 'driedbeef', 'breadcubes', 'spicedrum', 'wholecorianderseeds', 'finesugar', 'sweetcorn', 'groundceleryseed', 'unsaltednuts', 'buttermilkpancakemix', 'fontinacheese', 'blackmustardseeds', 'smoothcashewbutter', 'darkcremedecacao', 'virginoliveoil', 'almondpaste', 'semisweetminichocolatechips', 'pinkgrapefruitjuice', 'texturedvegetableprotein', 'passionfruitjuice', 'pineapplesherbet', 'peppermintoil', 'picklerelish'.\n",
      "\n"
     ]
    }
   ],
   "source": [
    "ingredients = list(set(data['ingredients_2'].explode()))[1:]\n",
    "length = 1500\n",
    "start = 366+89+86+90+87+79+80+84+80+78+79+77\n",
    "ingredients_str = \"\"\"\"\"\"\n",
    "for i, w in enumerate(first_ingredients[start:]):\n",
    "    ingredients_str += f\"\"\"'{w}', \"\"\"\n",
    "    if len(ingredients_str) > length:\n",
    "        print(i)\n",
    "        break\n",
    "query = f\"\"\"Classify each of the following ingredients into 'Sweet' / 'Salty' / 'Sour' / 'Spicy'/ 'Other' :\n",
    "{ingredients_str[:-2]}.\n",
    "\"\"\"\n",
    "print(start,query)"
   ],
   "metadata": {
    "collapsed": false,
    "pycharm": {
     "name": "#%%\n"
    }
   }
  },
  {
   "cell_type": "markdown",
   "source": [
    "## Extract flavor"
   ],
   "metadata": {
    "collapsed": false
   }
  },
  {
   "cell_type": "code",
   "execution_count": 10,
   "outputs": [],
   "source": [
    "flavors = {}"
   ],
   "metadata": {
    "collapsed": false,
    "pycharm": {
     "name": "#%%\n"
    }
   }
  },
  {
   "cell_type": "code",
   "execution_count": 46,
   "outputs": [],
   "source": [
    "epoch = 7"
   ],
   "metadata": {
    "collapsed": false,
    "pycharm": {
     "name": "#%%\n"
    }
   }
  },
  {
   "cell_type": "markdown",
   "source": [
    "Dont forget!!!!! ^^^"
   ],
   "metadata": {
    "collapsed": false
   }
  },
  {
   "cell_type": "markdown",
   "source": [
    "### Format A"
   ],
   "metadata": {
    "collapsed": false
   }
  },
  {
   "cell_type": "code",
   "execution_count": 74,
   "outputs": [],
   "source": [
    "temp_dict = {}"
   ],
   "metadata": {
    "collapsed": false,
    "pycharm": {
     "name": "#%%\n"
    }
   }
  },
  {
   "cell_type": "code",
   "execution_count": 75,
   "outputs": [
    {
     "data": {
      "text/plain": "['sweet:candycorn,orangesherbet,caramelicecreamtopping,raisins,vanillasugar,fruit,mixedberries,unsweetenedalmondmilk,driedpineapple',\n 'salty:unsalteddryroastedpeanuts,chexcereal,kraftgratedparmesancheese,beefbouillongranules,porkbabybackribs,picklingsalt',\n 'sour:',\n 'spicy:chinesefivespicepowder,cayennepowder',\n 'other:choppedtomatoes,cacao,grapetomatoes,low-fatplainyogurt,pankobreadcrumbs,toastedwheatgerm,freshbroccoli,quick-cookingoatmeal,frozenspinach,garlicgranules,cookedbrownrice,1%low-fatmilk,cookedchickenbreasts,mascarponecheese,instantmincedgarlic,instantnonfatdrymilkpowder,brownriceflour,driedoreganoleaves,creamofmushroomsoup,porkloin,arugula.']"
     },
     "execution_count": 75,
     "metadata": {},
     "output_type": "execute_result"
    }
   ],
   "source": [
    "text = \"\"\"Sweet: cremedecacao, sweetbutter, semisweetveganchocolatechips, m&m'splainchocolatecandy, whitegrapejuice, cranberryjuicecocktail, carobpowder, orangeblossomwater, applepiespice, driedcurrants\n",
    "Salty: americancheese, unsaltedsunflowerseeds, saltedcashews\n",
    "Sour: sherrywinevinegar\n",
    "Spicy:\n",
    "Other: garliccloves, garbanzobeans, old-fashionedoatmeal, longgrainwhiterice, low-fatcreamcheese, waterchestnuts, freshbroccoliflorets, pork, unsweetenedcoconutmilk, beefstock, cardamomseeds, groundpork, yellowsquash, greenolives, puffedricecereal, freshitalianparsley, bulgur, kielbasa, babyspinachleaves, freshyeast, buckwheatflour, pintobeans, barleyflour, yoghurt, soup, pork sausage, seasoned rice vinegar, sun-dried tomatoes packed in oil, fat-freebuttermilk.\"\"\"\n",
    "text = text.lower().replace(' ', '').split('\\n')\n",
    "text"
   ],
   "metadata": {
    "collapsed": false,
    "pycharm": {
     "name": "#%%\n"
    }
   }
  },
  {
   "cell_type": "code",
   "execution_count": 76,
   "outputs": [
    {
     "data": {
      "text/plain": "{'sweet': ['sweet',\n  'candycorn',\n  'orangesherbet',\n  'caramelicecreamtopping',\n  'raisins',\n  'vanillasugar',\n  'fruit',\n  'mixedberries',\n  'unsweetenedalmondmilk',\n  'driedpineapple'],\n 'salty': ['salty',\n  'unsalteddryroastedpeanuts',\n  'chexcereal',\n  'kraftgratedparmesancheese',\n  'beefbouillongranules',\n  'porkbabybackribs',\n  'picklingsalt'],\n 'sour': ['sour', ''],\n 'spicy': ['spicy', 'chinesefivespicepowder', 'cayennepowder'],\n 'other': ['other',\n  'choppedtomatoes',\n  'cacao',\n  'grapetomatoes',\n  'low-fatplainyogurt',\n  'pankobreadcrumbs',\n  'toastedwheatgerm',\n  'freshbroccoli',\n  'quick-cookingoatmeal',\n  'frozenspinach',\n  'garlicgranules',\n  'cookedbrownrice',\n  '1%low-fatmilk',\n  'cookedchickenbreasts',\n  'mascarponecheese',\n  'instantmincedgarlic',\n  'instantnonfatdrymilkpowder',\n  'brownriceflour',\n  'driedoreganoleaves',\n  'creamofmushroomsoup',\n  'porkloin',\n  'arugula.']}"
     },
     "execution_count": 76,
     "metadata": {},
     "output_type": "execute_result"
    }
   ],
   "source": [
    "keys = ['sweet', 'salty', 'sour', 'spicy', 'other']\n",
    "if len(text) != len(keys):\n",
    "    print(len(text) ,len(keys))\n",
    "    assert len(text) == len(keys)\n",
    "text_dict = {keys[i]:re.split(r':|,', text[i]) for i in range(len(text))}\n",
    "text_dict"
   ],
   "metadata": {
    "collapsed": false,
    "pycharm": {
     "name": "#%%\n"
    }
   }
  },
  {
   "cell_type": "code",
   "execution_count": 77,
   "outputs": [],
   "source": [
    "for ingredient in first_ingredients:\n",
    "    for f, t in text_dict.items():\n",
    "        if ingredient in t:\n",
    "            temp_dict[ingredient] = f"
   ],
   "metadata": {
    "collapsed": false,
    "pycharm": {
     "name": "#%%\n"
    }
   }
  },
  {
   "cell_type": "code",
   "execution_count": 79,
   "outputs": [
    {
     "data": {
      "text/plain": "(10,\n {'raisins': 'sweet',\n  'porkloin': 'other',\n  'candycorn': 'sweet',\n  'choppedtomatoes': 'other',\n  'cacao': 'other',\n  'grapetomatoes': 'other',\n  'orangesherbet': 'sweet',\n  'caramelicecreamtopping': 'sweet',\n  'unsalteddryroastedpeanuts': 'salty',\n  'driedoreganoleaves': 'other',\n  'creamofmushroomsoup': 'other',\n  'low-fatplainyogurt': 'other',\n  'chexcereal': 'salty',\n  'chinesefivespicepowder': 'spicy',\n  'pankobreadcrumbs': 'other',\n  'kraftgratedparmesancheese': 'salty',\n  'toastedwheatgerm': 'other',\n  'porkbabybackribs': 'salty',\n  'freshbroccoli': 'other',\n  'quick-cookingoatmeal': 'other',\n  'frozenspinach': 'other',\n  'garlicgranules': 'other',\n  'cayennepowder': 'spicy',\n  'cookedbrownrice': 'other',\n  'beefbouillongranules': 'salty',\n  '1%low-fatmilk': 'other',\n  'cookedchickenbreasts': 'other',\n  'mascarponecheese': 'other',\n  'instantmincedgarlic': 'other',\n  'vanillasugar': 'sweet',\n  'fruit': 'sweet',\n  'unsweetenedalmondmilk': 'sweet',\n  'mixedberries': 'sweet',\n  'driedpineapple': 'sweet',\n  'picklingsalt': 'salty',\n  'instantnonfatdrymilkpowder': 'other',\n  'brownriceflour': 'other'})"
     },
     "execution_count": 79,
     "metadata": {},
     "output_type": "execute_result"
    }
   ],
   "source": [
    "epoch,temp_dict"
   ],
   "metadata": {
    "collapsed": false,
    "pycharm": {
     "name": "#%%\n"
    }
   }
  },
  {
   "cell_type": "code",
   "execution_count": 80,
   "outputs": [],
   "source": [
    "pkl.dump(temp_dict, open(f'data/ingredients/temp_dict_{epoch}', 'wb'))\n",
    "temp_dict={}\n",
    "epoch += 1"
   ],
   "metadata": {
    "collapsed": false,
    "pycharm": {
     "name": "#%%\n"
    }
   }
  },
  {
   "cell_type": "markdown",
   "source": [
    "### Format B"
   ],
   "metadata": {
    "collapsed": false,
    "pycharm": {
     "name": "#%% md\n"
    }
   }
  },
  {
   "cell_type": "code",
   "execution_count": 116,
   "outputs": [],
   "source": [
    "temp_dict = {}"
   ],
   "metadata": {
    "collapsed": false,
    "pycharm": {
     "name": "#%%\n"
    }
   }
  },
  {
   "cell_type": "code",
   "execution_count": 131,
   "outputs": [
    {
     "name": "stdout",
     "output_type": "stream",
     "text": [
      "[['sesamedressing', 'other'], ['frozenlimeadeconcentrate', 'sweet'], ['brownmustardseeds', 'spicy'], ['driedbeef', 'salty'], ['breadcubes', 'other'], ['spicedrum', 'other'], ['wholecorianderseeds', 'other'], ['finesugar', 'sweet'], ['sweetcorn', 'other'], ['groundceleryseed', 'other'], ['unsaltednuts', 'other'], ['buttermilkpancakemix', 'other'], ['fontinacheese', 'other'], ['blackmustardseeds', 'spicy'], ['smoothcashewbutter', 'other'], ['darkcremedecacao', 'sweet'], ['virginoliveoil', 'other'], ['almondpaste', 'other'], ['semisweetminichocolatechips', 'sweet'], ['pinkgrapefruitjuice', 'sour'], ['texturedvegetableprotein', 'other'], ['passionfruitjuice', 'sour'], ['pineapplesherbet', 'other'], ['peppermintoil', 'other'], ['picklerelish', 'sour']]\n"
     ]
    }
   ],
   "source": [
    "text = \"\"\"sesamedressing: Other\n",
    "frozenlimeadeconcentrate: Sweet\n",
    "brownmustardseeds: Spicy\n",
    "driedbeef: Salty\n",
    "breadcubes: Other\n",
    "spicedrum: Other\n",
    "wholecorianderseeds: Other\n",
    "finesugar: Sweet\n",
    "sweetcorn: Other\n",
    "groundceleryseed: Other\n",
    "unsaltednuts: Other\n",
    "buttermilkpancakemix: Other\n",
    "fontinacheese: Other\n",
    "blackmustardseeds: Spicy\n",
    "smoothcashewbutter: Other\n",
    "darkcremedecacao: Sweet\n",
    "virginoliveoil: Other\n",
    "almondpaste: Other\n",
    "semisweetminichocolatechips: Sweet\n",
    "pinkgrapefruitjuice: Sour\n",
    "texturedvegetableprotein: Other\n",
    "passionfruitjuice: Sour\n",
    "pineapplesherbet: Other\n",
    "peppermintoil: Other\n",
    "picklerelish: Sour\"\"\"\n",
    "text = text.lower()\n",
    "text = text.replace(' ', '').split('\\n')\n",
    "text = [re.split(r':|;|:', pair) for pair in text]\n",
    "print(text)"
   ],
   "metadata": {
    "collapsed": false,
    "pycharm": {
     "name": "#%%\n"
    }
   }
  },
  {
   "cell_type": "code",
   "execution_count": 132,
   "outputs": [],
   "source": [
    "for ingredient in first_ingredients:\n",
    "    for l in text:\n",
    "        if len(l) > 2:\n",
    "            print(l)\n",
    "        t, f = l\n",
    "        if ingredient == t:\n",
    "            temp_dict[ingredient] = f"
   ],
   "metadata": {
    "collapsed": false,
    "pycharm": {
     "name": "#%%\n"
    }
   }
  },
  {
   "cell_type": "code",
   "execution_count": 133,
   "outputs": [
    {
     "data": {
      "text/plain": "(17,\n {'sesamedressing': 'other',\n  'frozenlimeadeconcentrate': 'sweet',\n  'brownmustardseeds': 'spicy',\n  'driedbeef': 'salty',\n  'breadcubes': 'other',\n  'spicedrum': 'other',\n  'wholecorianderseeds': 'other',\n  'finesugar': 'sweet',\n  'sweetcorn': 'other',\n  'groundceleryseed': 'other',\n  'unsaltednuts': 'other',\n  'buttermilkpancakemix': 'other',\n  'fontinacheese': 'other',\n  'blackmustardseeds': 'spicy',\n  'smoothcashewbutter': 'other',\n  'darkcremedecacao': 'sweet',\n  'virginoliveoil': 'other',\n  'almondpaste': 'other',\n  'semisweetminichocolatechips': 'sweet',\n  'pinkgrapefruitjuice': 'sour',\n  'texturedvegetableprotein': 'other',\n  'passionfruitjuice': 'sour',\n  'pineapplesherbet': 'other',\n  'peppermintoil': 'other',\n  'picklerelish': 'sour'})"
     },
     "execution_count": 133,
     "metadata": {},
     "output_type": "execute_result"
    }
   ],
   "source": [
    "epoch, temp_dict"
   ],
   "metadata": {
    "collapsed": false,
    "pycharm": {
     "name": "#%%\n"
    }
   }
  },
  {
   "cell_type": "code",
   "execution_count": 134,
   "outputs": [],
   "source": [
    "pkl.dump(temp_dict, open(f'data/ingredients/temp_dict_{epoch}', 'wb'))\n",
    "temp_dict = {}\n",
    "epoch += 1"
   ],
   "metadata": {
    "collapsed": false,
    "pycharm": {
     "name": "#%%\n"
    }
   }
  },
  {
   "cell_type": "code",
   "execution_count": 146,
   "outputs": [
    {
     "data": {
      "text/plain": "Counter({'salty': 74,\n         'sweet': 208,\n         'other': 747,\n         'sour': 75,\n         'spicy': 61,\n         'othe': 1})"
     },
     "execution_count": 146,
     "metadata": {},
     "output_type": "execute_result"
    }
   ],
   "source": [
    "ingredients_flavor = {}\n",
    "for i in range(18):\n",
    "    tmp_dict = pkl.load( open(f'data/ingredients/temp_dict_{i}', 'rb'))\n",
    "    ingredients_flavor.update(tmp_dict)\n",
    "lower_dict = {k:v.lower() for k,v in ingredients_flavor.items()}\n",
    "pkl.dump(lower_dict, open(f'data/ingredients/ingredients_flavor.pkl', 'wb'))\n",
    "\n",
    "Counter(lower_dict.values())"
   ],
   "metadata": {
    "collapsed": false,
    "pycharm": {
     "name": "#%%\n"
    }
   }
  }
 ],
 "metadata": {
  "kernelspec": {
   "display_name": "Python 3",
   "language": "python",
   "name": "python3"
  },
  "language_info": {
   "codemirror_mode": {
    "name": "ipython",
    "version": 2
   },
   "file_extension": ".py",
   "mimetype": "text/x-python",
   "name": "python",
   "nbconvert_exporter": "python",
   "pygments_lexer": "ipython2",
   "version": "2.7.6"
  }
 },
 "nbformat": 4,
 "nbformat_minor": 0
}