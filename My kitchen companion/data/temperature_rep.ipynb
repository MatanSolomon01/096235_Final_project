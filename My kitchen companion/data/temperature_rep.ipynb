{
 "cells": [
  {
   "cell_type": "code",
   "execution_count": 79,
   "metadata": {
    "collapsed": true,
    "pycharm": {
     "name": "#%%\n"
    }
   },
   "outputs": [],
   "source": [
    "import pickle as pkl\n",
    "import pandas as pd\n",
    "import numpy as np"
   ]
  },
  {
   "cell_type": "code",
   "execution_count": 9,
   "outputs": [
    {
     "data": {
      "text/plain": "                                                    title_1  \\\n000095fc1d                                  Yogurt Parfaits   \n00051d5b9d  Salt Free, Low Cholesterol Sugar Cookies Recipe   \n00059b093b                     Honey Sriracha Chicken Wings   \n0005fc89f7                           Shrimp and Caper Salad   \n0006ca31f4         Natural Peanut Butter Chocolate Bon Bons   \n...                                                     ...   \nfffb3bbff2                                  Granola Supreme   \nfffd4b124b                                Almond Bark Candy   \nfffd6d487a                                Chocolate Crumble   \nfffdbfd298               Cran-Apple White Chocolate Popcorn   \nffffcd4444    Extremely Easy and Quick - Namul Daikon Salad   \n\n                                                ingredients_1  \\\n000095fc1d  [yogurt, greek, plain, nonfat, strawberries, r...   \n00051d5b9d  [sugars, granulated, oil, corn, peanut, and ol...   \n00059b093b  [chicken, broilers or fryers, wing, meat and s...   \n0005fc89f7  [crustaceans, shrimp, raw (not previously froz...   \n0006ca31f4  [cocoa, dry powder, unsweetened, honey, peanut...   \n...                                                       ...   \nfffb3bbff2  [oats, cereals, oats, regular and quick, unenr...   \nfffd4b124b  [spartan, real semi-sweet chocolate baking chi...   \nfffd6d487a  [butter, without salt, cocoa, dry powder, unsw...   \nfffdbfd298  [spartan, real semi-sweet chocolate baking chi...   \nffffcd4444  [radishes, raw, oil, sesame, salad or cooking,...   \n\n                                                ingredients_2  \\\n000095fc1d  [non - fat vanilla yogurt, strawberries, low -...   \n00051d5b9d  [granulated sugar, corn oil, Egg Beaters egg s...   \n00059b093b  [chicken wings, salt, pepper, oil, butter, hot...   \n0005fc89f7  [shrimp, green onions, celery, capers, black o...   \n0006ca31f4  [cocoa powder, honey, natural - style peanut b...   \n...                                                       ...   \nfffb3bbff2  [rolled oats, puffed kamut cereal, oat bran, s...   \nfffd4b124b                [white chocolate, raisins, almonds]   \nfffd6d487a  [unsalted butter, unsweetened cocoa powder, al...   \nfffdbfd298  [white chocolate chips, ground cinnamon, pumpk...   \nffffcd4444  [daikon radishes, sesame oil, white sesame see...   \n\n                                                ingredients_3  \\\n000095fc1d  [8 ounces, weight Light Fat Free Vanilla Yogur...   \n00051d5b9d  [1/2 c. granulated sugar, 3/4 c. salt free cor...   \n00059b093b  [3 pounds Chicken Wings Or Drummettes, 1 teasp...   \n0005fc89f7  [2 pounds frozen cooked shrimp without tails, ...   \n0006ca31f4  [12 cup cocoa powder, 12 cup honey, 1 cup natu...   \n...                                                       ...   \nfffb3bbff2  [6 cups rolled oats (NOT quick oats), 2 cups p...   \nfffd4b124b  [1 lb white chocolate, 12 cup raisins, 12 cup ...   \nfffd6d487a  [6 1/2 tablespoons (94g) unsalted butter, soft...   \nfffdbfd298  [12 ounces white chocolate chips, 12 teaspoon ...   \nffffcd4444  [150 grams Daikon radish, 1 tbsp Sesame oil, 1...   \n\n                                               instructions_1  \\\n000095fc1d         [Layer all ingredients in a serving dish.]   \n00051d5b9d  [Cream sugar and butter together till smooth.,...   \n00059b093b  [Preheat oven to 400 degrees F., In a large bo...   \n0005fc89f7  [In a large bowl, toss the shrimp, green onion...   \n0006ca31f4  [Measure out the cocoa powder into a mixing bo...   \n...                                                       ...   \nfffb3bbff2  [Preheat oven to 250 deg., Grease 2 cookie she...   \nfffd4b124b  [Melt chocolate until smooth., Add raisins and...   \nfffd6d487a  [Heat the oven to 375F or 350F on convection.,...   \nfffdbfd298  [Melt chocolate in large bowl set over pot of ...   \nffffcd4444  [Julienne the daikon and squeeze out the exces...   \n\n                                               instructions_3      energy  \\\n000095fc1d         [Layer all ingredients in a serving dish.]   81.129461   \n00051d5b9d  [Cream sugar and butter together till smooth.,...  477.096404   \n00059b093b  [Preheat oven to 400 degrees F., In a large bo...  208.058983   \n0005fc89f7  [In a large bowl, toss the shrimp, green onion...  194.752596   \n0006ca31f4  [Measure out the cocoa powder into a mixing bo...  303.435400   \n...                                                       ...         ...   \nfffb3bbff2  [Preheat oven to 250 deg., Grease 2 cookie she...  451.751314   \nfffd4b124b  [Melt chocolate until smooth., Add raisins and...  431.615316   \nfffd6d487a  [Heat the oven to 375F or 350F on convection.,...  461.730085   \nfffdbfd298  [Melt chocolate in large bowl set over pot of ...  210.211482   \nffffcd4444  [Julienne the daikon and squeeze out the exces...  110.315153   \n\n                  fat    protein      salt  saturates     sugars  \n000095fc1d   2.140139   6.914437  0.055978   0.365347   5.086341  \n00051d5b9d  23.412486   7.625492  0.548621   3.425054  14.298443  \n00059b093b  14.297046  15.383456  1.063915   4.535687   3.048951  \n0005fc89f7  15.980767  11.946687  0.614843   2.366704   0.314583  \n0006ca31f4   5.094847   5.067961  0.019791   2.048394  63.210605  \n...               ...        ...       ...        ...        ...  \nfffb3bbff2  25.488530   1.147211  0.082548  13.190866  53.392914  \nfffd4b124b  23.820486  10.677064  0.033979   3.479518   7.628235  \nfffd6d487a  26.190802   5.283055  0.494183  16.115193  29.173830  \nfffdbfd298   1.987518   0.679577  0.007365   0.871569  44.795721  \nffffcd4444  10.092285   1.797135  1.618909   1.442853   1.616948  \n\n[49694 rows x 12 columns]",
      "text/html": "<div>\n<style scoped>\n    .dataframe tbody tr th:only-of-type {\n        vertical-align: middle;\n    }\n\n    .dataframe tbody tr th {\n        vertical-align: top;\n    }\n\n    .dataframe thead th {\n        text-align: right;\n    }\n</style>\n<table border=\"1\" class=\"dataframe\">\n  <thead>\n    <tr style=\"text-align: right;\">\n      <th></th>\n      <th>title_1</th>\n      <th>ingredients_1</th>\n      <th>ingredients_2</th>\n      <th>ingredients_3</th>\n      <th>instructions_1</th>\n      <th>instructions_3</th>\n      <th>energy</th>\n      <th>fat</th>\n      <th>protein</th>\n      <th>salt</th>\n      <th>saturates</th>\n      <th>sugars</th>\n    </tr>\n  </thead>\n  <tbody>\n    <tr>\n      <th>000095fc1d</th>\n      <td>Yogurt Parfaits</td>\n      <td>[yogurt, greek, plain, nonfat, strawberries, r...</td>\n      <td>[non - fat vanilla yogurt, strawberries, low -...</td>\n      <td>[8 ounces, weight Light Fat Free Vanilla Yogur...</td>\n      <td>[Layer all ingredients in a serving dish.]</td>\n      <td>[Layer all ingredients in a serving dish.]</td>\n      <td>81.129461</td>\n      <td>2.140139</td>\n      <td>6.914437</td>\n      <td>0.055978</td>\n      <td>0.365347</td>\n      <td>5.086341</td>\n    </tr>\n    <tr>\n      <th>00051d5b9d</th>\n      <td>Salt Free, Low Cholesterol Sugar Cookies Recipe</td>\n      <td>[sugars, granulated, oil, corn, peanut, and ol...</td>\n      <td>[granulated sugar, corn oil, Egg Beaters egg s...</td>\n      <td>[1/2 c. granulated sugar, 3/4 c. salt free cor...</td>\n      <td>[Cream sugar and butter together till smooth.,...</td>\n      <td>[Cream sugar and butter together till smooth.,...</td>\n      <td>477.096404</td>\n      <td>23.412486</td>\n      <td>7.625492</td>\n      <td>0.548621</td>\n      <td>3.425054</td>\n      <td>14.298443</td>\n    </tr>\n    <tr>\n      <th>00059b093b</th>\n      <td>Honey Sriracha Chicken Wings</td>\n      <td>[chicken, broilers or fryers, wing, meat and s...</td>\n      <td>[chicken wings, salt, pepper, oil, butter, hot...</td>\n      <td>[3 pounds Chicken Wings Or Drummettes, 1 teasp...</td>\n      <td>[Preheat oven to 400 degrees F., In a large bo...</td>\n      <td>[Preheat oven to 400 degrees F., In a large bo...</td>\n      <td>208.058983</td>\n      <td>14.297046</td>\n      <td>15.383456</td>\n      <td>1.063915</td>\n      <td>4.535687</td>\n      <td>3.048951</td>\n    </tr>\n    <tr>\n      <th>0005fc89f7</th>\n      <td>Shrimp and Caper Salad</td>\n      <td>[crustaceans, shrimp, raw (not previously froz...</td>\n      <td>[shrimp, green onions, celery, capers, black o...</td>\n      <td>[2 pounds frozen cooked shrimp without tails, ...</td>\n      <td>[In a large bowl, toss the shrimp, green onion...</td>\n      <td>[In a large bowl, toss the shrimp, green onion...</td>\n      <td>194.752596</td>\n      <td>15.980767</td>\n      <td>11.946687</td>\n      <td>0.614843</td>\n      <td>2.366704</td>\n      <td>0.314583</td>\n    </tr>\n    <tr>\n      <th>0006ca31f4</th>\n      <td>Natural Peanut Butter Chocolate Bon Bons</td>\n      <td>[cocoa, dry powder, unsweetened, honey, peanut...</td>\n      <td>[cocoa powder, honey, natural - style peanut b...</td>\n      <td>[12 cup cocoa powder, 12 cup honey, 1 cup natu...</td>\n      <td>[Measure out the cocoa powder into a mixing bo...</td>\n      <td>[Measure out the cocoa powder into a mixing bo...</td>\n      <td>303.435400</td>\n      <td>5.094847</td>\n      <td>5.067961</td>\n      <td>0.019791</td>\n      <td>2.048394</td>\n      <td>63.210605</td>\n    </tr>\n    <tr>\n      <th>...</th>\n      <td>...</td>\n      <td>...</td>\n      <td>...</td>\n      <td>...</td>\n      <td>...</td>\n      <td>...</td>\n      <td>...</td>\n      <td>...</td>\n      <td>...</td>\n      <td>...</td>\n      <td>...</td>\n      <td>...</td>\n    </tr>\n    <tr>\n      <th>fffb3bbff2</th>\n      <td>Granola Supreme</td>\n      <td>[oats, cereals, oats, regular and quick, unenr...</td>\n      <td>[rolled oats, puffed kamut cereal, oat bran, s...</td>\n      <td>[6 cups rolled oats (NOT quick oats), 2 cups p...</td>\n      <td>[Preheat oven to 250 deg., Grease 2 cookie she...</td>\n      <td>[Preheat oven to 250 deg., Grease 2 cookie she...</td>\n      <td>451.751314</td>\n      <td>25.488530</td>\n      <td>1.147211</td>\n      <td>0.082548</td>\n      <td>13.190866</td>\n      <td>53.392914</td>\n    </tr>\n    <tr>\n      <th>fffd4b124b</th>\n      <td>Almond Bark Candy</td>\n      <td>[spartan, real semi-sweet chocolate baking chi...</td>\n      <td>[white chocolate, raisins, almonds]</td>\n      <td>[1 lb white chocolate, 12 cup raisins, 12 cup ...</td>\n      <td>[Melt chocolate until smooth., Add raisins and...</td>\n      <td>[Melt chocolate until smooth., Add raisins and...</td>\n      <td>431.615316</td>\n      <td>23.820486</td>\n      <td>10.677064</td>\n      <td>0.033979</td>\n      <td>3.479518</td>\n      <td>7.628235</td>\n    </tr>\n    <tr>\n      <th>fffd6d487a</th>\n      <td>Chocolate Crumble</td>\n      <td>[butter, without salt, cocoa, dry powder, unsw...</td>\n      <td>[unsalted butter, unsweetened cocoa powder, al...</td>\n      <td>[6 1/2 tablespoons (94g) unsalted butter, soft...</td>\n      <td>[Heat the oven to 375F or 350F on convection.,...</td>\n      <td>[Heat the oven to 375F or 350F on convection.,...</td>\n      <td>461.730085</td>\n      <td>26.190802</td>\n      <td>5.283055</td>\n      <td>0.494183</td>\n      <td>16.115193</td>\n      <td>29.173830</td>\n    </tr>\n    <tr>\n      <th>fffdbfd298</th>\n      <td>Cran-Apple White Chocolate Popcorn</td>\n      <td>[spartan, real semi-sweet chocolate baking chi...</td>\n      <td>[white chocolate chips, ground cinnamon, pumpk...</td>\n      <td>[12 ounces white chocolate chips, 12 teaspoon ...</td>\n      <td>[Melt chocolate in large bowl set over pot of ...</td>\n      <td>[Melt chocolate in large bowl set over pot of ...</td>\n      <td>210.211482</td>\n      <td>1.987518</td>\n      <td>0.679577</td>\n      <td>0.007365</td>\n      <td>0.871569</td>\n      <td>44.795721</td>\n    </tr>\n    <tr>\n      <th>ffffcd4444</th>\n      <td>Extremely Easy and Quick - Namul Daikon Salad</td>\n      <td>[radishes, raw, oil, sesame, salad or cooking,...</td>\n      <td>[daikon radishes, sesame oil, white sesame see...</td>\n      <td>[150 grams Daikon radish, 1 tbsp Sesame oil, 1...</td>\n      <td>[Julienne the daikon and squeeze out the exces...</td>\n      <td>[Julienne the daikon and squeeze out the exces...</td>\n      <td>110.315153</td>\n      <td>10.092285</td>\n      <td>1.797135</td>\n      <td>1.618909</td>\n      <td>1.442853</td>\n      <td>1.616948</td>\n    </tr>\n  </tbody>\n</table>\n<p>49694 rows × 12 columns</p>\n</div>"
     },
     "execution_count": 9,
     "metadata": {},
     "output_type": "execute_result"
    }
   ],
   "source": [
    "with open('data_df.pkl', 'rb') as f:\n",
    "    data = pkl.load(f)\n",
    "data"
   ],
   "metadata": {
    "collapsed": false,
    "pycharm": {
     "name": "#%%\n"
    }
   }
  },
  {
   "cell_type": "code",
   "execution_count": 45,
   "outputs": [
    {
     "data": {
      "text/plain": "(['cook',\n  'fry',\n  'heat',\n  'bake',\n  'broil',\n  'grill',\n  'roast',\n  'fry',\n  'boil',\n  'simmer',\n  'steam',\n  'poach',\n  'microwave',\n  'toaster',\n  'oven',\n  'stove',\n  'burner',\n  'pot',\n  'pan',\n  'woke',\n  'degrees'],\n [' cool',\n  ' freeze',\n  ' refrigerate',\n  ' freezer',\n  ' refrigerator',\n  ' ice',\n  ' frozen'])"
     },
     "execution_count": 45,
     "metadata": {},
     "output_type": "execute_result"
    }
   ],
   "source": [
    "with open('hot_words.txt', 'r') as f:\n",
    "    HOT_WORDS = f.read().split('\\n')\n",
    "with open('cold_words.txt', 'r') as f:\n",
    "    COLD_WORDS = f.read().split('\\n')\n",
    "HOT_WORDS,COLD_WORDS"
   ],
   "metadata": {
    "collapsed": false,
    "pycharm": {
     "name": "#%%\n"
    }
   }
  },
  {
   "cell_type": "code",
   "execution_count": 83,
   "outputs": [],
   "source": [
    "def listO_instructions2_representation(listO_instructions):\n",
    "    rep = {'cold': 0, 'natural': 0, 'hot': 0}\n",
    "    last_hot = 0\n",
    "    last_cold = 0\n",
    "    for i, ins in enumerate(listO_instructions):\n",
    "        ins = ins.lower()\n",
    "        is_hot = any([word in ins for word in HOT_WORDS])\n",
    "        is_cold = any([word in ins for word in COLD_WORDS])\n",
    "        if is_hot:\n",
    "            rep['hot'] += 1\n",
    "            last_hot = i\n",
    "        if is_cold:\n",
    "            rep['cold'] += 1\n",
    "            last_cold = i\n",
    "        elif not is_hot:\n",
    "            rep['natural'] += 0.5\n",
    "    if not (last_hot == last_cold == 0):\n",
    "        if last_hot>last_cold:\n",
    "            rep['hot'] += 2\n",
    "        else:\n",
    "            rep['cold'] += 2\n",
    "    scores = np.array(list(rep.values()))\n",
    "    return scores/sum(scores)"
   ],
   "metadata": {
    "collapsed": false,
    "pycharm": {
     "name": "#%%\n"
    }
   }
  },
  {
   "cell_type": "code",
   "source": [
    "s = data.instructions_3.apply(listO_instructions2_representation)\n",
    "temp_rep = pd.DataFrame.from_dict(dict(zip(s.index, s.values)),orient='index',columns=['cold', 'natural', 'hot'])\n",
    "temp_rep"
   ],
   "metadata": {
    "collapsed": false,
    "pycharm": {
     "name": "#%%\n"
    }
   },
   "execution_count": 82,
   "outputs": [
    {
     "data": {
      "text/plain": "                cold   natural       hot\n000095fc1d  0.000000  1.000000  0.000000\n00051d5b9d  0.000000  0.375000  0.625000\n00059b093b  0.000000  0.300000  0.700000\n0005fc89f7  0.857143  0.142857  0.000000\n0006ca31f4  0.615385  0.230769  0.153846\n...              ...       ...       ...\nfffb3bbff2  0.240000  0.520000  0.240000\nfffd4b124b  0.666667  0.333333  0.000000\nfffd6d487a  0.444444  0.333333  0.222222\nfffdbfd298  0.428571  0.428571  0.142857\nffffcd4444  0.000000  1.000000  0.000000\n\n[49694 rows x 3 columns]",
      "text/html": "<div>\n<style scoped>\n    .dataframe tbody tr th:only-of-type {\n        vertical-align: middle;\n    }\n\n    .dataframe tbody tr th {\n        vertical-align: top;\n    }\n\n    .dataframe thead th {\n        text-align: right;\n    }\n</style>\n<table border=\"1\" class=\"dataframe\">\n  <thead>\n    <tr style=\"text-align: right;\">\n      <th></th>\n      <th>cold</th>\n      <th>natural</th>\n      <th>hot</th>\n    </tr>\n  </thead>\n  <tbody>\n    <tr>\n      <th>000095fc1d</th>\n      <td>0.000000</td>\n      <td>1.000000</td>\n      <td>0.000000</td>\n    </tr>\n    <tr>\n      <th>00051d5b9d</th>\n      <td>0.000000</td>\n      <td>0.375000</td>\n      <td>0.625000</td>\n    </tr>\n    <tr>\n      <th>00059b093b</th>\n      <td>0.000000</td>\n      <td>0.300000</td>\n      <td>0.700000</td>\n    </tr>\n    <tr>\n      <th>0005fc89f7</th>\n      <td>0.857143</td>\n      <td>0.142857</td>\n      <td>0.000000</td>\n    </tr>\n    <tr>\n      <th>0006ca31f4</th>\n      <td>0.615385</td>\n      <td>0.230769</td>\n      <td>0.153846</td>\n    </tr>\n    <tr>\n      <th>...</th>\n      <td>...</td>\n      <td>...</td>\n      <td>...</td>\n    </tr>\n    <tr>\n      <th>fffb3bbff2</th>\n      <td>0.240000</td>\n      <td>0.520000</td>\n      <td>0.240000</td>\n    </tr>\n    <tr>\n      <th>fffd4b124b</th>\n      <td>0.666667</td>\n      <td>0.333333</td>\n      <td>0.000000</td>\n    </tr>\n    <tr>\n      <th>fffd6d487a</th>\n      <td>0.444444</td>\n      <td>0.333333</td>\n      <td>0.222222</td>\n    </tr>\n    <tr>\n      <th>fffdbfd298</th>\n      <td>0.428571</td>\n      <td>0.428571</td>\n      <td>0.142857</td>\n    </tr>\n    <tr>\n      <th>ffffcd4444</th>\n      <td>0.000000</td>\n      <td>1.000000</td>\n      <td>0.000000</td>\n    </tr>\n  </tbody>\n</table>\n<p>49694 rows × 3 columns</p>\n</div>"
     },
     "execution_count": 82,
     "metadata": {},
     "output_type": "execute_result"
    }
   ]
  }
 ],
 "metadata": {
  "kernelspec": {
   "display_name": "Python 3",
   "language": "python",
   "name": "python3"
  },
  "language_info": {
   "codemirror_mode": {
    "name": "ipython",
    "version": 2
   },
   "file_extension": ".py",
   "mimetype": "text/x-python",
   "name": "python",
   "nbconvert_exporter": "python",
   "pygments_lexer": "ipython2",
   "version": "2.7.6"
  }
 },
 "nbformat": 4,
 "nbformat_minor": 0
}