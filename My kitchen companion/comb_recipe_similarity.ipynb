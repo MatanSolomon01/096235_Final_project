{
 "cells": [
  {
   "cell_type": "markdown",
   "metadata": {
    "collapsed": true,
    "pycharm": {
     "name": "#%% md\n"
    }
   },
   "source": [
    "# Combination recipes similarity"
   ]
  },
  {
   "cell_type": "code",
   "execution_count": 2,
   "outputs": [],
   "source": [
    "import pickle as pkl\n",
    "\n",
    "import pandas as pd\n",
    "from sklearn.metrics.pairwise import cosine_similarity\n",
    "\n",
    "path2root = '.'"
   ],
   "metadata": {
    "collapsed": false,
    "pycharm": {
     "name": "#%%\n"
    }
   }
  },
  {
   "cell_type": "markdown",
   "source": [
    "## Load data"
   ],
   "metadata": {
    "collapsed": false,
    "pycharm": {
     "name": "#%% md\n"
    }
   }
  },
  {
   "cell_type": "code",
   "execution_count": 3,
   "outputs": [],
   "source": [
    "embeddings_dict = pkl.load(open(f'{path2root}/data/initial_features/initial_features_dict.pkl','rb'))\n",
    "recipes_embeddings, combinations_embeddings = embeddings_dict['recipes'], embeddings_dict['combinations']"
   ],
   "metadata": {
    "collapsed": false,
    "pycharm": {
     "name": "#%%\n"
    }
   }
  },
  {
   "cell_type": "code",
   "execution_count": 13,
   "outputs": [
    {
     "data": {
      "text/plain": "                         7abae8bd52  8a705a7781  bcde847269  e848172f78  \\\n(0, 0, 0, 1, 0, 0, 0)      0.134140    0.169741    0.063430    0.000000   \n(0, 0, 0, 1, 0, 0, 1)      0.184628    0.206017    0.096273    0.027116   \n(0, 0, 0, 1, 0, 0, 2)      0.233712    0.240924    0.128320    0.053831   \n(0, 0, 0, 1, 0, 0, 3)      0.280740    0.274014    0.159139    0.079775   \n(0, 0, 0, 1, 0, 0, 4)      0.325179    0.304939    0.188374    0.104629   \n...                             ...         ...         ...         ...   \n(1, 1, 1, 1, 2, 10, 6)     0.663900    0.645747    0.722567    0.178792   \n(1, 1, 1, 1, 2, 10, 7)     0.691488    0.661675    0.733483    0.197723   \n(1, 1, 1, 1, 2, 10, 8)     0.715687    0.674880    0.741716    0.215137   \n(1, 1, 1, 1, 2, 10, 9)     0.736713    0.685609    0.747565    0.231052   \n(1, 1, 1, 1, 2, 10, 10)    0.754822    0.694127    0.751337    0.245521   \n\n                         868482568e  84fe862674  92acfcb5cb  b781070fbc  \\\n(0, 0, 0, 1, 0, 0, 0)      0.064222    0.000000    0.000000    0.000000   \n(0, 0, 0, 1, 0, 0, 1)      0.095184    0.027088    0.006531    0.013802   \n(0, 0, 0, 1, 0, 0, 2)      0.125373    0.053775    0.012965    0.027401   \n(0, 0, 0, 1, 0, 0, 3)      0.154385    0.079692    0.019214    0.040606   \n(0, 0, 0, 1, 0, 0, 4)      0.181885    0.104520    0.025200    0.053257   \n...                             ...         ...         ...         ...   \n(1, 1, 1, 1, 2, 10, 6)     0.609933    0.460318    0.504392    0.080338   \n(1, 1, 1, 1, 2, 10, 7)     0.621944    0.472465    0.497875    0.090230   \n(1, 1, 1, 1, 2, 10, 8)     0.631543    0.482631    0.490229    0.099368   \n(1, 1, 1, 1, 2, 10, 9)     0.638973    0.490986    0.481710    0.107755   \n(1, 1, 1, 1, 2, 10, 10)    0.644489    0.497721    0.472553    0.115412   \n\n                         35e8eea03d  bbadb7cba2  ...  7596b64a1b  c6bfab27a2  \\\n(0, 0, 0, 1, 0, 0, 0)      0.000000    0.000000  ...    0.072595    0.000000   \n(0, 0, 0, 1, 0, 0, 1)      0.018500    0.018393  ...    0.109061    0.006277   \n(0, 0, 0, 1, 0, 0, 2)      0.036728    0.036515  ...    0.144631    0.012461   \n(0, 0, 0, 1, 0, 0, 3)      0.054429    0.054114  ...    0.178829    0.018466   \n(0, 0, 0, 1, 0, 0, 4)      0.071386    0.070973  ...    0.211258    0.024220   \n...                             ...         ...  ...         ...         ...   \n(1, 1, 1, 1, 2, 10, 6)     0.392391    0.633871  ...    0.312108    0.367003   \n(1, 1, 1, 1, 2, 10, 7)     0.398815    0.634405  ...    0.336001    0.363567   \n(1, 1, 1, 1, 2, 10, 8)     0.403756    0.633061  ...    0.357727    0.359241   \n(1, 1, 1, 1, 2, 10, 9)     0.407374    0.630132  ...    0.377349    0.354206   \n(1, 1, 1, 1, 2, 10, 10)    0.409836    0.625901  ...    0.394972    0.348633   \n\n                         2e451d8c8d  4cf571e9cc  7e9a175f54  c5c738babf  \\\n(0, 0, 0, 1, 0, 0, 0)      0.199347    0.382372    0.000000    0.000000   \n(0, 0, 0, 1, 0, 0, 1)      0.220693    0.404388    0.022032    0.026603   \n(0, 0, 0, 1, 0, 0, 2)      0.240746    0.424201    0.043738    0.052813   \n(0, 0, 0, 1, 0, 0, 3)      0.259269    0.441621    0.064818    0.078266   \n(0, 0, 0, 1, 0, 0, 4)      0.276104    0.456562    0.085011    0.102650   \n...                             ...         ...         ...         ...   \n(1, 1, 1, 1, 2, 10, 6)     0.511279    0.148329    0.608488    0.208562   \n(1, 1, 1, 1, 2, 10, 7)     0.517711    0.164440    0.612748    0.226340   \n(1, 1, 1, 1, 2, 10, 8)     0.522312    0.179270    0.615008    0.242573   \n(1, 1, 1, 1, 2, 10, 9)     0.525299    0.192834    0.615536    0.257300   \n(1, 1, 1, 1, 2, 10, 10)    0.526891    0.205175    0.614599    0.270587   \n\n                         83b840d209  709f8db4d2  5a1d04bdf4  d36737a784  \n(0, 0, 0, 1, 0, 0, 0)      0.353445    0.296873    0.000000    0.000000  \n(0, 0, 0, 1, 0, 0, 1)      0.372927    0.318095    0.040554    0.016720  \n(0, 0, 0, 1, 0, 0, 2)      0.390387    0.337547    0.080509    0.033194  \n(0, 0, 0, 1, 0, 0, 3)      0.405658    0.355021    0.119310    0.049192  \n(0, 0, 0, 1, 0, 0, 4)      0.418673    0.370406    0.156481    0.064517  \n...                             ...         ...         ...         ...  \n(1, 1, 1, 1, 2, 10, 6)     0.386226    0.411571    0.286629    0.099426  \n(1, 1, 1, 1, 2, 10, 7)     0.394393    0.420499    0.314481    0.111360  \n(1, 1, 1, 1, 2, 10, 8)     0.401003    0.427756    0.340031    0.122375  \n(1, 1, 1, 1, 2, 10, 9)     0.406208    0.433503    0.363318    0.132479  \n(1, 1, 1, 1, 2, 10, 10)    0.410169    0.437911    0.384431    0.141697  \n\n[5445 rows x 10000 columns]",
      "text/html": "<div>\n<style scoped>\n    .dataframe tbody tr th:only-of-type {\n        vertical-align: middle;\n    }\n\n    .dataframe tbody tr th {\n        vertical-align: top;\n    }\n\n    .dataframe thead th {\n        text-align: right;\n    }\n</style>\n<table border=\"1\" class=\"dataframe\">\n  <thead>\n    <tr style=\"text-align: right;\">\n      <th></th>\n      <th>7abae8bd52</th>\n      <th>8a705a7781</th>\n      <th>bcde847269</th>\n      <th>e848172f78</th>\n      <th>868482568e</th>\n      <th>84fe862674</th>\n      <th>92acfcb5cb</th>\n      <th>b781070fbc</th>\n      <th>35e8eea03d</th>\n      <th>bbadb7cba2</th>\n      <th>...</th>\n      <th>7596b64a1b</th>\n      <th>c6bfab27a2</th>\n      <th>2e451d8c8d</th>\n      <th>4cf571e9cc</th>\n      <th>7e9a175f54</th>\n      <th>c5c738babf</th>\n      <th>83b840d209</th>\n      <th>709f8db4d2</th>\n      <th>5a1d04bdf4</th>\n      <th>d36737a784</th>\n    </tr>\n  </thead>\n  <tbody>\n    <tr>\n      <th>(0, 0, 0, 1, 0, 0, 0)</th>\n      <td>0.134140</td>\n      <td>0.169741</td>\n      <td>0.063430</td>\n      <td>0.000000</td>\n      <td>0.064222</td>\n      <td>0.000000</td>\n      <td>0.000000</td>\n      <td>0.000000</td>\n      <td>0.000000</td>\n      <td>0.000000</td>\n      <td>...</td>\n      <td>0.072595</td>\n      <td>0.000000</td>\n      <td>0.199347</td>\n      <td>0.382372</td>\n      <td>0.000000</td>\n      <td>0.000000</td>\n      <td>0.353445</td>\n      <td>0.296873</td>\n      <td>0.000000</td>\n      <td>0.000000</td>\n    </tr>\n    <tr>\n      <th>(0, 0, 0, 1, 0, 0, 1)</th>\n      <td>0.184628</td>\n      <td>0.206017</td>\n      <td>0.096273</td>\n      <td>0.027116</td>\n      <td>0.095184</td>\n      <td>0.027088</td>\n      <td>0.006531</td>\n      <td>0.013802</td>\n      <td>0.018500</td>\n      <td>0.018393</td>\n      <td>...</td>\n      <td>0.109061</td>\n      <td>0.006277</td>\n      <td>0.220693</td>\n      <td>0.404388</td>\n      <td>0.022032</td>\n      <td>0.026603</td>\n      <td>0.372927</td>\n      <td>0.318095</td>\n      <td>0.040554</td>\n      <td>0.016720</td>\n    </tr>\n    <tr>\n      <th>(0, 0, 0, 1, 0, 0, 2)</th>\n      <td>0.233712</td>\n      <td>0.240924</td>\n      <td>0.128320</td>\n      <td>0.053831</td>\n      <td>0.125373</td>\n      <td>0.053775</td>\n      <td>0.012965</td>\n      <td>0.027401</td>\n      <td>0.036728</td>\n      <td>0.036515</td>\n      <td>...</td>\n      <td>0.144631</td>\n      <td>0.012461</td>\n      <td>0.240746</td>\n      <td>0.424201</td>\n      <td>0.043738</td>\n      <td>0.052813</td>\n      <td>0.390387</td>\n      <td>0.337547</td>\n      <td>0.080509</td>\n      <td>0.033194</td>\n    </tr>\n    <tr>\n      <th>(0, 0, 0, 1, 0, 0, 3)</th>\n      <td>0.280740</td>\n      <td>0.274014</td>\n      <td>0.159139</td>\n      <td>0.079775</td>\n      <td>0.154385</td>\n      <td>0.079692</td>\n      <td>0.019214</td>\n      <td>0.040606</td>\n      <td>0.054429</td>\n      <td>0.054114</td>\n      <td>...</td>\n      <td>0.178829</td>\n      <td>0.018466</td>\n      <td>0.259269</td>\n      <td>0.441621</td>\n      <td>0.064818</td>\n      <td>0.078266</td>\n      <td>0.405658</td>\n      <td>0.355021</td>\n      <td>0.119310</td>\n      <td>0.049192</td>\n    </tr>\n    <tr>\n      <th>(0, 0, 0, 1, 0, 0, 4)</th>\n      <td>0.325179</td>\n      <td>0.304939</td>\n      <td>0.188374</td>\n      <td>0.104629</td>\n      <td>0.181885</td>\n      <td>0.104520</td>\n      <td>0.025200</td>\n      <td>0.053257</td>\n      <td>0.071386</td>\n      <td>0.070973</td>\n      <td>...</td>\n      <td>0.211258</td>\n      <td>0.024220</td>\n      <td>0.276104</td>\n      <td>0.456562</td>\n      <td>0.085011</td>\n      <td>0.102650</td>\n      <td>0.418673</td>\n      <td>0.370406</td>\n      <td>0.156481</td>\n      <td>0.064517</td>\n    </tr>\n    <tr>\n      <th>...</th>\n      <td>...</td>\n      <td>...</td>\n      <td>...</td>\n      <td>...</td>\n      <td>...</td>\n      <td>...</td>\n      <td>...</td>\n      <td>...</td>\n      <td>...</td>\n      <td>...</td>\n      <td>...</td>\n      <td>...</td>\n      <td>...</td>\n      <td>...</td>\n      <td>...</td>\n      <td>...</td>\n      <td>...</td>\n      <td>...</td>\n      <td>...</td>\n      <td>...</td>\n      <td>...</td>\n    </tr>\n    <tr>\n      <th>(1, 1, 1, 1, 2, 10, 6)</th>\n      <td>0.663900</td>\n      <td>0.645747</td>\n      <td>0.722567</td>\n      <td>0.178792</td>\n      <td>0.609933</td>\n      <td>0.460318</td>\n      <td>0.504392</td>\n      <td>0.080338</td>\n      <td>0.392391</td>\n      <td>0.633871</td>\n      <td>...</td>\n      <td>0.312108</td>\n      <td>0.367003</td>\n      <td>0.511279</td>\n      <td>0.148329</td>\n      <td>0.608488</td>\n      <td>0.208562</td>\n      <td>0.386226</td>\n      <td>0.411571</td>\n      <td>0.286629</td>\n      <td>0.099426</td>\n    </tr>\n    <tr>\n      <th>(1, 1, 1, 1, 2, 10, 7)</th>\n      <td>0.691488</td>\n      <td>0.661675</td>\n      <td>0.733483</td>\n      <td>0.197723</td>\n      <td>0.621944</td>\n      <td>0.472465</td>\n      <td>0.497875</td>\n      <td>0.090230</td>\n      <td>0.398815</td>\n      <td>0.634405</td>\n      <td>...</td>\n      <td>0.336001</td>\n      <td>0.363567</td>\n      <td>0.517711</td>\n      <td>0.164440</td>\n      <td>0.612748</td>\n      <td>0.226340</td>\n      <td>0.394393</td>\n      <td>0.420499</td>\n      <td>0.314481</td>\n      <td>0.111360</td>\n    </tr>\n    <tr>\n      <th>(1, 1, 1, 1, 2, 10, 8)</th>\n      <td>0.715687</td>\n      <td>0.674880</td>\n      <td>0.741716</td>\n      <td>0.215137</td>\n      <td>0.631543</td>\n      <td>0.482631</td>\n      <td>0.490229</td>\n      <td>0.099368</td>\n      <td>0.403756</td>\n      <td>0.633061</td>\n      <td>...</td>\n      <td>0.357727</td>\n      <td>0.359241</td>\n      <td>0.522312</td>\n      <td>0.179270</td>\n      <td>0.615008</td>\n      <td>0.242573</td>\n      <td>0.401003</td>\n      <td>0.427756</td>\n      <td>0.340031</td>\n      <td>0.122375</td>\n    </tr>\n    <tr>\n      <th>(1, 1, 1, 1, 2, 10, 9)</th>\n      <td>0.736713</td>\n      <td>0.685609</td>\n      <td>0.747565</td>\n      <td>0.231052</td>\n      <td>0.638973</td>\n      <td>0.490986</td>\n      <td>0.481710</td>\n      <td>0.107755</td>\n      <td>0.407374</td>\n      <td>0.630132</td>\n      <td>...</td>\n      <td>0.377349</td>\n      <td>0.354206</td>\n      <td>0.525299</td>\n      <td>0.192834</td>\n      <td>0.615536</td>\n      <td>0.257300</td>\n      <td>0.406208</td>\n      <td>0.433503</td>\n      <td>0.363318</td>\n      <td>0.132479</td>\n    </tr>\n    <tr>\n      <th>(1, 1, 1, 1, 2, 10, 10)</th>\n      <td>0.754822</td>\n      <td>0.694127</td>\n      <td>0.751337</td>\n      <td>0.245521</td>\n      <td>0.644489</td>\n      <td>0.497721</td>\n      <td>0.472553</td>\n      <td>0.115412</td>\n      <td>0.409836</td>\n      <td>0.625901</td>\n      <td>...</td>\n      <td>0.394972</td>\n      <td>0.348633</td>\n      <td>0.526891</td>\n      <td>0.205175</td>\n      <td>0.614599</td>\n      <td>0.270587</td>\n      <td>0.410169</td>\n      <td>0.437911</td>\n      <td>0.384431</td>\n      <td>0.141697</td>\n    </tr>\n  </tbody>\n</table>\n<p>5445 rows × 10000 columns</p>\n</div>"
     },
     "execution_count": 13,
     "metadata": {},
     "output_type": "execute_result"
    }
   ],
   "source": [
    "similarities = cosine_similarity(combinations_embeddings.values, recipes_embeddings.values)\n",
    "similarities_df = pd.DataFrame(similarities, index=combinations_embeddings.index, columns=recipes_embeddings.index)\n",
    "similarities_df"
   ],
   "metadata": {
    "collapsed": false,
    "pycharm": {
     "name": "#%%\n"
    }
   }
  },
  {
   "cell_type": "markdown",
   "source": [
    "## Save"
   ],
   "metadata": {
    "collapsed": false,
    "pycharm": {
     "name": "#%% md\n"
    }
   }
  },
  {
   "cell_type": "code",
   "execution_count": 15,
   "outputs": [],
   "source": [
    "pkl.dump(similarities_df, open(f'{path2root}/data/comb_recipe_similarities.pkl', 'wb'))"
   ],
   "metadata": {
    "collapsed": false,
    "pycharm": {
     "name": "#%%\n"
    }
   }
  },
  {
   "cell_type": "code",
   "execution_count": null,
   "outputs": [],
   "source": [],
   "metadata": {
    "collapsed": false,
    "pycharm": {
     "name": "#%%\n"
    }
   }
  }
 ],
 "metadata": {
  "kernelspec": {
   "display_name": "Python 3",
   "language": "python",
   "name": "python3"
  },
  "language_info": {
   "codemirror_mode": {
    "name": "ipython",
    "version": 2
   },
   "file_extension": ".py",
   "mimetype": "text/x-python",
   "name": "python",
   "nbconvert_exporter": "python",
   "pygments_lexer": "ipython2",
   "version": "2.7.6"
  }
 },
 "nbformat": 4,
 "nbformat_minor": 0
}