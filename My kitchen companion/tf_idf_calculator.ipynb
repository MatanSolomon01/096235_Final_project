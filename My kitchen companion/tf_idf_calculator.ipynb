{
 "cells": [
  {
   "cell_type": "markdown",
   "metadata": {
    "collapsed": true,
    "pycharm": {
     "name": "#%% md\n"
    }
   },
   "source": [
    "# tf-idf Calculator"
   ]
  },
  {
   "cell_type": "code",
   "execution_count": 13,
   "outputs": [],
   "source": [
    "import pandas as pd\n",
    "from sklearn.feature_extraction.text import TfidfVectorizer\n",
    "import pickle as pkl\n",
    "from sklearn.metrics.pairwise import cosine_similarity\n",
    "from scipy import sparse\n",
    "path2root = '.'"
   ],
   "metadata": {
    "collapsed": false,
    "pycharm": {
     "name": "#%%\n"
    }
   }
  },
  {
   "cell_type": "markdown",
   "source": [
    "## load data"
   ],
   "metadata": {
    "collapsed": false,
    "pycharm": {
     "name": "#%% md\n"
    }
   }
  },
  {
   "cell_type": "code",
   "execution_count": 9,
   "outputs": [],
   "source": [
    "data_df = pkl.load(open(f'{path2root}/data/data_df_filtered.pkl', 'rb'))"
   ],
   "metadata": {
    "collapsed": false,
    "pycharm": {
     "name": "#%%\n"
    }
   }
  },
  {
   "cell_type": "code",
   "execution_count": 10,
   "outputs": [
    {
     "data": {
      "text/plain": "                                        title_1  \\\na0c10a8a8e           Red White & Blue Refresher   \n6c7d70b7eb         Green Bean Tex-Mex Casserole   \n60d587b26b       Peach Pie Without Crust Recipe   \n7e41c984d6  Cinnamon and Raisin Granola Cookies   \n419438a7cf               Cheesy Chicken Chowder   \n...                                         ...   \n174be11c63                Autumn Oat Favourites   \n3bac2c373a                       Glazed Chicken   \n1724848bd1                Polenta with Broccoli   \n1edd0ac635                      Sausage Gravy I   \nda991dd46a               Almond Butter Frosting   \n\n                                                ingredients_1  \\\na0c10a8a8e  [pineapple, raw, all varieties, strawberries, ...   \n6c7d70b7eb  [beans, snap, green, raw, sauce, salsa, ready-...   \n60d587b26b  [wheat flour, white, all-purpose, unenriched, ...   \n7e41c984d6  [applesauce, canned, unsweetened, without adde...   \n419438a7cf  [soup, chicken broth or bouillon, dry, potatoe...   \n...                                                       ...   \n174be11c63  [butter, without salt, sugars, brown, syrups, ...   \n3bac2c373a  [chicken, broiler or fryers, breast, skinless,...   \n1724848bd1  [water, bottled, generic, broccoli, raw, salt,...   \n1edd0ac635  [pork, fresh, loin, tenderloin, separable lean...   \nda991dd46a  [butter, without salt, nuts, almonds, vanilla ...   \n\n                                                ingredients_2  \\\na0c10a8a8e  [pineapple sherbet, strawberries, blueberries,...   \n6c7d70b7eb  [frozen green beans, salsa, tortilla chips, ch...   \n60d587b26b     [flour, sugar, salt, cinnamon, nutmeg, butter]   \n7e41c984d6  [unsweetened applesauce, maple syrup, vanilla ...   \n419438a7cf  [chicken broth, potatoes, celery, salt, carrot...   \n...                                                       ...   \n174be11c63  [unsalted butter, light brown sugar, golden sy...   \n3bac2c373a  [chicken breasts, salt, ground pepper, olive o...   \n1724848bd1  [water, broccoli florets, salt, cornmeal, marg...   \n1edd0ac635  [pork sausage, bacon grease, all - purpose flo...   \nda991dd46a  [butter, almond butter, vanilla extract, molas...   \n\n                                                ingredients_3  \\\na0c10a8a8e  [1 quart pineapple sherbet (may substitute lem...   \n6c7d70b7eb  [3 cups frozen green beans (or fresh), 12 cup ...   \n60d587b26b  [1 1/4 c. flour, 1/2 c. sugar, 1/2 teaspoon sa...   \n7e41c984d6  [1/2 cups Unsweetened Applesauce, 2 Tablespoon...   \n419438a7cf  [3 cups chicken broth, 2 cups diced potatoes, ...   \n...                                                       ...   \n174be11c63  [12 cup unsalted butter, plus additional for t...   \n3bac2c373a  [16 ounces chicken breasts (four 4-oz pieces),...   \n1724848bd1  [6-1/2 cup water, 1 cup broccoli florets, 1 ts...   \n1edd0ac635  [1 pound ground pork sausage, 3 tablespoons ba...   \nda991dd46a  [12 cup butter, 13 cup almond butter, 1 teaspo...   \n\n                                               instructions_1  \\\na0c10a8a8e  [Divide the sherbert between four dessert cups...   \n6c7d70b7eb  [Heat oven to 375F., Thaw green beans if froze...   \n60d587b26b  [Mix dry ingredients., Cut in butter with blen...   \n7e41c984d6  [Preheat oven to 350 degrees F. Line baking sh...   \n419438a7cf  [Bring chicken broth to a boil., Add potatoes,...   \n...                                                       ...   \n174be11c63  [Preheat the oven to 325F Grease two baking sh...   \n3bac2c373a  [Season both sides of chicken with salt and pe...   \n1724848bd1  [Bring water to a boil in a large stockpot., A...   \n1edd0ac635  [Brown sausage in a large skillet over medium-...   \nda991dd46a  [whip butter until fluffy., add almond butter ...   \n\n                                               instructions_3      energy  \\\na0c10a8a8e  [Divide the sherbert between four dessert cups...   59.840909   \n6c7d70b7eb  [Heat oven to 375F., Thaw green beans if froze...  179.872047   \n60d587b26b  [Mix dry ingredients., Cut in butter with blen...  445.083424   \n7e41c984d6  [Preheat oven to 350 degrees F. Line baking sh...  288.809393   \n419438a7cf  [Bring chicken broth to a boil., Add potatoes,...  373.112046   \n...                                                       ...         ...   \n174be11c63  [Preheat the oven to 325F Grease two baking sh...  535.182696   \n3bac2c373a  [Season both sides of chicken with salt and pe...  130.103798   \n1724848bd1  [Bring water to a boil in a large stockpot., A...   70.605479   \n1edd0ac635  [Brown sausage in a large skillet over medium-...   80.093728   \nda991dd46a  [whip butter until fluffy., add almond butter ...  652.339954   \n\n                  fat    protein       salt  saturates     sugars  \na0c10a8a8e   0.227727   0.701364   0.003295   0.035432  12.039773  \n6c7d70b7eb  10.646654   7.977854   1.607530   5.269193   2.617126  \n60d587b26b  18.716310   4.993583   0.870520  11.439752  29.939530  \n7e41c984d6   1.096130   3.704287   0.165925   0.263158   0.473074  \n419438a7cf  31.399977   5.082541   2.227225   6.364711   1.981984  \n...               ...        ...        ...        ...        ...  \n174be11c63  36.288458   6.201449   0.043953  27.267494  12.855228  \n3bac2c373a   3.531694  17.078733  11.262382   0.694414   3.585407  \n1724848bd1   1.453553   1.259982   0.306909   0.254675   0.334075  \n1edd0ac635   2.024068  10.111346   0.424884   0.729954   3.058921  \nda991dd46a  66.153316   8.767500   0.021178  30.487589   4.956548  \n\n[10000 rows x 12 columns]",
      "text/html": "<div>\n<style scoped>\n    .dataframe tbody tr th:only-of-type {\n        vertical-align: middle;\n    }\n\n    .dataframe tbody tr th {\n        vertical-align: top;\n    }\n\n    .dataframe thead th {\n        text-align: right;\n    }\n</style>\n<table border=\"1\" class=\"dataframe\">\n  <thead>\n    <tr style=\"text-align: right;\">\n      <th></th>\n      <th>title_1</th>\n      <th>ingredients_1</th>\n      <th>ingredients_2</th>\n      <th>ingredients_3</th>\n      <th>instructions_1</th>\n      <th>instructions_3</th>\n      <th>energy</th>\n      <th>fat</th>\n      <th>protein</th>\n      <th>salt</th>\n      <th>saturates</th>\n      <th>sugars</th>\n    </tr>\n  </thead>\n  <tbody>\n    <tr>\n      <th>a0c10a8a8e</th>\n      <td>Red White &amp; Blue Refresher</td>\n      <td>[pineapple, raw, all varieties, strawberries, ...</td>\n      <td>[pineapple sherbet, strawberries, blueberries,...</td>\n      <td>[1 quart pineapple sherbet (may substitute lem...</td>\n      <td>[Divide the sherbert between four dessert cups...</td>\n      <td>[Divide the sherbert between four dessert cups...</td>\n      <td>59.840909</td>\n      <td>0.227727</td>\n      <td>0.701364</td>\n      <td>0.003295</td>\n      <td>0.035432</td>\n      <td>12.039773</td>\n    </tr>\n    <tr>\n      <th>6c7d70b7eb</th>\n      <td>Green Bean Tex-Mex Casserole</td>\n      <td>[beans, snap, green, raw, sauce, salsa, ready-...</td>\n      <td>[frozen green beans, salsa, tortilla chips, ch...</td>\n      <td>[3 cups frozen green beans (or fresh), 12 cup ...</td>\n      <td>[Heat oven to 375F., Thaw green beans if froze...</td>\n      <td>[Heat oven to 375F., Thaw green beans if froze...</td>\n      <td>179.872047</td>\n      <td>10.646654</td>\n      <td>7.977854</td>\n      <td>1.607530</td>\n      <td>5.269193</td>\n      <td>2.617126</td>\n    </tr>\n    <tr>\n      <th>60d587b26b</th>\n      <td>Peach Pie Without Crust Recipe</td>\n      <td>[wheat flour, white, all-purpose, unenriched, ...</td>\n      <td>[flour, sugar, salt, cinnamon, nutmeg, butter]</td>\n      <td>[1 1/4 c. flour, 1/2 c. sugar, 1/2 teaspoon sa...</td>\n      <td>[Mix dry ingredients., Cut in butter with blen...</td>\n      <td>[Mix dry ingredients., Cut in butter with blen...</td>\n      <td>445.083424</td>\n      <td>18.716310</td>\n      <td>4.993583</td>\n      <td>0.870520</td>\n      <td>11.439752</td>\n      <td>29.939530</td>\n    </tr>\n    <tr>\n      <th>7e41c984d6</th>\n      <td>Cinnamon and Raisin Granola Cookies</td>\n      <td>[applesauce, canned, unsweetened, without adde...</td>\n      <td>[unsweetened applesauce, maple syrup, vanilla ...</td>\n      <td>[1/2 cups Unsweetened Applesauce, 2 Tablespoon...</td>\n      <td>[Preheat oven to 350 degrees F. Line baking sh...</td>\n      <td>[Preheat oven to 350 degrees F. Line baking sh...</td>\n      <td>288.809393</td>\n      <td>1.096130</td>\n      <td>3.704287</td>\n      <td>0.165925</td>\n      <td>0.263158</td>\n      <td>0.473074</td>\n    </tr>\n    <tr>\n      <th>419438a7cf</th>\n      <td>Cheesy Chicken Chowder</td>\n      <td>[soup, chicken broth or bouillon, dry, potatoe...</td>\n      <td>[chicken broth, potatoes, celery, salt, carrot...</td>\n      <td>[3 cups chicken broth, 2 cups diced potatoes, ...</td>\n      <td>[Bring chicken broth to a boil., Add potatoes,...</td>\n      <td>[Bring chicken broth to a boil., Add potatoes,...</td>\n      <td>373.112046</td>\n      <td>31.399977</td>\n      <td>5.082541</td>\n      <td>2.227225</td>\n      <td>6.364711</td>\n      <td>1.981984</td>\n    </tr>\n    <tr>\n      <th>...</th>\n      <td>...</td>\n      <td>...</td>\n      <td>...</td>\n      <td>...</td>\n      <td>...</td>\n      <td>...</td>\n      <td>...</td>\n      <td>...</td>\n      <td>...</td>\n      <td>...</td>\n      <td>...</td>\n      <td>...</td>\n    </tr>\n    <tr>\n      <th>174be11c63</th>\n      <td>Autumn Oat Favourites</td>\n      <td>[butter, without salt, sugars, brown, syrups, ...</td>\n      <td>[unsalted butter, light brown sugar, golden sy...</td>\n      <td>[12 cup unsalted butter, plus additional for t...</td>\n      <td>[Preheat the oven to 325F Grease two baking sh...</td>\n      <td>[Preheat the oven to 325F Grease two baking sh...</td>\n      <td>535.182696</td>\n      <td>36.288458</td>\n      <td>6.201449</td>\n      <td>0.043953</td>\n      <td>27.267494</td>\n      <td>12.855228</td>\n    </tr>\n    <tr>\n      <th>3bac2c373a</th>\n      <td>Glazed Chicken</td>\n      <td>[chicken, broiler or fryers, breast, skinless,...</td>\n      <td>[chicken breasts, salt, ground pepper, olive o...</td>\n      <td>[16 ounces chicken breasts (four 4-oz pieces),...</td>\n      <td>[Season both sides of chicken with salt and pe...</td>\n      <td>[Season both sides of chicken with salt and pe...</td>\n      <td>130.103798</td>\n      <td>3.531694</td>\n      <td>17.078733</td>\n      <td>11.262382</td>\n      <td>0.694414</td>\n      <td>3.585407</td>\n    </tr>\n    <tr>\n      <th>1724848bd1</th>\n      <td>Polenta with Broccoli</td>\n      <td>[water, bottled, generic, broccoli, raw, salt,...</td>\n      <td>[water, broccoli florets, salt, cornmeal, marg...</td>\n      <td>[6-1/2 cup water, 1 cup broccoli florets, 1 ts...</td>\n      <td>[Bring water to a boil in a large stockpot., A...</td>\n      <td>[Bring water to a boil in a large stockpot., A...</td>\n      <td>70.605479</td>\n      <td>1.453553</td>\n      <td>1.259982</td>\n      <td>0.306909</td>\n      <td>0.254675</td>\n      <td>0.334075</td>\n    </tr>\n    <tr>\n      <th>1edd0ac635</th>\n      <td>Sausage Gravy I</td>\n      <td>[pork, fresh, loin, tenderloin, separable lean...</td>\n      <td>[pork sausage, bacon grease, all - purpose flo...</td>\n      <td>[1 pound ground pork sausage, 3 tablespoons ba...</td>\n      <td>[Brown sausage in a large skillet over medium-...</td>\n      <td>[Brown sausage in a large skillet over medium-...</td>\n      <td>80.093728</td>\n      <td>2.024068</td>\n      <td>10.111346</td>\n      <td>0.424884</td>\n      <td>0.729954</td>\n      <td>3.058921</td>\n    </tr>\n    <tr>\n      <th>da991dd46a</th>\n      <td>Almond Butter Frosting</td>\n      <td>[butter, without salt, nuts, almonds, vanilla ...</td>\n      <td>[butter, almond butter, vanilla extract, molas...</td>\n      <td>[12 cup butter, 13 cup almond butter, 1 teaspo...</td>\n      <td>[whip butter until fluffy., add almond butter ...</td>\n      <td>[whip butter until fluffy., add almond butter ...</td>\n      <td>652.339954</td>\n      <td>66.153316</td>\n      <td>8.767500</td>\n      <td>0.021178</td>\n      <td>30.487589</td>\n      <td>4.956548</td>\n    </tr>\n  </tbody>\n</table>\n<p>10000 rows × 12 columns</p>\n</div>"
     },
     "execution_count": 10,
     "metadata": {},
     "output_type": "execute_result"
    }
   ],
   "source": [
    "data_df"
   ],
   "metadata": {
    "collapsed": false,
    "pycharm": {
     "name": "#%%\n"
    }
   }
  },
  {
   "cell_type": "markdown",
   "source": [
    "## Add text column"
   ],
   "metadata": {
    "collapsed": false,
    "pycharm": {
     "name": "#%% md\n"
    }
   }
  },
  {
   "cell_type": "code",
   "execution_count": 11,
   "outputs": [
    {
     "data": {
      "text/plain": "                                        title_1  \\\na0c10a8a8e           Red White & Blue Refresher   \n6c7d70b7eb         Green Bean Tex-Mex Casserole   \n60d587b26b       Peach Pie Without Crust Recipe   \n7e41c984d6  Cinnamon and Raisin Granola Cookies   \n419438a7cf               Cheesy Chicken Chowder   \n...                                         ...   \n174be11c63                Autumn Oat Favourites   \n3bac2c373a                       Glazed Chicken   \n1724848bd1                Polenta with Broccoli   \n1edd0ac635                      Sausage Gravy I   \nda991dd46a               Almond Butter Frosting   \n\n                                                ingredients_1  \\\na0c10a8a8e  [pineapple, raw, all varieties, strawberries, ...   \n6c7d70b7eb  [beans, snap, green, raw, sauce, salsa, ready-...   \n60d587b26b  [wheat flour, white, all-purpose, unenriched, ...   \n7e41c984d6  [applesauce, canned, unsweetened, without adde...   \n419438a7cf  [soup, chicken broth or bouillon, dry, potatoe...   \n...                                                       ...   \n174be11c63  [butter, without salt, sugars, brown, syrups, ...   \n3bac2c373a  [chicken, broiler or fryers, breast, skinless,...   \n1724848bd1  [water, bottled, generic, broccoli, raw, salt,...   \n1edd0ac635  [pork, fresh, loin, tenderloin, separable lean...   \nda991dd46a  [butter, without salt, nuts, almonds, vanilla ...   \n\n                                                ingredients_2  \\\na0c10a8a8e  [pineapple sherbet, strawberries, blueberries,...   \n6c7d70b7eb  [frozen green beans, salsa, tortilla chips, ch...   \n60d587b26b     [flour, sugar, salt, cinnamon, nutmeg, butter]   \n7e41c984d6  [unsweetened applesauce, maple syrup, vanilla ...   \n419438a7cf  [chicken broth, potatoes, celery, salt, carrot...   \n...                                                       ...   \n174be11c63  [unsalted butter, light brown sugar, golden sy...   \n3bac2c373a  [chicken breasts, salt, ground pepper, olive o...   \n1724848bd1  [water, broccoli florets, salt, cornmeal, marg...   \n1edd0ac635  [pork sausage, bacon grease, all - purpose flo...   \nda991dd46a  [butter, almond butter, vanilla extract, molas...   \n\n                                                ingredients_3  \\\na0c10a8a8e  [1 quart pineapple sherbet (may substitute lem...   \n6c7d70b7eb  [3 cups frozen green beans (or fresh), 12 cup ...   \n60d587b26b  [1 1/4 c. flour, 1/2 c. sugar, 1/2 teaspoon sa...   \n7e41c984d6  [1/2 cups Unsweetened Applesauce, 2 Tablespoon...   \n419438a7cf  [3 cups chicken broth, 2 cups diced potatoes, ...   \n...                                                       ...   \n174be11c63  [12 cup unsalted butter, plus additional for t...   \n3bac2c373a  [16 ounces chicken breasts (four 4-oz pieces),...   \n1724848bd1  [6-1/2 cup water, 1 cup broccoli florets, 1 ts...   \n1edd0ac635  [1 pound ground pork sausage, 3 tablespoons ba...   \nda991dd46a  [12 cup butter, 13 cup almond butter, 1 teaspo...   \n\n                                               instructions_1  \\\na0c10a8a8e  [Divide the sherbert between four dessert cups...   \n6c7d70b7eb  [Heat oven to 375F., Thaw green beans if froze...   \n60d587b26b  [Mix dry ingredients., Cut in butter with blen...   \n7e41c984d6  [Preheat oven to 350 degrees F. Line baking sh...   \n419438a7cf  [Bring chicken broth to a boil., Add potatoes,...   \n...                                                       ...   \n174be11c63  [Preheat the oven to 325F Grease two baking sh...   \n3bac2c373a  [Season both sides of chicken with salt and pe...   \n1724848bd1  [Bring water to a boil in a large stockpot., A...   \n1edd0ac635  [Brown sausage in a large skillet over medium-...   \nda991dd46a  [whip butter until fluffy., add almond butter ...   \n\n                                               instructions_3      energy  \\\na0c10a8a8e  [Divide the sherbert between four dessert cups...   59.840909   \n6c7d70b7eb  [Heat oven to 375F., Thaw green beans if froze...  179.872047   \n60d587b26b  [Mix dry ingredients., Cut in butter with blen...  445.083424   \n7e41c984d6  [Preheat oven to 350 degrees F. Line baking sh...  288.809393   \n419438a7cf  [Bring chicken broth to a boil., Add potatoes,...  373.112046   \n...                                                       ...         ...   \n174be11c63  [Preheat the oven to 325F Grease two baking sh...  535.182696   \n3bac2c373a  [Season both sides of chicken with salt and pe...  130.103798   \n1724848bd1  [Bring water to a boil in a large stockpot., A...   70.605479   \n1edd0ac635  [Brown sausage in a large skillet over medium-...   80.093728   \nda991dd46a  [whip butter until fluffy., add almond butter ...  652.339954   \n\n                  fat    protein       salt  saturates     sugars  \\\na0c10a8a8e   0.227727   0.701364   0.003295   0.035432  12.039773   \n6c7d70b7eb  10.646654   7.977854   1.607530   5.269193   2.617126   \n60d587b26b  18.716310   4.993583   0.870520  11.439752  29.939530   \n7e41c984d6   1.096130   3.704287   0.165925   0.263158   0.473074   \n419438a7cf  31.399977   5.082541   2.227225   6.364711   1.981984   \n...               ...        ...        ...        ...        ...   \n174be11c63  36.288458   6.201449   0.043953  27.267494  12.855228   \n3bac2c373a   3.531694  17.078733  11.262382   0.694414   3.585407   \n1724848bd1   1.453553   1.259982   0.306909   0.254675   0.334075   \n1edd0ac635   2.024068  10.111346   0.424884   0.729954   3.058921   \nda991dd46a  66.153316   8.767500   0.021178  30.487589   4.956548   \n\n                                                         text  \na0c10a8a8e  Red White & Blue Refresher\\n1 quart pineapple ...  \n6c7d70b7eb  Green Bean Tex-Mex Casserole\\n3 cups frozen gr...  \n60d587b26b  Peach Pie Without Crust Recipe\\n1 1/4 c. flour...  \n7e41c984d6  Cinnamon and Raisin Granola Cookies\\n1/2 cups ...  \n419438a7cf  Cheesy Chicken Chowder\\n3 cups chicken broth; ...  \n...                                                       ...  \n174be11c63  Autumn Oat Favourites\\n12 cup unsalted butter,...  \n3bac2c373a  Glazed Chicken\\n16 ounces chicken breasts (fou...  \n1724848bd1  Polenta with Broccoli\\n6-1/2 cup water; 1 cup ...  \n1edd0ac635  Sausage Gravy I\\n1 pound ground pork sausage; ...  \nda991dd46a  Almond Butter Frosting\\n12 cup butter; 13 cup ...  \n\n[10000 rows x 13 columns]",
      "text/html": "<div>\n<style scoped>\n    .dataframe tbody tr th:only-of-type {\n        vertical-align: middle;\n    }\n\n    .dataframe tbody tr th {\n        vertical-align: top;\n    }\n\n    .dataframe thead th {\n        text-align: right;\n    }\n</style>\n<table border=\"1\" class=\"dataframe\">\n  <thead>\n    <tr style=\"text-align: right;\">\n      <th></th>\n      <th>title_1</th>\n      <th>ingredients_1</th>\n      <th>ingredients_2</th>\n      <th>ingredients_3</th>\n      <th>instructions_1</th>\n      <th>instructions_3</th>\n      <th>energy</th>\n      <th>fat</th>\n      <th>protein</th>\n      <th>salt</th>\n      <th>saturates</th>\n      <th>sugars</th>\n      <th>text</th>\n    </tr>\n  </thead>\n  <tbody>\n    <tr>\n      <th>a0c10a8a8e</th>\n      <td>Red White &amp; Blue Refresher</td>\n      <td>[pineapple, raw, all varieties, strawberries, ...</td>\n      <td>[pineapple sherbet, strawberries, blueberries,...</td>\n      <td>[1 quart pineapple sherbet (may substitute lem...</td>\n      <td>[Divide the sherbert between four dessert cups...</td>\n      <td>[Divide the sherbert between four dessert cups...</td>\n      <td>59.840909</td>\n      <td>0.227727</td>\n      <td>0.701364</td>\n      <td>0.003295</td>\n      <td>0.035432</td>\n      <td>12.039773</td>\n      <td>Red White &amp; Blue Refresher\\n1 quart pineapple ...</td>\n    </tr>\n    <tr>\n      <th>6c7d70b7eb</th>\n      <td>Green Bean Tex-Mex Casserole</td>\n      <td>[beans, snap, green, raw, sauce, salsa, ready-...</td>\n      <td>[frozen green beans, salsa, tortilla chips, ch...</td>\n      <td>[3 cups frozen green beans (or fresh), 12 cup ...</td>\n      <td>[Heat oven to 375F., Thaw green beans if froze...</td>\n      <td>[Heat oven to 375F., Thaw green beans if froze...</td>\n      <td>179.872047</td>\n      <td>10.646654</td>\n      <td>7.977854</td>\n      <td>1.607530</td>\n      <td>5.269193</td>\n      <td>2.617126</td>\n      <td>Green Bean Tex-Mex Casserole\\n3 cups frozen gr...</td>\n    </tr>\n    <tr>\n      <th>60d587b26b</th>\n      <td>Peach Pie Without Crust Recipe</td>\n      <td>[wheat flour, white, all-purpose, unenriched, ...</td>\n      <td>[flour, sugar, salt, cinnamon, nutmeg, butter]</td>\n      <td>[1 1/4 c. flour, 1/2 c. sugar, 1/2 teaspoon sa...</td>\n      <td>[Mix dry ingredients., Cut in butter with blen...</td>\n      <td>[Mix dry ingredients., Cut in butter with blen...</td>\n      <td>445.083424</td>\n      <td>18.716310</td>\n      <td>4.993583</td>\n      <td>0.870520</td>\n      <td>11.439752</td>\n      <td>29.939530</td>\n      <td>Peach Pie Without Crust Recipe\\n1 1/4 c. flour...</td>\n    </tr>\n    <tr>\n      <th>7e41c984d6</th>\n      <td>Cinnamon and Raisin Granola Cookies</td>\n      <td>[applesauce, canned, unsweetened, without adde...</td>\n      <td>[unsweetened applesauce, maple syrup, vanilla ...</td>\n      <td>[1/2 cups Unsweetened Applesauce, 2 Tablespoon...</td>\n      <td>[Preheat oven to 350 degrees F. Line baking sh...</td>\n      <td>[Preheat oven to 350 degrees F. Line baking sh...</td>\n      <td>288.809393</td>\n      <td>1.096130</td>\n      <td>3.704287</td>\n      <td>0.165925</td>\n      <td>0.263158</td>\n      <td>0.473074</td>\n      <td>Cinnamon and Raisin Granola Cookies\\n1/2 cups ...</td>\n    </tr>\n    <tr>\n      <th>419438a7cf</th>\n      <td>Cheesy Chicken Chowder</td>\n      <td>[soup, chicken broth or bouillon, dry, potatoe...</td>\n      <td>[chicken broth, potatoes, celery, salt, carrot...</td>\n      <td>[3 cups chicken broth, 2 cups diced potatoes, ...</td>\n      <td>[Bring chicken broth to a boil., Add potatoes,...</td>\n      <td>[Bring chicken broth to a boil., Add potatoes,...</td>\n      <td>373.112046</td>\n      <td>31.399977</td>\n      <td>5.082541</td>\n      <td>2.227225</td>\n      <td>6.364711</td>\n      <td>1.981984</td>\n      <td>Cheesy Chicken Chowder\\n3 cups chicken broth; ...</td>\n    </tr>\n    <tr>\n      <th>...</th>\n      <td>...</td>\n      <td>...</td>\n      <td>...</td>\n      <td>...</td>\n      <td>...</td>\n      <td>...</td>\n      <td>...</td>\n      <td>...</td>\n      <td>...</td>\n      <td>...</td>\n      <td>...</td>\n      <td>...</td>\n      <td>...</td>\n    </tr>\n    <tr>\n      <th>174be11c63</th>\n      <td>Autumn Oat Favourites</td>\n      <td>[butter, without salt, sugars, brown, syrups, ...</td>\n      <td>[unsalted butter, light brown sugar, golden sy...</td>\n      <td>[12 cup unsalted butter, plus additional for t...</td>\n      <td>[Preheat the oven to 325F Grease two baking sh...</td>\n      <td>[Preheat the oven to 325F Grease two baking sh...</td>\n      <td>535.182696</td>\n      <td>36.288458</td>\n      <td>6.201449</td>\n      <td>0.043953</td>\n      <td>27.267494</td>\n      <td>12.855228</td>\n      <td>Autumn Oat Favourites\\n12 cup unsalted butter,...</td>\n    </tr>\n    <tr>\n      <th>3bac2c373a</th>\n      <td>Glazed Chicken</td>\n      <td>[chicken, broiler or fryers, breast, skinless,...</td>\n      <td>[chicken breasts, salt, ground pepper, olive o...</td>\n      <td>[16 ounces chicken breasts (four 4-oz pieces),...</td>\n      <td>[Season both sides of chicken with salt and pe...</td>\n      <td>[Season both sides of chicken with salt and pe...</td>\n      <td>130.103798</td>\n      <td>3.531694</td>\n      <td>17.078733</td>\n      <td>11.262382</td>\n      <td>0.694414</td>\n      <td>3.585407</td>\n      <td>Glazed Chicken\\n16 ounces chicken breasts (fou...</td>\n    </tr>\n    <tr>\n      <th>1724848bd1</th>\n      <td>Polenta with Broccoli</td>\n      <td>[water, bottled, generic, broccoli, raw, salt,...</td>\n      <td>[water, broccoli florets, salt, cornmeal, marg...</td>\n      <td>[6-1/2 cup water, 1 cup broccoli florets, 1 ts...</td>\n      <td>[Bring water to a boil in a large stockpot., A...</td>\n      <td>[Bring water to a boil in a large stockpot., A...</td>\n      <td>70.605479</td>\n      <td>1.453553</td>\n      <td>1.259982</td>\n      <td>0.306909</td>\n      <td>0.254675</td>\n      <td>0.334075</td>\n      <td>Polenta with Broccoli\\n6-1/2 cup water; 1 cup ...</td>\n    </tr>\n    <tr>\n      <th>1edd0ac635</th>\n      <td>Sausage Gravy I</td>\n      <td>[pork, fresh, loin, tenderloin, separable lean...</td>\n      <td>[pork sausage, bacon grease, all - purpose flo...</td>\n      <td>[1 pound ground pork sausage, 3 tablespoons ba...</td>\n      <td>[Brown sausage in a large skillet over medium-...</td>\n      <td>[Brown sausage in a large skillet over medium-...</td>\n      <td>80.093728</td>\n      <td>2.024068</td>\n      <td>10.111346</td>\n      <td>0.424884</td>\n      <td>0.729954</td>\n      <td>3.058921</td>\n      <td>Sausage Gravy I\\n1 pound ground pork sausage; ...</td>\n    </tr>\n    <tr>\n      <th>da991dd46a</th>\n      <td>Almond Butter Frosting</td>\n      <td>[butter, without salt, nuts, almonds, vanilla ...</td>\n      <td>[butter, almond butter, vanilla extract, molas...</td>\n      <td>[12 cup butter, 13 cup almond butter, 1 teaspo...</td>\n      <td>[whip butter until fluffy., add almond butter ...</td>\n      <td>[whip butter until fluffy., add almond butter ...</td>\n      <td>652.339954</td>\n      <td>66.153316</td>\n      <td>8.767500</td>\n      <td>0.021178</td>\n      <td>30.487589</td>\n      <td>4.956548</td>\n      <td>Almond Butter Frosting\\n12 cup butter; 13 cup ...</td>\n    </tr>\n  </tbody>\n</table>\n<p>10000 rows × 13 columns</p>\n</div>"
     },
     "execution_count": 11,
     "metadata": {},
     "output_type": "execute_result"
    }
   ],
   "source": [
    "f = lambda x: f\"\"\"{x['title_1']}\\n{\"; \".join(x['ingredients_3'])}\\n{\"; \".join(x['instructions_3'])}\"\"\"\n",
    "data_df['text'] = data_df.apply(f, axis=1)\n",
    "data_df"
   ],
   "metadata": {
    "collapsed": false,
    "pycharm": {
     "name": "#%%\n"
    }
   }
  },
  {
   "cell_type": "markdown",
   "source": [
    "## tf-idf vectorization"
   ],
   "metadata": {
    "collapsed": false,
    "pycharm": {
     "name": "#%% md\n"
    }
   }
  },
  {
   "cell_type": "code",
   "execution_count": 12,
   "outputs": [
    {
     "data": {
      "text/plain": "array(['00', '04', '05', ..., 'zucchinni', 'zydeco', 'zylitol'],\n      dtype=object)"
     },
     "execution_count": 12,
     "metadata": {},
     "output_type": "execute_result"
    }
   ],
   "source": [
    "vectorizer = TfidfVectorizer(stop_words='english')\n",
    "tf_idfs = vectorizer.fit_transform(data_df['text'].values)\n",
    "vectorizer.get_feature_names_out()"
   ],
   "metadata": {
    "collapsed": false,
    "pycharm": {
     "name": "#%%\n"
    }
   }
  },
  {
   "cell_type": "markdown",
   "source": [
    "## Calc similarities"
   ],
   "metadata": {
    "collapsed": false,
    "pycharm": {
     "name": "#%% md\n"
    }
   }
  },
  {
   "cell_type": "code",
   "execution_count": 15,
   "outputs": [
    {
     "data": {
      "text/plain": "array([[1.        , 0.03541263, 0.02621738, ..., 0.01229037, 0.00586341,\n        0.02157534],\n       [0.03541263, 1.        , 0.00700124, ..., 0.02154632, 0.01459842,\n        0.02931193],\n       [0.02621738, 0.00700124, 1.        , ..., 0.02702681, 0.03632465,\n        0.07460742],\n       ...,\n       [0.01229037, 0.02154632, 0.02702681, ..., 1.        , 0.0887568 ,\n        0.01686191],\n       [0.00586341, 0.01459842, 0.03632465, ..., 0.0887568 , 1.        ,\n        0.01272971],\n       [0.02157534, 0.02931193, 0.07460742, ..., 0.01686191, 0.01272971,\n        1.        ]])"
     },
     "execution_count": 15,
     "metadata": {},
     "output_type": "execute_result"
    }
   ],
   "source": [
    "tf_idfs = sparse.csr_matrix(tf_idfs)\n",
    "similarities = cosine_similarity(tf_idfs)\n",
    "similarities"
   ],
   "metadata": {
    "collapsed": false,
    "pycharm": {
     "name": "#%%\n"
    }
   }
  },
  {
   "cell_type": "code",
   "execution_count": 18,
   "outputs": [
    {
     "data": {
      "text/plain": "            a0c10a8a8e  6c7d70b7eb  60d587b26b  7e41c984d6  419438a7cf  \\\na0c10a8a8e    1.000000    0.035413    0.026217    0.014202    0.051022   \n6c7d70b7eb    0.035413    1.000000    0.007001    0.031480    0.076984   \n60d587b26b    0.026217    0.007001    1.000000    0.081927    0.017332   \n7e41c984d6    0.014202    0.031480    0.081927    1.000000    0.059339   \n419438a7cf    0.051022    0.076984    0.017332    0.059339    1.000000   \n...                ...         ...         ...         ...         ...   \n174be11c63    0.035567    0.061224    0.070115    0.319063    0.064855   \n3bac2c373a    0.005617    0.023737    0.039574    0.073876    0.261114   \n1724848bd1    0.012290    0.021546    0.027027    0.032556    0.090482   \n1edd0ac635    0.005863    0.014598    0.036325    0.051875    0.064953   \nda991dd46a    0.021575    0.029312    0.074607    0.092907    0.057464   \n\n            2130f4a93c  ee160b7ed1  172b582de2  1d85365954  0162a6bd5c  ...  \\\na0c10a8a8e    0.011517    0.005737    0.014152    0.031075    0.061042  ...   \n6c7d70b7eb    0.023355    0.039113    0.038409    0.028761    0.017359  ...   \n60d587b26b    0.207157    0.008605    0.043884    0.037566    0.096308  ...   \n7e41c984d6    0.184654    0.068163    0.102089    0.113964    0.027635  ...   \n419438a7cf    0.098044    0.033297    0.056125    0.075210    0.036086  ...   \n...                ...         ...         ...         ...         ...  ...   \n174be11c63    0.271727    0.050959    0.061205    0.095004    0.068147  ...   \n3bac2c373a    0.100486    0.178428    0.010146    0.232419    0.066510  ...   \n1724848bd1    0.060427    0.062096    0.018168    0.015272    0.060530  ...   \n1edd0ac635    0.142748    0.157363    0.026358    0.078139    0.030425  ...   \nda991dd46a    0.075584    0.025793    0.021612    0.011133    0.054884  ...   \n\n            d85f5e71bb  788c420ba7  05ea70e832  c0ca67aebe  045cbf155e  \\\na0c10a8a8e    0.007868    0.019565    0.029663    0.019063    0.057461   \n6c7d70b7eb    0.030560    0.034583    0.025012    0.018956    0.018739   \n60d587b26b    0.032897    0.057700    0.032771    0.031193    0.045485   \n7e41c984d6    0.038491    0.061879    0.065827    0.033855    0.049380   \n419438a7cf    0.024760    0.104892    0.055313    0.056337    0.057982   \n...                ...         ...         ...         ...         ...   \n174be11c63    0.074420    0.068578    0.024816    0.074241    0.053551   \n3bac2c373a    0.018859    0.169763    0.020962    0.095908    0.097255   \n1724848bd1    0.018287    0.032521    0.022854    0.106004    0.077359   \n1edd0ac635    0.036260    0.044222    0.017714    0.079828    0.058991   \nda991dd46a    0.056900    0.086641    0.049360    0.156308    0.028510   \n\n            174be11c63  3bac2c373a  1724848bd1  1edd0ac635  da991dd46a  \na0c10a8a8e    0.035567    0.005617    0.012290    0.005863    0.021575  \n6c7d70b7eb    0.061224    0.023737    0.021546    0.014598    0.029312  \n60d587b26b    0.070115    0.039574    0.027027    0.036325    0.074607  \n7e41c984d6    0.319063    0.073876    0.032556    0.051875    0.092907  \n419438a7cf    0.064855    0.261114    0.090482    0.064953    0.057464  \n...                ...         ...         ...         ...         ...  \n174be11c63    1.000000    0.064713    0.049665    0.107490    0.122026  \n3bac2c373a    0.064713    1.000000    0.061114    0.150152    0.017413  \n1724848bd1    0.049665    0.061114    1.000000    0.088757    0.016862  \n1edd0ac635    0.107490    0.150152    0.088757    1.000000    0.012730  \nda991dd46a    0.122026    0.017413    0.016862    0.012730    1.000000  \n\n[10000 rows x 10000 columns]",
      "text/html": "<div>\n<style scoped>\n    .dataframe tbody tr th:only-of-type {\n        vertical-align: middle;\n    }\n\n    .dataframe tbody tr th {\n        vertical-align: top;\n    }\n\n    .dataframe thead th {\n        text-align: right;\n    }\n</style>\n<table border=\"1\" class=\"dataframe\">\n  <thead>\n    <tr style=\"text-align: right;\">\n      <th></th>\n      <th>a0c10a8a8e</th>\n      <th>6c7d70b7eb</th>\n      <th>60d587b26b</th>\n      <th>7e41c984d6</th>\n      <th>419438a7cf</th>\n      <th>2130f4a93c</th>\n      <th>ee160b7ed1</th>\n      <th>172b582de2</th>\n      <th>1d85365954</th>\n      <th>0162a6bd5c</th>\n      <th>...</th>\n      <th>d85f5e71bb</th>\n      <th>788c420ba7</th>\n      <th>05ea70e832</th>\n      <th>c0ca67aebe</th>\n      <th>045cbf155e</th>\n      <th>174be11c63</th>\n      <th>3bac2c373a</th>\n      <th>1724848bd1</th>\n      <th>1edd0ac635</th>\n      <th>da991dd46a</th>\n    </tr>\n  </thead>\n  <tbody>\n    <tr>\n      <th>a0c10a8a8e</th>\n      <td>1.000000</td>\n      <td>0.035413</td>\n      <td>0.026217</td>\n      <td>0.014202</td>\n      <td>0.051022</td>\n      <td>0.011517</td>\n      <td>0.005737</td>\n      <td>0.014152</td>\n      <td>0.031075</td>\n      <td>0.061042</td>\n      <td>...</td>\n      <td>0.007868</td>\n      <td>0.019565</td>\n      <td>0.029663</td>\n      <td>0.019063</td>\n      <td>0.057461</td>\n      <td>0.035567</td>\n      <td>0.005617</td>\n      <td>0.012290</td>\n      <td>0.005863</td>\n      <td>0.021575</td>\n    </tr>\n    <tr>\n      <th>6c7d70b7eb</th>\n      <td>0.035413</td>\n      <td>1.000000</td>\n      <td>0.007001</td>\n      <td>0.031480</td>\n      <td>0.076984</td>\n      <td>0.023355</td>\n      <td>0.039113</td>\n      <td>0.038409</td>\n      <td>0.028761</td>\n      <td>0.017359</td>\n      <td>...</td>\n      <td>0.030560</td>\n      <td>0.034583</td>\n      <td>0.025012</td>\n      <td>0.018956</td>\n      <td>0.018739</td>\n      <td>0.061224</td>\n      <td>0.023737</td>\n      <td>0.021546</td>\n      <td>0.014598</td>\n      <td>0.029312</td>\n    </tr>\n    <tr>\n      <th>60d587b26b</th>\n      <td>0.026217</td>\n      <td>0.007001</td>\n      <td>1.000000</td>\n      <td>0.081927</td>\n      <td>0.017332</td>\n      <td>0.207157</td>\n      <td>0.008605</td>\n      <td>0.043884</td>\n      <td>0.037566</td>\n      <td>0.096308</td>\n      <td>...</td>\n      <td>0.032897</td>\n      <td>0.057700</td>\n      <td>0.032771</td>\n      <td>0.031193</td>\n      <td>0.045485</td>\n      <td>0.070115</td>\n      <td>0.039574</td>\n      <td>0.027027</td>\n      <td>0.036325</td>\n      <td>0.074607</td>\n    </tr>\n    <tr>\n      <th>7e41c984d6</th>\n      <td>0.014202</td>\n      <td>0.031480</td>\n      <td>0.081927</td>\n      <td>1.000000</td>\n      <td>0.059339</td>\n      <td>0.184654</td>\n      <td>0.068163</td>\n      <td>0.102089</td>\n      <td>0.113964</td>\n      <td>0.027635</td>\n      <td>...</td>\n      <td>0.038491</td>\n      <td>0.061879</td>\n      <td>0.065827</td>\n      <td>0.033855</td>\n      <td>0.049380</td>\n      <td>0.319063</td>\n      <td>0.073876</td>\n      <td>0.032556</td>\n      <td>0.051875</td>\n      <td>0.092907</td>\n    </tr>\n    <tr>\n      <th>419438a7cf</th>\n      <td>0.051022</td>\n      <td>0.076984</td>\n      <td>0.017332</td>\n      <td>0.059339</td>\n      <td>1.000000</td>\n      <td>0.098044</td>\n      <td>0.033297</td>\n      <td>0.056125</td>\n      <td>0.075210</td>\n      <td>0.036086</td>\n      <td>...</td>\n      <td>0.024760</td>\n      <td>0.104892</td>\n      <td>0.055313</td>\n      <td>0.056337</td>\n      <td>0.057982</td>\n      <td>0.064855</td>\n      <td>0.261114</td>\n      <td>0.090482</td>\n      <td>0.064953</td>\n      <td>0.057464</td>\n    </tr>\n    <tr>\n      <th>...</th>\n      <td>...</td>\n      <td>...</td>\n      <td>...</td>\n      <td>...</td>\n      <td>...</td>\n      <td>...</td>\n      <td>...</td>\n      <td>...</td>\n      <td>...</td>\n      <td>...</td>\n      <td>...</td>\n      <td>...</td>\n      <td>...</td>\n      <td>...</td>\n      <td>...</td>\n      <td>...</td>\n      <td>...</td>\n      <td>...</td>\n      <td>...</td>\n      <td>...</td>\n      <td>...</td>\n    </tr>\n    <tr>\n      <th>174be11c63</th>\n      <td>0.035567</td>\n      <td>0.061224</td>\n      <td>0.070115</td>\n      <td>0.319063</td>\n      <td>0.064855</td>\n      <td>0.271727</td>\n      <td>0.050959</td>\n      <td>0.061205</td>\n      <td>0.095004</td>\n      <td>0.068147</td>\n      <td>...</td>\n      <td>0.074420</td>\n      <td>0.068578</td>\n      <td>0.024816</td>\n      <td>0.074241</td>\n      <td>0.053551</td>\n      <td>1.000000</td>\n      <td>0.064713</td>\n      <td>0.049665</td>\n      <td>0.107490</td>\n      <td>0.122026</td>\n    </tr>\n    <tr>\n      <th>3bac2c373a</th>\n      <td>0.005617</td>\n      <td>0.023737</td>\n      <td>0.039574</td>\n      <td>0.073876</td>\n      <td>0.261114</td>\n      <td>0.100486</td>\n      <td>0.178428</td>\n      <td>0.010146</td>\n      <td>0.232419</td>\n      <td>0.066510</td>\n      <td>...</td>\n      <td>0.018859</td>\n      <td>0.169763</td>\n      <td>0.020962</td>\n      <td>0.095908</td>\n      <td>0.097255</td>\n      <td>0.064713</td>\n      <td>1.000000</td>\n      <td>0.061114</td>\n      <td>0.150152</td>\n      <td>0.017413</td>\n    </tr>\n    <tr>\n      <th>1724848bd1</th>\n      <td>0.012290</td>\n      <td>0.021546</td>\n      <td>0.027027</td>\n      <td>0.032556</td>\n      <td>0.090482</td>\n      <td>0.060427</td>\n      <td>0.062096</td>\n      <td>0.018168</td>\n      <td>0.015272</td>\n      <td>0.060530</td>\n      <td>...</td>\n      <td>0.018287</td>\n      <td>0.032521</td>\n      <td>0.022854</td>\n      <td>0.106004</td>\n      <td>0.077359</td>\n      <td>0.049665</td>\n      <td>0.061114</td>\n      <td>1.000000</td>\n      <td>0.088757</td>\n      <td>0.016862</td>\n    </tr>\n    <tr>\n      <th>1edd0ac635</th>\n      <td>0.005863</td>\n      <td>0.014598</td>\n      <td>0.036325</td>\n      <td>0.051875</td>\n      <td>0.064953</td>\n      <td>0.142748</td>\n      <td>0.157363</td>\n      <td>0.026358</td>\n      <td>0.078139</td>\n      <td>0.030425</td>\n      <td>...</td>\n      <td>0.036260</td>\n      <td>0.044222</td>\n      <td>0.017714</td>\n      <td>0.079828</td>\n      <td>0.058991</td>\n      <td>0.107490</td>\n      <td>0.150152</td>\n      <td>0.088757</td>\n      <td>1.000000</td>\n      <td>0.012730</td>\n    </tr>\n    <tr>\n      <th>da991dd46a</th>\n      <td>0.021575</td>\n      <td>0.029312</td>\n      <td>0.074607</td>\n      <td>0.092907</td>\n      <td>0.057464</td>\n      <td>0.075584</td>\n      <td>0.025793</td>\n      <td>0.021612</td>\n      <td>0.011133</td>\n      <td>0.054884</td>\n      <td>...</td>\n      <td>0.056900</td>\n      <td>0.086641</td>\n      <td>0.049360</td>\n      <td>0.156308</td>\n      <td>0.028510</td>\n      <td>0.122026</td>\n      <td>0.017413</td>\n      <td>0.016862</td>\n      <td>0.012730</td>\n      <td>1.000000</td>\n    </tr>\n  </tbody>\n</table>\n<p>10000 rows × 10000 columns</p>\n</div>"
     },
     "execution_count": 18,
     "metadata": {},
     "output_type": "execute_result"
    }
   ],
   "source": [
    "similarities_df = pd.DataFrame(similarities,index=data_df.index, columns=data_df.index)\n",
    "similarities_df"
   ],
   "metadata": {
    "collapsed": false,
    "pycharm": {
     "name": "#%%\n"
    }
   }
  },
  {
   "cell_type": "markdown",
   "source": [
    "## Save"
   ],
   "metadata": {
    "collapsed": false,
    "pycharm": {
     "name": "#%% md\n"
    }
   }
  },
  {
   "cell_type": "code",
   "execution_count": 19,
   "outputs": [],
   "source": [
    "pkl.dump(similarities_df, open(f'{path2root}/data/tf_idf_similarities.pkl', 'wb'))"
   ],
   "metadata": {
    "collapsed": false,
    "pycharm": {
     "name": "#%%\n"
    }
   }
  }
 ],
 "metadata": {
  "kernelspec": {
   "display_name": "Python 3",
   "language": "python",
   "name": "python3"
  },
  "language_info": {
   "codemirror_mode": {
    "name": "ipython",
    "version": 2
   },
   "file_extension": ".py",
   "mimetype": "text/x-python",
   "name": "python",
   "nbconvert_exporter": "python",
   "pygments_lexer": "ipython2",
   "version": "2.7.6"
  }
 },
 "nbformat": 4,
 "nbformat_minor": 0
}