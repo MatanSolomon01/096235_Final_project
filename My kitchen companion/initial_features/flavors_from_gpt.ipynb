{
 "cells": [
  {
   "cell_type": "markdown",
   "source": [
    "# Data Exploration"
   ],
   "metadata": {
    "collapsed": false
   }
  },
  {
   "cell_type": "markdown",
   "source": [
    "## Imports"
   ],
   "metadata": {
    "collapsed": false
   }
  },
  {
   "cell_type": "code",
   "execution_count": 3,
   "outputs": [],
   "source": [
    "import string\n",
    "\n",
    "import pandas as pd\n",
    "import matplotlib.pyplot as plt\n",
    "import numpy as np\n",
    "import pickle as pkl\n",
    "from collections import Counter\n",
    "import re\n",
    "from collections import defaultdict\n"
   ],
   "metadata": {
    "collapsed": false,
    "pycharm": {
     "name": "#%%\n"
    }
   }
  },
  {
   "cell_type": "markdown",
   "source": [
    "## Load the data"
   ],
   "metadata": {
    "collapsed": false
   }
  },
  {
   "cell_type": "code",
   "execution_count": 4,
   "outputs": [],
   "source": [
    "with open('data/data_df.pkl', 'rb') as f:\n",
    "    data = pkl.load(f)\n",
    "    first_ingredients = pkl.load(open('data/initial_features/flavors/first_ingredients.pkl', 'rb'))\n",
    "# first_ingredients = [ing.replace(' ', '').lower() for ing in first_ingredients]"
   ],
   "metadata": {
    "collapsed": false,
    "pycharm": {
     "name": "#%%\n"
    }
   }
  },
  {
   "cell_type": "markdown",
   "source": [
    "## Query generator"
   ],
   "metadata": {
    "collapsed": false,
    "pycharm": {
     "name": "#%% md\n"
    }
   }
  },
  {
   "cell_type": "code",
   "execution_count": 130,
   "outputs": [
    {
     "name": "stdout",
     "output_type": "stream",
     "text": [
      "1275 Classify each of the following ingredients into 'Sweet' / 'Salty' / 'Sour' / 'Spicy'/ 'Other' :\n",
      "'sesamedressing', 'frozenlimeadeconcentrate', 'brownmustardseeds', 'driedbeef', 'breadcubes', 'spicedrum', 'wholecorianderseeds', 'finesugar', 'sweetcorn', 'groundceleryseed', 'unsaltednuts', 'buttermilkpancakemix', 'fontinacheese', 'blackmustardseeds', 'smoothcashewbutter', 'darkcremedecacao', 'virginoliveoil', 'almondpaste', 'semisweetminichocolatechips', 'pinkgrapefruitjuice', 'texturedvegetableprotein', 'passionfruitjuice', 'pineapplesherbet', 'peppermintoil', 'picklerelish'.\n",
      "\n"
     ]
    }
   ],
   "source": [
    "ingredients = list(set(data['ingredients_2'].explode()))[1:]\n",
    "length = 1500\n",
    "start = 366+89+86+90+87+79+80+84+80+78+79+77\n",
    "ingredients_str = \"\"\"\"\"\"\n",
    "for i, w in enumerate(first_ingredients[start:]):\n",
    "    ingredients_str += f\"\"\"'{w}', \"\"\"\n",
    "    if len(ingredients_str) > length:\n",
    "        print(i)\n",
    "        break\n",
    "query = f\"\"\"Classify each of the following ingredients into 'Sweet' / 'Salty' / 'Sour' / 'Spicy'/ 'Other' :\n",
    "{ingredients_str[:-2]}.\n",
    "\"\"\"\n",
    "print(start,query)"
   ],
   "metadata": {
    "collapsed": false,
    "pycharm": {
     "name": "#%%\n"
    }
   }
  },
  {
   "cell_type": "markdown",
   "source": [
    "## Extract flavor"
   ],
   "metadata": {
    "collapsed": false
   }
  },
  {
   "cell_type": "code",
   "execution_count": 10,
   "outputs": [],
   "source": [
    "flavors = {}"
   ],
   "metadata": {
    "collapsed": false,
    "pycharm": {
     "name": "#%%\n"
    }
   }
  },
  {
   "cell_type": "code",
   "execution_count": 46,
   "outputs": [],
   "source": [
    "epoch = 7"
   ],
   "metadata": {
    "collapsed": false,
    "pycharm": {
     "name": "#%%\n"
    }
   }
  },
  {
   "cell_type": "markdown",
   "source": [
    "### Format A"
   ],
   "metadata": {
    "collapsed": false
   }
  },
  {
   "cell_type": "code",
   "execution_count": 74,
   "outputs": [],
   "source": [
    "temp_dict = {}"
   ],
   "metadata": {
    "collapsed": false,
    "pycharm": {
     "name": "#%%\n"
    }
   }
  },
  {
   "cell_type": "code",
   "execution_count": 75,
   "outputs": [
    {
     "data": {
      "text/plain": "['sweet:candycorn,orangesherbet,caramelicecreamtopping,raisins,vanillasugar,fruit,mixedberries,unsweetenedalmondmilk,driedpineapple',\n 'salty:unsalteddryroastedpeanuts,chexcereal,kraftgratedparmesancheese,beefbouillongranules,porkbabybackribs,picklingsalt',\n 'sour:',\n 'spicy:chinesefivespicepowder,cayennepowder',\n 'other:choppedtomatoes,cacao,grapetomatoes,low-fatplainyogurt,pankobreadcrumbs,toastedwheatgerm,freshbroccoli,quick-cookingoatmeal,frozenspinach,garlicgranules,cookedbrownrice,1%low-fatmilk,cookedchickenbreasts,mascarponecheese,instantmincedgarlic,instantnonfatdrymilkpowder,brownriceflour,driedoreganoleaves,creamofmushroomsoup,porkloin,arugula.']"
     },
     "execution_count": 75,
     "metadata": {},
     "output_type": "execute_result"
    }
   ],
   "source": [
    "text = \"\"\"Sweet: cremedecacao, sweetbutter, semisweetveganchocolatechips, m&m'splainchocolatecandy, whitegrapejuice, cranberryjuicecocktail, carobpowder, orangeblossomwater, applepiespice, driedcurrants\n",
    "Salty: americancheese, unsaltedsunflowerseeds, saltedcashews\n",
    "Sour: sherrywinevinegar\n",
    "Spicy:\n",
    "Other: garliccloves, garbanzobeans, old-fashionedoatmeal, longgrainwhiterice, low-fatcreamcheese, waterchestnuts, freshbroccoliflorets, pork, unsweetenedcoconutmilk, beefstock, cardamomseeds, groundpork, yellowsquash, greenolives, puffedricecereal, freshitalianparsley, bulgur, kielbasa, babyspinachleaves, freshyeast, buckwheatflour, pintobeans, barleyflour, yoghurt, soup, pork sausage, seasoned rice vinegar, sun-dried tomatoes packed in oil, fat-freebuttermilk.\"\"\"\n",
    "text = text.lower().replace(' ', '').split('\\n')\n",
    "text"
   ],
   "metadata": {
    "collapsed": false,
    "pycharm": {
     "name": "#%%\n"
    }
   }
  },
  {
   "cell_type": "code",
   "execution_count": 76,
   "outputs": [
    {
     "data": {
      "text/plain": "{'sweet': ['sweet',\n  'candycorn',\n  'orangesherbet',\n  'caramelicecreamtopping',\n  'raisins',\n  'vanillasugar',\n  'fruit',\n  'mixedberries',\n  'unsweetenedalmondmilk',\n  'driedpineapple'],\n 'salty': ['salty',\n  'unsalteddryroastedpeanuts',\n  'chexcereal',\n  'kraftgratedparmesancheese',\n  'beefbouillongranules',\n  'porkbabybackribs',\n  'picklingsalt'],\n 'sour': ['sour', ''],\n 'spicy': ['spicy', 'chinesefivespicepowder', 'cayennepowder'],\n 'other': ['other',\n  'choppedtomatoes',\n  'cacao',\n  'grapetomatoes',\n  'low-fatplainyogurt',\n  'pankobreadcrumbs',\n  'toastedwheatgerm',\n  'freshbroccoli',\n  'quick-cookingoatmeal',\n  'frozenspinach',\n  'garlicgranules',\n  'cookedbrownrice',\n  '1%low-fatmilk',\n  'cookedchickenbreasts',\n  'mascarponecheese',\n  'instantmincedgarlic',\n  'instantnonfatdrymilkpowder',\n  'brownriceflour',\n  'driedoreganoleaves',\n  'creamofmushroomsoup',\n  'porkloin',\n  'arugula.']}"
     },
     "execution_count": 76,
     "metadata": {},
     "output_type": "execute_result"
    }
   ],
   "source": [
    "keys = ['sweet', 'salty', 'sour', 'spicy', 'other']\n",
    "if len(text) != len(keys):\n",
    "    print(len(text) ,len(keys))\n",
    "    assert len(text) == len(keys)\n",
    "text_dict = {keys[i]:re.split(r':|,', text[i]) for i in range(len(text))}\n",
    "text_dict"
   ],
   "metadata": {
    "collapsed": false,
    "pycharm": {
     "name": "#%%\n"
    }
   }
  },
  {
   "cell_type": "code",
   "execution_count": 77,
   "outputs": [],
   "source": [
    "for ingredient in first_ingredients:\n",
    "    for f, t in text_dict.items():\n",
    "        if ingredient in t:\n",
    "            temp_dict[ingredient] = f"
   ],
   "metadata": {
    "collapsed": false,
    "pycharm": {
     "name": "#%%\n"
    }
   }
  },
  {
   "cell_type": "code",
   "execution_count": 79,
   "outputs": [
    {
     "data": {
      "text/plain": "(10,\n {'raisins': 'sweet',\n  'porkloin': 'other',\n  'candycorn': 'sweet',\n  'choppedtomatoes': 'other',\n  'cacao': 'other',\n  'grapetomatoes': 'other',\n  'orangesherbet': 'sweet',\n  'caramelicecreamtopping': 'sweet',\n  'unsalteddryroastedpeanuts': 'salty',\n  'driedoreganoleaves': 'other',\n  'creamofmushroomsoup': 'other',\n  'low-fatplainyogurt': 'other',\n  'chexcereal': 'salty',\n  'chinesefivespicepowder': 'spicy',\n  'pankobreadcrumbs': 'other',\n  'kraftgratedparmesancheese': 'salty',\n  'toastedwheatgerm': 'other',\n  'porkbabybackribs': 'salty',\n  'freshbroccoli': 'other',\n  'quick-cookingoatmeal': 'other',\n  'frozenspinach': 'other',\n  'garlicgranules': 'other',\n  'cayennepowder': 'spicy',\n  'cookedbrownrice': 'other',\n  'beefbouillongranules': 'salty',\n  '1%low-fatmilk': 'other',\n  'cookedchickenbreasts': 'other',\n  'mascarponecheese': 'other',\n  'instantmincedgarlic': 'other',\n  'vanillasugar': 'sweet',\n  'fruit': 'sweet',\n  'unsweetenedalmondmilk': 'sweet',\n  'mixedberries': 'sweet',\n  'driedpineapple': 'sweet',\n  'picklingsalt': 'salty',\n  'instantnonfatdrymilkpowder': 'other',\n  'brownriceflour': 'other'})"
     },
     "execution_count": 79,
     "metadata": {},
     "output_type": "execute_result"
    }
   ],
   "source": [
    "epoch,temp_dict"
   ],
   "metadata": {
    "collapsed": false,
    "pycharm": {
     "name": "#%%\n"
    }
   }
  },
  {
   "cell_type": "code",
   "execution_count": 80,
   "outputs": [],
   "source": [
    "pkl.dump(temp_dict, open(f'data/initial_features/flavors/temp_dict_{epoch}', 'wb'))\n",
    "temp_dict={}\n",
    "epoch += 1"
   ],
   "metadata": {
    "collapsed": false,
    "pycharm": {
     "name": "#%%\n"
    }
   }
  },
  {
   "cell_type": "markdown",
   "source": [
    "### Format B"
   ],
   "metadata": {
    "collapsed": false,
    "pycharm": {
     "name": "#%% md\n"
    }
   }
  },
  {
   "cell_type": "code",
   "execution_count": 116,
   "outputs": [],
   "source": [
    "temp_dict = {}"
   ],
   "metadata": {
    "collapsed": false,
    "pycharm": {
     "name": "#%%\n"
    }
   }
  },
  {
   "cell_type": "code",
   "execution_count": 131,
   "outputs": [
    {
     "name": "stdout",
     "output_type": "stream",
     "text": [
      "[['sesamedressing', 'other'], ['frozenlimeadeconcentrate', 'sweet'], ['brownmustardseeds', 'spicy'], ['driedbeef', 'salty'], ['breadcubes', 'other'], ['spicedrum', 'other'], ['wholecorianderseeds', 'other'], ['finesugar', 'sweet'], ['sweetcorn', 'other'], ['groundceleryseed', 'other'], ['unsaltednuts', 'other'], ['buttermilkpancakemix', 'other'], ['fontinacheese', 'other'], ['blackmustardseeds', 'spicy'], ['smoothcashewbutter', 'other'], ['darkcremedecacao', 'sweet'], ['virginoliveoil', 'other'], ['almondpaste', 'other'], ['semisweetminichocolatechips', 'sweet'], ['pinkgrapefruitjuice', 'sour'], ['texturedvegetableprotein', 'other'], ['passionfruitjuice', 'sour'], ['pineapplesherbet', 'other'], ['peppermintoil', 'other'], ['picklerelish', 'sour']]\n"
     ]
    }
   ],
   "source": [
    "text = \"\"\"sesamedressing: Other\n",
    "frozenlimeadeconcentrate: Sweet\n",
    "brownmustardseeds: Spicy\n",
    "driedbeef: Salty\n",
    "breadcubes: Other\n",
    "spicedrum: Other\n",
    "wholecorianderseeds: Other\n",
    "finesugar: Sweet\n",
    "sweetcorn: Other\n",
    "groundceleryseed: Other\n",
    "unsaltednuts: Other\n",
    "buttermilkpancakemix: Other\n",
    "fontinacheese: Other\n",
    "blackmustardseeds: Spicy\n",
    "smoothcashewbutter: Other\n",
    "darkcremedecacao: Sweet\n",
    "virginoliveoil: Other\n",
    "almondpaste: Other\n",
    "semisweetminichocolatechips: Sweet\n",
    "pinkgrapefruitjuice: Sour\n",
    "texturedvegetableprotein: Other\n",
    "passionfruitjuice: Sour\n",
    "pineapplesherbet: Other\n",
    "peppermintoil: Other\n",
    "picklerelish: Sour\"\"\"\n",
    "text = text.lower()\n",
    "text = text.replace(' ', '').split('\\n')\n",
    "text = [re.split(r':|;|:', pair) for pair in text]\n",
    "print(text)"
   ],
   "metadata": {
    "collapsed": false,
    "pycharm": {
     "name": "#%%\n"
    }
   }
  },
  {
   "cell_type": "code",
   "execution_count": 132,
   "outputs": [],
   "source": [
    "for ingredient in first_ingredients:\n",
    "    for l in text:\n",
    "        if len(l) > 2:\n",
    "            print(l)\n",
    "        t, f = l\n",
    "        if ingredient == t:\n",
    "            temp_dict[ingredient] = f"
   ],
   "metadata": {
    "collapsed": false,
    "pycharm": {
     "name": "#%%\n"
    }
   }
  },
  {
   "cell_type": "code",
   "execution_count": 133,
   "outputs": [
    {
     "data": {
      "text/plain": "(17,\n {'sesamedressing': 'other',\n  'frozenlimeadeconcentrate': 'sweet',\n  'brownmustardseeds': 'spicy',\n  'driedbeef': 'salty',\n  'breadcubes': 'other',\n  'spicedrum': 'other',\n  'wholecorianderseeds': 'other',\n  'finesugar': 'sweet',\n  'sweetcorn': 'other',\n  'groundceleryseed': 'other',\n  'unsaltednuts': 'other',\n  'buttermilkpancakemix': 'other',\n  'fontinacheese': 'other',\n  'blackmustardseeds': 'spicy',\n  'smoothcashewbutter': 'other',\n  'darkcremedecacao': 'sweet',\n  'virginoliveoil': 'other',\n  'almondpaste': 'other',\n  'semisweetminichocolatechips': 'sweet',\n  'pinkgrapefruitjuice': 'sour',\n  'texturedvegetableprotein': 'other',\n  'passionfruitjuice': 'sour',\n  'pineapplesherbet': 'other',\n  'peppermintoil': 'other',\n  'picklerelish': 'sour'})"
     },
     "execution_count": 133,
     "metadata": {},
     "output_type": "execute_result"
    }
   ],
   "source": [
    "epoch, temp_dict"
   ],
   "metadata": {
    "collapsed": false,
    "pycharm": {
     "name": "#%%\n"
    }
   }
  },
  {
   "cell_type": "code",
   "execution_count": 134,
   "outputs": [],
   "source": [
    "pkl.dump(temp_dict, open(f'data/initial_features/flavors/temp_dict_{epoch}', 'wb'))\n",
    "temp_dict = {}\n",
    "epoch += 1"
   ],
   "metadata": {
    "collapsed": false,
    "pycharm": {
     "name": "#%%\n"
    }
   }
  },
  {
   "cell_type": "markdown",
   "source": [
    "## Union all dictionaries"
   ],
   "metadata": {
    "collapsed": false,
    "pycharm": {
     "name": "#%% md\n"
    }
   }
  },
  {
   "cell_type": "code",
   "execution_count": 146,
   "outputs": [
    {
     "data": {
      "text/plain": "Counter({'salty': 74,\n         'sweet': 208,\n         'other': 747,\n         'sour': 75,\n         'spicy': 61,\n         'othe': 1})"
     },
     "execution_count": 146,
     "metadata": {},
     "output_type": "execute_result"
    }
   ],
   "source": [
    "ingredients_flavor = {}\n",
    "for i in range(18):\n",
    "    tmp_dict = pkl.load( open(f'data/initial_features/flavors/temp_dict_{i}', 'rb'))\n",
    "    ingredients_flavor.update(tmp_dict)\n",
    "lower_dict = {k:v.lower() for k,v in ingredients_flavor.items()}\n",
    "pkl.dump(lower_dict, open(f'data/initial_features/flavors/ingredients_flavor.pkl', 'wb'))\n",
    "\n",
    "Counter(lower_dict.values())"
   ],
   "metadata": {
    "collapsed": false,
    "pycharm": {
     "name": "#%%\n"
    }
   }
  }
 ],
 "metadata": {
  "kernelspec": {
   "display_name": "Python 3",
   "language": "python",
   "name": "python3"
  },
  "language_info": {
   "codemirror_mode": {
    "name": "ipython",
    "version": 2
   },
   "file_extension": ".py",
   "mimetype": "text/x-python",
   "name": "python",
   "nbconvert_exporter": "python",
   "pygments_lexer": "ipython2",
   "version": "2.7.6"
  }
 },
 "nbformat": 4,
 "nbformat_minor": 0
}