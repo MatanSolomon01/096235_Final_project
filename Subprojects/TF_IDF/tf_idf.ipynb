{
 "cells": [
  {
   "cell_type": "markdown",
   "metadata": {
    "collapsed": true,
    "pycharm": {
     "name": "#%% md\n"
    }
   },
   "source": [
    "# TF IDF demo"
   ]
  },
  {
   "cell_type": "code",
   "execution_count": 6,
   "outputs": [],
   "source": [
    "from sklearn.feature_extraction.text import TfidfVectorizer"
   ],
   "metadata": {
    "collapsed": false,
    "pycharm": {
     "name": "#%%\n"
    }
   }
  },
  {
   "cell_type": "markdown",
   "source": [
    "## General example"
   ],
   "metadata": {
    "collapsed": false,
    "pycharm": {
     "name": "#%% md\n"
    }
   }
  },
  {
   "cell_type": "code",
   "execution_count": 26,
   "outputs": [
    {
     "data": {
      "text/plain": "array(['and', 'document', 'first', 'is', 'one', 'second', 'the', 'third',\n       'this'], dtype=object)"
     },
     "execution_count": 26,
     "metadata": {},
     "output_type": "execute_result"
    }
   ],
   "source": [
    "corpus = ['This is the first document.',\n",
    "          'This document is the second document.',\n",
    "          'And this is the third one.',\n",
    "          'Is this the first document?']\n",
    "vectorizer = TfidfVectorizer(stop_words='english')\n",
    "X = vectorizer.fit_transform(corpus)\n",
    "vectorizer.get_feature_names_out()"
   ],
   "metadata": {
    "collapsed": false,
    "pycharm": {
     "name": "#%%\n"
    }
   }
  },
  {
   "cell_type": "code",
   "execution_count": 27,
   "outputs": [
    {
     "data": {
      "text/plain": "(4, 9)"
     },
     "execution_count": 27,
     "metadata": {},
     "output_type": "execute_result"
    }
   ],
   "source": [
    "X.shape"
   ],
   "metadata": {
    "collapsed": false,
    "pycharm": {
     "name": "#%%\n"
    }
   }
  },
  {
   "cell_type": "code",
   "execution_count": 28,
   "outputs": [
    {
     "data": {
      "text/plain": "        and  document     first        is       one    second       the  \\\n0  0.000000  0.469791  0.580286  0.384085  0.000000  0.000000  0.384085   \n1  0.000000  0.687624  0.000000  0.281089  0.000000  0.538648  0.281089   \n2  0.511849  0.000000  0.000000  0.267104  0.511849  0.000000  0.267104   \n3  0.000000  0.469791  0.580286  0.384085  0.000000  0.000000  0.384085   \n\n      third      this  \n0  0.000000  0.384085  \n1  0.000000  0.281089  \n2  0.511849  0.267104  \n3  0.000000  0.384085  ",
      "text/html": "<div>\n<style scoped>\n    .dataframe tbody tr th:only-of-type {\n        vertical-align: middle;\n    }\n\n    .dataframe tbody tr th {\n        vertical-align: top;\n    }\n\n    .dataframe thead th {\n        text-align: right;\n    }\n</style>\n<table border=\"1\" class=\"dataframe\">\n  <thead>\n    <tr style=\"text-align: right;\">\n      <th></th>\n      <th>and</th>\n      <th>document</th>\n      <th>first</th>\n      <th>is</th>\n      <th>one</th>\n      <th>second</th>\n      <th>the</th>\n      <th>third</th>\n      <th>this</th>\n    </tr>\n  </thead>\n  <tbody>\n    <tr>\n      <th>0</th>\n      <td>0.000000</td>\n      <td>0.469791</td>\n      <td>0.580286</td>\n      <td>0.384085</td>\n      <td>0.000000</td>\n      <td>0.000000</td>\n      <td>0.384085</td>\n      <td>0.000000</td>\n      <td>0.384085</td>\n    </tr>\n    <tr>\n      <th>1</th>\n      <td>0.000000</td>\n      <td>0.687624</td>\n      <td>0.000000</td>\n      <td>0.281089</td>\n      <td>0.000000</td>\n      <td>0.538648</td>\n      <td>0.281089</td>\n      <td>0.000000</td>\n      <td>0.281089</td>\n    </tr>\n    <tr>\n      <th>2</th>\n      <td>0.511849</td>\n      <td>0.000000</td>\n      <td>0.000000</td>\n      <td>0.267104</td>\n      <td>0.511849</td>\n      <td>0.000000</td>\n      <td>0.267104</td>\n      <td>0.511849</td>\n      <td>0.267104</td>\n    </tr>\n    <tr>\n      <th>3</th>\n      <td>0.000000</td>\n      <td>0.469791</td>\n      <td>0.580286</td>\n      <td>0.384085</td>\n      <td>0.000000</td>\n      <td>0.000000</td>\n      <td>0.384085</td>\n      <td>0.000000</td>\n      <td>0.384085</td>\n    </tr>\n  </tbody>\n</table>\n</div>"
     },
     "execution_count": 28,
     "metadata": {},
     "output_type": "execute_result"
    }
   ],
   "source": [
    "pd.DataFrame(X.toarray(), columns=vectorizer.get_feature_names_out())"
   ],
   "metadata": {
    "collapsed": false,
    "pycharm": {
     "name": "#%%\n"
    }
   }
  },
  {
   "cell_type": "markdown",
   "source": [
    "## Our data"
   ],
   "metadata": {
    "collapsed": false,
    "pycharm": {
     "name": "#%% md\n"
    }
   }
  },
  {
   "cell_type": "code",
   "execution_count": 20,
   "outputs": [],
   "source": [
    "import pickle as pkl"
   ],
   "metadata": {
    "collapsed": false,
    "pycharm": {
     "name": "#%%\n"
    }
   }
  },
  {
   "cell_type": "code",
   "execution_count": null,
   "outputs": [],
   "source": [
    "num_recipes = 10000"
   ],
   "metadata": {
    "collapsed": false,
    "pycharm": {
     "name": "#%%\n"
    }
   }
  },
  {
   "cell_type": "code",
   "execution_count": 82,
   "outputs": [],
   "source": [
    "data = pkl.load(open('data_df.pkl','rb'))\n",
    "data = data.iloc[:num_recipes, :]\n",
    "f = lambda x: f\"\"\"{x['title_1']}\\n{\"; \".join(x['ingredients_3'])}\\n{\"; \".join(x['instructions_3'])}\"\"\"\n",
    "data['text'] = data.apply(f, axis=1)"
   ],
   "metadata": {
    "collapsed": false,
    "pycharm": {
     "name": "#%%\n"
    }
   }
  },
  {
   "cell_type": "code",
   "execution_count": 71,
   "outputs": [],
   "source": [
    "vectorizer = TfidfVectorizer(stop_words='english')\n",
    "tf_idfs = vectorizer.fit_transform(data['text'].values)"
   ],
   "metadata": {
    "collapsed": false,
    "pycharm": {
     "name": "#%%\n"
    }
   }
  },
  {
   "cell_type": "code",
   "execution_count": 72,
   "outputs": [
    {
     "data": {
      "text/plain": "array(['00', '02', '07', ..., 'zoom', 'zucchini', 'zylitol'], dtype=object)"
     },
     "execution_count": 72,
     "metadata": {},
     "output_type": "execute_result"
    }
   ],
   "source": [
    "vectorizer.get_feature_names_out()"
   ],
   "metadata": {
    "collapsed": false,
    "pycharm": {
     "name": "#%%\n"
    }
   }
  },
  {
   "cell_type": "code",
   "execution_count": 73,
   "outputs": [],
   "source": [
    "from sklearn.metrics.pairwise import cosine_similarity\n",
    "from scipy import sparse\n",
    "\n",
    "tf_idfs = sparse.csr_matrix(tf_idfs)\n",
    "similarities = cosine_similarity(tf_idfs)"
   ],
   "metadata": {
    "collapsed": false,
    "pycharm": {
     "name": "#%%\n"
    }
   }
  },
  {
   "cell_type": "code",
   "execution_count": 81,
   "outputs": [
    {
     "data": {
      "text/plain": "array([[1.        , 0.07804269, 0.00785451, ..., 0.01061459, 0.0379411 ,\n        0.02123816],\n       [0.07804269, 1.        , 0.0526755 , ..., 0.03191065, 0.11310457,\n        0.12676689],\n       [0.00785451, 0.0526755 , 1.        , ..., 0.03284432, 0.03249093,\n        0.04900683],\n       ...,\n       [0.01061459, 0.03191065, 0.03284432, ..., 1.        , 0.01573386,\n        0.05786103],\n       [0.0379411 , 0.11310457, 0.03249093, ..., 0.01573386, 1.        ,\n        0.08762453],\n       [0.02123816, 0.12676689, 0.04900683, ..., 0.05786103, 0.08762453,\n        1.        ]])"
     },
     "execution_count": 81,
     "metadata": {},
     "output_type": "execute_result"
    }
   ],
   "source": [
    "similarities"
   ],
   "metadata": {
    "collapsed": false,
    "pycharm": {
     "name": "#%%\n"
    }
   }
  }
 ],
 "metadata": {
  "kernelspec": {
   "display_name": "Python 3",
   "language": "python",
   "name": "python3"
  },
  "language_info": {
   "codemirror_mode": {
    "name": "ipython",
    "version": 2
   },
   "file_extension": ".py",
   "mimetype": "text/x-python",
   "name": "python",
   "nbconvert_exporter": "python",
   "pygments_lexer": "ipython2",
   "version": "2.7.6"
  }
 },
 "nbformat": 4,
 "nbformat_minor": 0
}